{
 "cells": [
  {
   "cell_type": "markdown",
   "metadata": {},
   "source": [
    "## IMPORTANT!!\n",
    "\n",
    "### From the root NetworkML directory, make sure you first run:\n",
    "```\n",
    "pip3 install .\n",
    "pip3 install nest_asyncio\n",
    "```\n",
    "\n",
    "NOTE: nest_asyncio is a needed hack to run this in jupyterlab/notebook. Additionally, you will also need to download Wireshark/tshark in order to use this notebook and then ensure that tshark is in the file path."
   ]
  },
  {
   "cell_type": "code",
   "execution_count": 1,
   "metadata": {},
   "outputs": [],
   "source": [
    "# some initial setup\n",
    "import sys\n",
    "\n",
    "# let's set a path to a pcap (we'll use one included in the tests)\n",
    "path = '../tests/test_data/trace_ab12_2001-01-01_02_03-client-ip-1-2-3-4.pcap'\n",
    "\n",
    "# let's change the output so it's easy to find\n",
    "output = 'trace_ab12_2001-01-01_02_03-client-ip-1-2-3-4.pcap.csv.gz'\n",
    "\n",
    "# set arguments for arg parse\n",
    "sys.argv = ['pcap_to_csv.py', f'-o{output}', path]"
   ]
  },
  {
   "cell_type": "code",
   "execution_count": 2,
   "metadata": {},
   "outputs": [
    {
     "name": "stderr",
     "output_type": "stream",
     "text": [
      "INFO:networkml.parsers.pcap_to_csv:Processing ../tests/test_data/trace_ab12_2001-01-01_02_03-client-ip-1-2-3-4.pcap\n",
      "INFO:networkml.parsers.pcap_to_csv:Finished ../tests/test_data/trace_ab12_2001-01-01_02_03-client-ip-1-2-3-4.pcap. 1/1 PCAPs done.\n",
      "INFO:networkml.parsers.pcap_to_csv:GZipped CSV file(s) written out to: ['trace_ab12_2001-01-01_02_03-client-ip-1-2-3-4.pcap.csv.gz']\n"
     ]
    },
    {
     "data": {
      "text/plain": [
       "''"
      ]
     },
     "execution_count": 2,
     "metadata": {},
     "output_type": "execute_result"
    }
   ],
   "source": [
    "# hack for jupyterlab since pyshark tries to take the main run loop\n",
    "import nest_asyncio\n",
    "nest_asyncio.apply()\n",
    "\n",
    "# import the class for converting PCAPs to CSVs\n",
    "from networkml.parsers.pcap_to_csv import PCAPToCSV\n",
    "instance = PCAPToCSV()\n",
    "\n",
    "# this will parse the args we specified above in sys.argv and run using them\n",
    "instance.main()\n",
    "\n",
    "# the will take a minute or so to run"
   ]
  },
  {
   "cell_type": "code",
   "execution_count": 3,
   "metadata": {},
   "outputs": [
    {
     "name": "stdout",
     "output_type": "stream",
     "text": [
      "OrderedDict([('dns.count.auth_rr', ''), ('tcp.segment_data', ''), ('tcp.ack', '1'), ('png.chunk.len', ''), ('tcp.analysis.rto', ''), ('frame.time_delta', '0.000000000'), ('http.set_cookie', ''), ('_ws.malformed.expert', ''), ('smb.file_attribute.not_content_indexed', ''), ('tcp.analysis.lost_segment', ''), ('tcp.options.eol', ''), ('ip.src', '192.168.3.131'), ('smb.signature', ''), ('dns.time', ''), ('tcp.flags.str', 'Â·Â·Â·Â·Â·Â·Â·APÂ·Â·Â·'), ('nbss.type', ''), ('smb.transaction.flags.owt', ''), ('browser.server_type.local', ''), ('browser.server_type.member', ''), ('smb.flags.oplock', ''), ('tcp.options.mss_val', ''), ('ssl.handshake.extensions_npn', ''), ('ssl.handshake.extensions_server_name', ''), ('smb.trans_name', ''), ('nbns.type', ''), ('dns.flags.authenticated', ''), ('png.chunk.type', ''), ('_ws.expert.group', '33554432'), ('smb.share.access.delete', ''), ('ip.dst_host', '72.14.213.138'), ('smb.nt.create_options.reserve_opfilter', ''), ('tcp.connection.rst', ''), ('image-jfif.sof.samples_per_line', ''), ('nbns.count.queries', ''), ('_ws.expert.message', 'GET /complete/search?client=chrome&hl=en-US&q=cr HTTP/1.1\\\\r\\\\n'), ('http.accept_language', 'en-US,en;q=0.8'), ('smb.flags2.ea', ''), ('ip.id', '0x000076e0'), ('_type', 'pcap_file'), ('tcp.analysis.ack_rtt', ''), ('bootp.flags.reserved', ''), ('snmp.request_id', ''), ('rss.channel.ttl', ''), ('image-jfif.sof.nf', ''), ('snmp.value.null', ''), ('smb.wct', ''), ('snmp.version', ''), ('tcp.flags.fin', '0'), ('snmp.data', ''), ('ssl.handshake.cipher_suites_length', ''), ('ssl.handshake.extensions_npn_str_len', ''), ('http.chat', ''), ('nbdgm.node_type', ''), ('smb.nt.create_options.sync_io_alert', ''), ('_score', ''), ('tcp.time_relative', '0.000000000'), ('udp.checksum', ''), ('tcp.ack.nonzero', ''), ('image-gif.local.color_map.present', ''), ('tcp.analysis.rto_frame', ''), ('smb.access.delete', ''), ('rss.channel.image.title', ''), ('_index', 'packets-2020-04-21'), ('tcp.options.mss', ''), ('http.request.uri', '/complete/search?client=chrome&hl=en-US&q=cr'), ('browser.period', ''), ('mailslot.name', ''), ('browser.server_type.browser.master', ''), ('smb.nt.create_options.no_ea_knowledge', ''), ('dns.flags.tentative', ''), ('nbdgm.src.port', ''), ('bootp.hops', ''), ('image-gif.local.color_bpp', ''), ('rtcp.mediassrc', ''), ('http.cookie_pair', 'NID=43=F_oSZWyo9Niadk17m65QtM9alBJQ4YL0B0yAP71ruNqa5sV4JORImsQovU1PW2PEII7a-5KUi4YCRMCeytuhiwkWgSlWtHEAj_nt_EF8y84MNmrtmRzK9Kth96N4-bPZ'), ('http.subdissector_failed', ''), ('smb.flags.response', ''), ('smb.access.generic_execute', ''), ('http.request.uri.query', 'client=chrome&hl=en-US&q=cr'), ('snmp.community', ''), ('http.chunk_size', ''), ('frame.time_relative', '0.000000000'), ('rss.channel.image.link', ''), ('http.response.line', ''), ('http.request', '1'), ('smb.response_to', ''), ('smb.access.read', ''), ('http.prev_response_in', ''), ('dns.flags.checkdisable', ''), ('rss.channel.image.url', ''), ('ssl.handshake', ''), ('image-gif.image.width', ''), ('smb.flags.receive_buffer', ''), ('udp.dstport', ''), ('mailslot.size', ''), ('tcp.options', ''), ('smb.last_write.time', ''), ('ip.dst', '72.14.213.138'), ('ip.flags.rb', '0'), ('ssl.handshake.extensions_status_request_responder_ids_len', ''), ('http.request.uri.path', '/complete/search'), ('smb.pid.high', ''), ('rtcp.padding', ''), ('tcp.reassembled.length', ''), ('rss.channel.item.description', ''), ('eth.dst_resolved', '00:1a:8c:15:f9:80'), ('icmp.seq_le', ''), ('icmp.ident', ''), ('tcp.len', '943'), ('image-jfif.sos.ns', ''), ('arp.opcode', ''), ('smb.flags2.long_names_used', ''), ('udp.stream', ''), ('rss.channel.item', ''), ('browser.server_type.novell', ''), ('tcp.analysis.bytes_in_flight', '943'), ('ip.frag_offset', '0'), ('tcp.options.sack', ''), ('browser.server_type.browser.potential', ''), ('http.cookie', 'PREF=ID=c2e350012258df1c:U=386a6ebef0db287c:FF=0:TM=1294164294:LM=1294164294:S=bcuwM6Vh5ecKxqmk; SID=DQAAAN4AAAB3Mw7hSAXm29svfZQxRhaEVL5x_7JEyWEywPtfIKmV2QMCZ61VfSvGxg-WCwS7OYnEonavdReiTgZ_3JalcPyInxYbHG668hbhfVRxCHWraC8lNhhhZvC45L32WDjkPRRy0qmoz_3SGzDDgumB2mgyjTHiqRdgEmopsEvouobSZDRxixXdANvTHyq85PmVnzKHK_-x7hVdYhu44J6P_oI4bZWnHA966Qna73q5YOPPevvZQVX8F71nVjDk4aJM5KhlAQwBDx5fzrV9Wk_R_Y-egz0sDL9oC3fBURGVwp4ywQ; HSID=AqgM3JlzrVA3Qkiyz; NID=43=F_oSZWyo9Niadk17m65QtM9alBJQ4YL0B0yAP71ruNqa5sV4JORImsQovU1PW2PEII7a-5KUi4YCRMCeytuhiwkWgSlWtHEAj_nt_EF8y84MNmrtmRzK9Kth96N4-bPZ'), ('tcp.stream', '0'), ('udp.length', ''), ('ssl.record.content_type', ''), ('dns.flags', ''), ('eth.addr', '40:61:86:9a:f1:f5'), ('image-gif.image.code_size', ''), ('smb.nt.create_options.sequential_only', ''), ('png.signature', ''), ('ssl.handshake.comp_methods_length', ''), ('browser.proto_major', ''), ('smb.nt.create_options.open_by_fileid', ''), ('icmp.seq', ''), ('smb.echo.count', ''), ('http.request.method', 'GET'), ('http.response_for.uri', ''), ('image-jfif.sof.v_i', ''), ('image-jfif.sos.ss', ''), ('image-jfif.entropy_coded_segment', ''), ('rtcp.pt', ''), ('bootp.ip.your', ''), ('ssl.handshake.version', ''), ('image-gif.global.color_map.present', ''), ('smb.flags', ''), ('arp.src.proto_ipv4', ''), ('dns.flags.conflict', ''), ('smb.access.delete_child', ''), ('smb.flags2.esn', ''), ('ssl.handshake.extension.len', ''), ('browser.server_type.browser.backup', ''), ('tcp.flags.reset', '0'), ('nat-pmp.external_port', ''), ('ip.proto', '6'), ('smb.uid', ''), ('tcp.analysis.acks_frame', ''), ('xml.unknown', ''), ('ip.dsfield.ecn', '0'), ('browser.server_type.wfw', ''), ('http.request.version', 'HTTP/1.1'), ('icmp.type', ''), ('nbss.flags.e', ''), ('tcp.option_kind', ''), ('tcp.connection.sack', ''), ('smb.file_attribute.normal', ''), ('smb.msc', ''), ('smb.nt.create_options.open_reparse_point', ''), ('nbdgm.src.ip', ''), ('tcp.flags.res', '0'), ('image-gif.data_block', ''), ('ssl.handshake.comp_method', ''), ('smb.share_access', ''), ('media.type', ''), ('smb.flags.caseless', ''), ('smb.flags2.string', ''), ('rss.channel.language', ''), ('browser.server_type.vms', ''), ('smb.access.read_ea', ''), ('http.chunk_boundary', ''), ('image-gif.local.color_map.ordered', ''), ('data-text-lines', ''), ('ip.ttl', '128'), ('smb.file_attribute.system', ''), ('smb.flags2', ''), ('nbns.flags.opcode', ''), ('smb.access.generic_all', ''), ('smb.error_class', ''), ('png.chunk.data', ''), ('ssl.handshake.extensions_length', ''), ('image-jfif.sof.h_i', ''), ('rss.channel.item.guid.ispermalink', ''), ('nbns.id', ''), ('smb.flags.canon', ''), ('smb.flags.lock', ''), ('nbns.flags.truncated', ''), ('browser.server_type.osf', ''), ('smb.nt.create_options.open_for_free_space_query', ''), ('browser.server_type.dfs', ''), ('nbss.length', ''), ('smb.file_attribute.temporary', ''), ('dns.resp.len', ''), ('dns.flags.recdesired', ''), ('xml.cdata', ''), ('eth.lg', '0'), ('arp.src.hw_mac', ''), ('smb.file_attribute.volume', ''), ('xml.xmlpi.xml', ''), ('png.ihdr.height', ''), ('http.content_length_header', ''), ('smb.file_attribute.encrypted', ''), ('ssl.handshake.extension.data', ''), ('smb.access.generic_write', ''), ('browser.command', ''), ('tcp.options.nop', ''), ('tcp.hdr_len', '20'), ('tcp.window_size_scalefactor', '-1'), ('nat-pmp.reserved', ''), ('smb.share.access.write', ''), ('smb.file_attribute', ''), ('icmp.unused', ''), ('smb.access.system_security', ''), ('bootp.type', ''), ('json.key', ''), ('smb.nt.create_options.non_directory', ''), ('_ws.malformed', ''), ('eth.src_resolved', '40:61:86:9a:f1:f5'), ('ssl.handshake.extensions_status_request_exts_len', ''), ('rss.channel.link', ''), ('smb.nt.create_options.directory', ''), ('ip.flags.mf', '0'), ('arp.dst.hw_mac', ''), ('smb.transaction.flags', ''), ('smb.security.flags.effective_only', ''), ('udp.srcport', ''), ('image-jfif.sof.tq_i', ''), ('nbns.class', ''), ('http.accept_encoding', 'gzip,deflate,sdch'), ('bootp.option.type', ''), ('png.phys.horiz', ''), ('nbdgm.flags', ''), ('ip.host', '72.14.213.138'), ('bootp.hw.type', ''), ('rtcp.psfb.fmt', ''), ('smb.mpc', ''), ('nat-pmp.opcode', ''), ('browser.proto_minor', ''), ('nbns.flags.broadcast', ''), ('smb.file_attribute.sparse', ''), ('tcp.seq', '1'), ('tcp.connection.fin', ''), ('dns.qry.name.len', ''), ('smb.nt.create_options.create_tree_connection', ''), ('smb.access.write_dac', ''), ('smb.impersonation.level', ''), ('smb.access.generic_read', ''), ('png.ihdr.width', ''), ('ssl.handshake.session_id_length', ''), ('rss.channel.item.category', ''), ('browser.server', ''), ('smb.file_attribute.compressed', ''), ('tcp.srcport', '57011'), ('image-jfif.sos.component_selector', ''), ('http.user_agent', 'Mozilla/5.0 (Windows; U; Windows NT 6.1; en-US) AppleWebKit/534.10 (KHTML, like Gecko) Chrome/8.0.552.237 Safari/534.10'), ('ip.version', '4'), ('png.chunk.flag.ancillary', ''), ('dns.count.answers', ''), ('more testing', ''), ('ip.hdr_len', '20'), ('icmp.resptime', ''), ('bootp.hw.addr_padding', ''), ('smb.create_options', ''), ('browser.server_type.workstation', ''), ('ssl.handshake.session_id', ''), ('smb.file_attribute.device', ''), ('tcp.flags.cwr', '0'), ('smb.access.maximum_allowed', ''), ('dns.cname', ''), ('ssl.record.version', ''), ('http.content_type', ''), ('dns.retransmit_request_in', ''), ('http.last_modified', ''), ('ip.flags.df', '1'), ('nbns.flags.response', ''), ('png.srgb.intent', ''), ('http.response.phrase', ''), ('image-jfif.sos.al', ''), ('frame.number', '1'), ('ssl.handshake.extensions_ec_point_format', ''), ('smb.nt.create_options.delete_on_close', ''), ('smb.flags2.compressed', ''), ('browser.server_type.w95', ''), ('smb.file_attribute.reparse', ''), ('snmp.name', ''), ('tcp.flags.ack', '1'), ('browser.sig', ''), ('smb.dc', ''), ('smb.file_name_len', ''), ('frame.time', 'Jan 26, 2011 07:52:22.484409000 NZDT'), ('smb.fid', ''), ('tcp.analysis.window_full', ''), ('smb.nt.create_options.random_access', ''), ('smb.tid', ''), ('tcp.analysis.retransmission', ''), ('smb.file_attribute.directory', ''), ('eth.type', '0x00000800'), ('image-jfif.sos.dc_entropy_selector', ''), ('png.chunk.flag.private', ''), ('tcp.option_len', ''), ('tcp.window_size', '16288'), ('tcp.options.wscale', ''), ('image-jfif.sof.precision', ''), ('smb.flags.notify', ''), ('browser.server_type.browser.domain_master', ''), ('eth.ig', '0'), ('http.content_length', ''), ('snmp.variable_bindings', ''), ('eth.addr_resolved', '40:61:86:9a:f1:f5'), ('smb.nt.create.ext', ''), ('nbdgm.type', ''), ('bootp.server', ''), ('smb.flags2.sec_sig', ''), ('smb.flags2.long_names_allowed', ''), ('image-jfif.sos.se', ''), ('rtcp.length', ''), ('ip.src_host', '192.168.3.131'), ('smb.rfid', ''), ('smb.flags2.dfs', ''), ('rss.channel.description', ''), ('smb.nt.create.oplock', ''), ('smb.nt.create_options.backup_intent', ''), ('http.host', 'clients1.google.ca'), ('tcp.options.sack_le', ''), ('http.response', ''), ('smb.timeout', ''), ('smb.create_flags', ''), ('snmp.error_status', ''), ('browser.server_type.apple', ''), ('tcp.analysis.duplicate_ack_frame', ''), ('smb.nt.create_options.complete_if_oplocked', ''), ('rss.channel.copyright', ''), ('dns.count.queries', ''), ('tcp.flags.syn', '0'), ('smb.cmd', ''), ('nbns.name', ''), ('tcp.connection.syn', ''), ('image-jfif.sof.lines', ''), ('eth.dst', '00:1a:8c:15:f9:80'), ('http.request_number', '1'), ('ssl.handshake.length', ''), ('browser.server_type.ntw', ''), ('ssl.app_data', ''), ('smb.access.read_control', ''), ('frame.len', '997'), ('xml.attribute', ''), ('bootp.secs', ''), ('snmp.value.octets', ''), ('image-gif.screen.height', ''), ('ssl.handshake.extensions_status_request_type', ''), ('eth.padding', ''), ('smb.flags2.nt_error', ''), ('browser.server_type.xenix', ''), ('smb.access.execute', ''), ('tcp.nxtseq', '944'), ('rss.channel.item.title', ''), ('icmp.checksum', ''), ('dns.response_to', ''), ('urlencoded-form.value', ''), ('smb.pid', ''), ('tcp.window_size_value', '16288'), ('rtcp.version', ''), ('tcp.flags', '0x00000018'), ('dns.id', ''), ('dns.qry.type', ''), ('http.server', ''), ('tcp.analysis.window_update', ''), ('tcp.reassembled.data', ''), ('http.cache_control', ''), ('smb.nt.create_options.open_no_recall', ''), ('http.location', ''), ('browser.server_type', ''), ('rss.channel.item.link', ''), ('smb.mid', ''), ('nbns.count.add_rr', ''), ('dns.resp.class', ''), ('I find the term packet sniffer dirty.', ''), ('nbns.flags', ''), ('bootp.ip.relay', ''), ('mailslot.class', ''), ('png.phys.unit', ''), ('smb.file', ''), ('ssl.handshake.ciphersuite', ''), ('udp.port', ''), ('smb.bcc', ''), ('bootp.option.padding', ''), ('tcp.flags.ns', '0'), ('smb.security.flags.context_tracking', ''), ('dns.ns', ''), ('http.time', ''), ('nbdgm.pkt_offset', ''), ('nat-pmp.version', ''), ('nbdgm.next', ''), ('smb.flags2.roe', ''), ('smb.time', ''), ('nat-pmp.internal_port', ''), ('frame.encap_type', '1'), ('smb.nt.create.batch_oplock', ''), ('tcp.flags.urg', '0'), ('nbdgm.first', ''), ('tcp.analysis.ack_lost_segment', ''), ('nbns.count.answers', ''), ('tcp.analysis.duplicate_ack_num', ''), ('png.chunk.flag.stc', ''), ('ip.dsfield', '0x00000000'), ('rss.channel.image', ''), ('smb.po', ''), ('snmp.error_index', ''), ('dns.flags.response', ''), ('image-gif.screen.width', ''), ('rss.channel.item.pubdate', ''), ('browser.comment', ''), ('smb.access.write_attributes', ''), ('tcp.options.sack.count', ''), ('image-gif.global.bpp', ''), ('dns.flags.rcode', ''), ('tcp.options.wscale.shift', ''), ('dns.flags.opcode', ''), ('dns.resp.ttl', ''), ('udp.checksum.status', ''), ('bootp.flags.bc', ''), ('smb.nt_status', ''), ('smb.echo.data', ''), ('browser.server_type.time', ''), ('bootp.flags', ''), ('bootp.hw.mac_addr', ''), ('smb.access.write', ''), ('tcp.options.wscale.multiplier', ''), ('tcp.checksum', '0x00005df8'), ('smb.transaction.flags.dtid', ''), ('ssl.handshake.cipherspec', ''), ('ssl.record.length', ''), ('frame.ignored', '0'), ('ssl.handshake.extensions_server_name_list_len', ''), ('rss.channel.lastbuilddate', ''), ('browser.update_count', ''), ('smb.access.write_ea', ''), ('smb.file_attribute.read_only', ''), ('dns.count.labels', ''), ('frame.time_epoch', '1295981542.484409000'), ('tcp.options.sack_re', ''), ('png.phys.vert', ''), ('smb.andxoffset', ''), ('frame.offset_shift', '0.000000000'), ('smb.data_offset', ''), ('bootp.ip.client', ''), ('smb.share.access.read', ''), ('nbns.flags.recdesired', ''), ('tcp.analysis.out_of_order', ''), ('icmp.checksum.status', ''), ('frame.protocols', 'eth:ethertype:ip:tcp:http'), ('image-jfif.sos.ah', ''), ('ssl.ignored_unknown_record', ''), ('browser.server_type.sql', ''), ('rss.version', ''), ('png.ihdr.bitdepth', ''), ('nbdgm.dgram_len', ''), ('icmp.code', ''), ('smb.sc', ''), ('image-gif.image_background_index', ''), ('tcp.urgent_pointer', '0'), ('ssl.handshake.extensions_supported_groups_length', ''), ('ssl', ''), ('ip.dsfield.dscp', '0'), ('png.ihdr.colour_type', ''), ('image-gif.global.color_bpp', ''), ('http.request.uri.query.parameter', 'q=cr'), ('ip.checksum.status', '2'), ('browser.server_type.domain_controller', ''), ('ssl.handshake.type', ''), ('ssl.handshake.random_bytes', ''), ('image-gif.image.left', ''), ('dns.qry.name', ''), ('png.ihdr.compression_method', ''), ('arp.proto.type', ''), ('nbdgm.dgram_id', ''), ('png.ihdr.interlace_method', ''), ('xml.xmlpi.xml.version', ''), ('arp.proto.size', ''), ('mailslot.priority', ''), ('smb.flags2.reparse_path', ''), ('smb.nt.create_options.no_compression', ''), ('image-gif.image.top', ''), ('dns.qry.class', ''), ('smb.create.disposition', ''), ('ip.ttl.too_small', ''), ('smb.tpc', ''), ('tcp.dstport', '80'), ('ssl.handshake.random', ''), ('ssl.handshake.extensions_server_name_type', ''), ('ssl.handshake.challenge_length', ''), ('smb.access.append', ''), ('smb.file_attribute.archive', ''), ('snmp.value.int', ''), ('browser.os_major', ''), ('tcp.payload', '47:45:54:20:2f:63:6f:6d:70:6c:65:74:65:2f:73:65:61:72:63:68:3f:63:6c:69:65:6e:74:3d:63:68:72:6f:6d:65:26:68:6c:3d:65:6e:2d:55:53:26:71:3d:63:72:20:48:54:54:50:2f:31:2e:31:0d:0a:48:6f:73:74:3a:20:63:6c:69:65:6e:74:73:31:2e:67:6f:6f:67:6c:65:2e:63:61:0d:0a:43:6f:6e:6e:65:63:74:69:6f:6e:3a:20:6b:65:65:70:2d:61:6c:69:76:65:0d:0a:55:73:65:72:2d:41:67:65:6e:74:3a:20:4d:6f:7a:69:6c:6c:61:2f:35:2e:30:20:28:57:69:6e:64:6f:77:73:3b:20:55:3b:20:57:69:6e:64:6f:77:73:20:4e:54:20:36:2e:31:3b:20:65:6e:2d:55:53:29:20:41:70:70:6c:65:57:65:62:4b:69:74:2f:35:33:34:2e:31:30:20:28:4b:48:54:4d:4c:2c:20:6c:69:6b:65:20:47:65:63:6b:6f:29:20:43:68:72:6f:6d:65:2f:38:2e:30:2e:35:35:32:2e:32:33:37:20:53:61:66:61:72:69:2f:35:33:34:2e:31:30:0d:0a:41:63:63:65:70:74:2d:45:6e:63:6f:64:69:6e:67:3a:20:67:7a:69:70:2c:64:65:66:6c:61:74:65:2c:73:64:63:68:0d:0a:41:63:63:65:70:74:2d:4c:61:6e:67:75:61:67:65:3a:20:65:6e:2d:55:53:2c:65:6e:3b:71:3d:30:2e:38:0d:0a:41:63:63:65:70:74:2d:43:68:61:72:73:65:74:3a:20:49:53:4f:2d:38:38:35:39:2d:31:2c:75:74:66:2d:38:3b:71:3d:30:2e:37:2c:2a:3b:71:3d:30:2e:33:0d:0a:43:6f:6f:6b:69:65:3a:20:50:52:45:46:3d:49:44:3d:63:32:65:33:35:30:30:31:32:32:35:38:64:66:31:63:3a:55:3d:33:38:36:61:36:65:62:65:66:30:64:62:32:38:37:63:3a:46:46:3d:30:3a:54:4d:3d:31:32:39:34:31:36:34:32:39:34:3a:4c:4d:3d:31:32:39:34:31:36:34:32:39:34:3a:53:3d:62:63:75:77:4d:36:56:68:35:65:63:4b:78:71:6d:6b:3b:20:53:49:44:3d:44:51:41:41:41:4e:34:41:41:41:42:33:4d:77:37:68:53:41:58:6d:32:39:73:76:66:5a:51:78:52:68:61:45:56:4c:35:78:5f:37:4a:45:79:57:45:79:77:50:74:66:49:4b:6d:56:32:51:4d:43:5a:36:31:56:66:53:76:47:78:67:2d:57:43:77:53:37:4f:59:6e:45:6f:6e:61:76:64:52:65:69:54:67:5a:5f:33:4a:61:6c:63:50:79:49:6e:78:59:62:48:47:36:36:38:68:62:68:66:56:52:78:43:48:57:72:61:43:38:6c:4e:68:68:68:5a:76:43:34:35:4c:33:32:57:44:6a:6b:50:52:52:79:30:71:6d:6f:7a:5f:33:53:47:7a:44:44:67:75:6d:42:32:6d:67:79:6a:54:48:69:71:52:64:67:45:6d:6f:70:73:45:76:6f:75:6f:62:53:5a:44:52:78:69:78:58:64:41:4e:76:54:48:79:71:38:35:50:6d:56:6e:7a:4b:48:4b:5f:2d:78:37:68:56:64:59:68:75:34:34:4a:36:50:5f:6f:49:34:62:5a:57:6e:48:41:39:36:36:51:6e:61:37:33:71:35:59:4f:50:50:65:76:76:5a:51:56:58:38:46:37:31:6e:56:6a:44:6b:34:61:4a:4d:35:4b:68:6c:41:51:77:42:44:78:35:66:7a:72:56:39:57:6b:5f:52:5f:59:2d:65:67:7a:30:73:44:4c:39:6f:43:33:66:42:55:52:47:56:77:70:34:79:77:51:3b:20:48:53:49:44:3d:41:71:67:4d:33:4a:6c:7a:72:56:41:33:51:6b:69:79:7a:3b:20:4e:49:44:3d:34:33:3d:46:5f:6f:53:5a:57:79:6f:39:4e:69:61:64:6b:31:37:6d:36:35:51:74:4d:39:61:6c:42:4a:51:34:59:4c:30:42:30:79:41:50:37:31:72:75:4e:71:61:35:73:56:34:4a:4f:52:49:6d:73:51:6f:76:55:31:50:57:32:50:45:49:49:37:61:2d:35:4b:55:69:34:59:43:52:4d:43:65:79:74:75:68:69:77:6b:57:67:53:6c:57:74:48:45:41:6a:5f:6e:74:5f:45:46:38:79:38:34:4d:4e:6d:72:74:6d:52:7a:4b:39:4b:74:68:39:36:4e:34:2d:62:50:5a:0d:0a:0d:0a'), ('rtcp.senderssrc', ''), ('smb.tdc', ''), ('tcp.time_delta', '0.000000000'), ('bootp.file', ''), ('image-gif.global.color_map', ''), ('smb.reserved', ''), ('image-jfif.sos.ac_entropy_selector', ''), ('arp.hw.type', ''), ('browser.server_type.domainenum', ''), ('bootp.cookie', ''), ('browser.os_minor', ''), ('smb.access.read_attributes', ''), ('frame.marked', '0'), ('smb.flags2.sec_sig_required', ''), ('ip.checksum', '0x00009e7c'), ('data.data', ''), ('dns.resp.name', ''), ('nbns.count.auth_rr', ''), ('browser.server_type.backup_controller', ''), ('bootp.id', ''), ('smb.nt.create.dir', ''), ('http.request.full_uri', 'http://clients1.google.ca/complete/search?client=chrome&hl=en-US&q=cr'), ('http.transfer_encoding', ''), ('smb.fid.closed_in', ''), ('dns.retransmission', ''), ('tcp.port', '80'), ('ssl.alert_message', ''), ('browser.server_type.print', ''), ('tcp.analysis.duplicate_ack', ''), ('dns.flags.z', ''), ('browser.server_type.server', ''), ('smb.nt.create_options.sync_io_nonalert', ''), ('ssl.handshake.cipher_spec_len', ''), ('xml.tag', ''), ('smb.mdc', ''), ('arp.dst.proto_ipv4', ''), ('smb.file_attribute.offline', ''), ('tcp.analysis.push_bytes_sent', '943'), ('udp.possible_traceroute', ''), ('nat-pmp.pml', ''), ('smb.access.synchronize', ''), ('ssl.handshake.extensions_supported_group', ''), ('rss.channel', ''), ('smb.fid.opened_in', ''), ('rss.channel.item.enclosure.length', ''), ('smb.nt.create_options.eight_dot_three_only', ''), ('json.value.number', ''), ('ip.flags', '0x00004000'), ('smb.error_code', ''), ('image-gif.global.color_map.ordered', ''), ('image-jfif.marker', ''), ('browser.server_type.nts', ''), ('http.response_number', ''), ('png.ihdr.filter_method', ''), ('http.request.line', 'Cookie: PREF=ID=c2e350012258df1c:U=386a6ebef0db287c:FF=0:TM=1294164294:LM=1294164294:S=bcuwM6Vh5ecKxqmk; SID=DQAAAN4AAAB3Mw7hSAXm29svfZQxRhaEVL5x_7JEyWEywPtfIKmV2QMCZ61VfSvGxg-WCwS7OYnEonavdReiTgZ_3JalcPyInxYbHG668hbhfVRxCHWraC8lNhhhZvC45L32WDjkPRRy0qmoz_3SGzDDgumB2mgyjTHiqRdgEmopsEvouobSZDRxixXdANvTHyq85PmVnzKHK_-x7hVdYhu44J6P_oI4bZWnHA966Qna73q5YOPPevvZQVX8F71nVjDk4aJM5KhlAQwBDx5fzrV9Wk_R_Y-egz0sDL9oC3fBURGVwp4ywQ; HSID=AqgM3JlzrVA3Qkiyz; NID=43=F_oSZWyo9Niadk17m65QtM9alBJQ4YL0B0yAP71ruNqa5sV4JORImsQovU1PW2PEII7a-5KUi4YCRMCeytuhiwkWgSlWtHEAj_nt_EF8y84MNmrtmRzK9Kth96N4-bPZ\\r\\n'), ('ssl.handshake.extensions_reneg_info_len', ''), ('bootp.hw.len', ''), ('dns.flags.authoritative', ''), ('http.file_data', ''), ('tcp.options.sack_perm', ''), ('rss.channel.item.enclosure', ''), ('frame.cap_len', '997'), ('browser.server_type.dialin', ''), ('dns.resp.type', ''), ('smb.alloc_size64', ''), ('smb.pc', ''), ('smb.access.write_owner', ''), ('smb.access_mask', ''), ('urlencoded-form.key', ''), ('http.date', ''), ('smb.nt.create_options.write_through', ''), ('image-jfif.length', ''), ('icmp.resp_to', ''), ('smb.security.flags', ''), ('http.response.code.desc', ''), ('browser.windows_version', ''), ('http.prev_request_in', ''), ('bootp.ip.server', ''), ('png.gama.gamma', ''), ('http.content_encoding', ''), ('http.request_in', ''), ('arp.hw.size', ''), ('nbss.flags', ''), ('http.response.code', ''), ('dns.a', ''), ('dns.retransmit_request', ''), ('image-gif.extension.label', ''), ('tcp.flags.ecn', '0'), ('rss.channel.item.guid', ''), ('smb.nt.create_options.intermediate_buffering', ''), ('ssl.handshake.extensions_server_name_len', ''), ('dns.count.add_rr', ''), ('image-jfif.sof.c_i', ''), ('smb.server_component', ''), ('ssl.handshake.extension.type', ''), ('bootp.dhcp', ''), ('ssl.handshake.extensions_ec_point_formats_length', ''), ('tcp.flags.push', '1'), ('smb.echo.seq_num', ''), ('data.len', ''), ('dns.flags.truncated', ''), ('eth.src', '40:61:86:9a:f1:f5'), ('http.response.version', ''), ('http.referer', ''), ('tcp.segment', ''), ('ssl.handshake.challenge', ''), ('tcp.segment.count', ''), ('smb.file_attribute.hidden', ''), ('image-gif.end', ''), ('ssl.handshake.random_time', ''), ('bootp.option.end', ''), ('ip.addr', '72.14.213.138'), ('image-gif.image.height', ''), ('image-gif.version', ''), ('http.connection', 'keep-alive'), ('tcp.analysis.initial_rtt', ''), ('mailslot.opcode', ''), ('xml.xmlpi.xml.encoding', ''), ('nbdgm.destination_name', ''), ('http.accept', ''), ('image-jfif.remain_seg_data', ''), ('png.chunk.crc', ''), ('dns.flags.recavail', ''), ('nbdgm.source_name', ''), ('ip.len', '983'), ('tcp.checksum.status', '2'), ('rss.channel.title', ''), ('_ws.expert.severity', '2097152'), ('frame.time_delta_displayed', '0.000000000'), ('rss.channel.item.enclosure.type', ''), ('rss.channel.item.enclosure.url', '')])\n"
     ]
    }
   ],
   "source": [
    "# the output is a gzipped csv, so let's quickly pop that open and see what we have\n",
    "# we're going to use DictReader from the CSV lib, so we'll get back a list of dictionaries, where the keys in the dicts are the fieldnames\n",
    "# each dictionary in the list is a record (packet)\n",
    "\n",
    "import csv\n",
    "from networkml.featurizers.csv_to_features import CSVToFeatures\n",
    "instance = CSVToFeatures()\n",
    "rows = list(csv.DictReader(instance.get_reader('trace_ab12_2001-01-01_02_03-client-ip-1-2-3-4.pcap.csv.gz', True)))\n",
    "print(rows[0])\n",
    "\n"
   ]
  },
  {
   "cell_type": "code",
   "execution_count": 4,
   "metadata": {},
   "outputs": [
    {
     "name": "stderr",
     "output_type": "stream",
     "text": [
      "INFO:networkml.featurizers.csv_to_features:Importing trace_ab12_2001-01-01_02_03-client-ip-1-2-3-4.pcap.csv.gz size 15434185\n",
      "INFO:networkml.featurizers.csv_to_features:Featurizing trace_ab12_2001-01-01_02_03-client-ip-1-2-3-4.pcap.csv.gz\n"
     ]
    },
    {
     "name": "stdout",
     "output_type": "stream",
     "text": [
      "Importing class: Generic\n",
      "Importing class: Host\n",
      "Importing class: SessionHost\n",
      "Importing class: Packet\n",
      "Importing class: Flow\n",
      "running Host/host_tshark_all...calculating intermediates.9 MACs, 1 sessions.MAC 00:04:00:81:81:d0 has minimum number of source IPs, selected as canonical source.MAC 1/1 100%."
     ]
    },
    {
     "name": "stderr",
     "output_type": "stream",
     "text": [
      "INFO:networkml.featurizers.csv_to_features:Finished trace_ab12_2001-01-01_02_03-client-ip-1-2-3-4.pcap.csv.gz. 1/1 CSVs done.\n",
      "INFO:networkml.featurizers.csv_to_features:GZipped CSV file(s) written out to: ['trace_ab12_2001-01-01_02_03-client-ip-1-2-3-4.features.csv.gz']\n"
     ]
    },
    {
     "name": "stdout",
     "output_type": "stream",
     "text": [
      "3s\n"
     ]
    },
    {
     "data": {
      "text/plain": [
       "''"
      ]
     },
     "execution_count": 4,
     "metadata": {},
     "output_type": "execute_result"
    }
   ],
   "source": [
    "# we have a gzipped csv with all of the fields we could extract at the 'packet' level\n",
    "# (we could have supplied an arg above to do a different level, like 'flow')\n",
    "# we can now take that file and reduce or change or add which fields should be included using the featurizer\n",
    "\n",
    "# let's set a path to a gzipped csv (we'll use one we just made)\n",
    "path = 'trace_ab12_2001-01-01_02_03-client-ip-1-2-3-4.pcap.csv.gz'\n",
    "\n",
    "# let's change the output so it's easy to find\n",
    "output = 'trace_ab12_2001-01-01_02_03-client-ip-1-2-3-4.features.csv.gz'\n",
    "\n",
    "# we need to specify where the featurizer functions are\n",
    "features_path = '../networkml/featurizers/funcs'\n",
    "\n",
    "import sys\n",
    "# set arguments for arg parse\n",
    "sys.argv = ['csv_to_features.py', f'-o{output}', f'-p{features_path}', path]\n",
    "\n",
    "from networkml.featurizers.csv_to_features import CSVToFeatures\n",
    "instance = CSVToFeatures()\n",
    "instance.main()\n"
   ]
  },
  {
   "cell_type": "code",
   "execution_count": 5,
   "metadata": {},
   "outputs": [
    {
     "name": "stdout",
     "output_type": "stream",
     "text": [
      "OrderedDict([('host_key', '00:04:00:81:81:d0'), ('tshark_max_frame_len_out', '124'), ('tshark_min_frame_len_out', '124'), ('tshark_count_frame_len_out', '8'), ('tshark_total_frame_len_out', '992'), ('tshark_average_frame_len_out', '124.0'), ('tshark_median_frame_len_out', '124.0'), ('tshark_variance_frame_len_out', '0.0'), ('tshark_25q_frame_len_out', '124.0'), ('tshark_75q_frame_len_out', '124.0'), ('tshark_max_time_delta_out', '0.059905'), ('tshark_min_time_delta_out', '0.001216'), ('tshark_count_time_delta_out', '8'), ('tshark_total_time_delta_out', '0.301913'), ('tshark_average_time_delta_out', '0.037739125'), ('tshark_median_time_delta_out', '0.041939500000000005'), ('tshark_variance_time_delta_out', '0.0005967626078392858'), ('tshark_25q_time_delta_out', '0.02140825'), ('tshark_75q_time_delta_out', '0.0594175'), ('tshark_ip_dsfield_ecn0_out', '0'), ('tshark_ip_dsfield_ecn1_out', '0'), ('tshark_ip_dsfield_dscp0_out', '0'), ('tshark_ip_dsfield_dscp1_out', '0'), ('tshark_ip_dsfield_dscp2_out', '0'), ('tshark_ip_dsfield_dscp3_out', '0'), ('tshark_ip_dsfield_dscp4_out', '0'), ('tshark_ip_dsfield_dscp5_out', '0'), ('tshark_ip_flags_fin_out', '0'), ('tshark_ip_flags_syn_out', '0'), ('tshark_ip_flags_rst_out', '0'), ('tshark_ip_flags_psh_out', '0'), ('tshark_ip_flags_ack_out', '0'), ('tshark_ip_flags_urg_out', '0'), ('tshark_ip_flags_ece_out', '0'), ('tshark_ip_flags_cwr_out', '0'), ('tshark_ip_flags_ns_out', '0'), ('tshark_tcp_flags_fin_out', '0'), ('tshark_tcp_flags_syn_out', '0'), ('tshark_tcp_flags_rst_out', '0'), ('tshark_tcp_flags_psh_out', '0'), ('tshark_tcp_flags_ack_out', '0'), ('tshark_tcp_flags_urg_out', '0'), ('tshark_tcp_flags_ece_out', '0'), ('tshark_tcp_flags_cwr_out', '0'), ('tshark_tcp_flags_ns_out', '0'), ('tshark_udp_priv_port_161_out', '1'), ('tshark_udp_priv_port_67_out', '0'), ('tshark_udp_priv_port_68_out', '0'), ('tshark_udp_priv_port_69_out', '0'), ('tshark_udp_priv_port_631_out', '0'), ('tshark_udp_priv_port_137_out', '0'), ('tshark_udp_priv_port_138_out', '0'), ('tshark_udp_priv_port_139_out', '0'), ('tshark_udp_priv_port_110_out', '0'), ('tshark_udp_priv_port_143_out', '0'), ('tshark_udp_priv_port_80_out', '0'), ('tshark_udp_priv_port_53_out', '0'), ('tshark_udp_priv_port_22_out', '0'), ('tshark_udp_priv_port_23_out', '0'), ('tshark_udp_priv_port_88_out', '0'), ('tshark_udp_priv_port_25_out', '0'), ('tshark_udp_priv_port_443_out', '0'), ('tshark_udp_priv_port_123_out', '0'), ('tshark_udp_priv_port_other_out', '0'), ('tshark_udp_nonpriv_port_5349_out', '0'), ('tshark_udp_nonpriv_port_5222_out', '0'), ('tshark_udp_nonpriv_port_2375_out', '0'), ('tshark_udp_nonpriv_port_2376_out', '0'), ('tshark_udp_nonpriv_port_5353_out', '0'), ('tshark_udp_nonpriv_port_5354_out', '0'), ('tshark_udp_nonpriv_port_1900_out', '0'), ('tshark_udp_nonpriv_port_5357_out', '0'), ('tshark_udp_nonpriv_port_6653_out', '0'), ('tshark_udp_nonpriv_port_other_out', '0'), ('tshark_max_frame_len_in', '120'), ('tshark_min_frame_len_in', '120'), ('tshark_count_frame_len_in', '8'), ('tshark_total_frame_len_in', '960'), ('tshark_average_frame_len_in', '120.0'), ('tshark_median_frame_len_in', '120.0'), ('tshark_variance_frame_len_in', '0.0'), ('tshark_25q_frame_len_in', '120.0'), ('tshark_75q_frame_len_in', '120.0'), ('tshark_max_time_delta_in', '0.4722'), ('tshark_min_time_delta_in', '0.001993'), ('tshark_count_time_delta_in', '8'), ('tshark_total_time_delta_in', '1.4286780000000001'), ('tshark_average_time_delta_in', '0.17858475000000001'), ('tshark_median_time_delta_in', '0.14042'), ('tshark_variance_time_delta_in', '0.023220977560785717'), ('tshark_25q_time_delta_in', '0.10236624999999999'), ('tshark_75q_time_delta_in', '0.254556'), ('tshark_ip_dsfield_ecn0_in', '0'), ('tshark_ip_dsfield_ecn1_in', '0'), ('tshark_ip_dsfield_dscp0_in', '0'), ('tshark_ip_dsfield_dscp1_in', '0'), ('tshark_ip_dsfield_dscp2_in', '0'), ('tshark_ip_dsfield_dscp3_in', '0'), ('tshark_ip_dsfield_dscp4_in', '0'), ('tshark_ip_dsfield_dscp5_in', '0'), ('tshark_ip_flags_fin_in', '0'), ('tshark_ip_flags_syn_in', '0'), ('tshark_ip_flags_rst_in', '0'), ('tshark_ip_flags_psh_in', '0'), ('tshark_ip_flags_ack_in', '0'), ('tshark_ip_flags_urg_in', '0'), ('tshark_ip_flags_ece_in', '0'), ('tshark_ip_flags_cwr_in', '0'), ('tshark_ip_flags_ns_in', '0'), ('tshark_tcp_flags_fin_in', '0'), ('tshark_tcp_flags_syn_in', '0'), ('tshark_tcp_flags_rst_in', '0'), ('tshark_tcp_flags_psh_in', '0'), ('tshark_tcp_flags_ack_in', '0'), ('tshark_tcp_flags_urg_in', '0'), ('tshark_tcp_flags_ece_in', '0'), ('tshark_tcp_flags_cwr_in', '0'), ('tshark_tcp_flags_ns_in', '0'), ('tshark_udp_priv_port_161_in', '1'), ('tshark_udp_priv_port_67_in', '0'), ('tshark_udp_priv_port_68_in', '0'), ('tshark_udp_priv_port_69_in', '0'), ('tshark_udp_priv_port_631_in', '0'), ('tshark_udp_priv_port_137_in', '0'), ('tshark_udp_priv_port_138_in', '0'), ('tshark_udp_priv_port_139_in', '0'), ('tshark_udp_priv_port_110_in', '0'), ('tshark_udp_priv_port_143_in', '0'), ('tshark_udp_priv_port_80_in', '0'), ('tshark_udp_priv_port_53_in', '0'), ('tshark_udp_priv_port_22_in', '0'), ('tshark_udp_priv_port_23_in', '0'), ('tshark_udp_priv_port_88_in', '0'), ('tshark_udp_priv_port_25_in', '0'), ('tshark_udp_priv_port_443_in', '0'), ('tshark_udp_priv_port_123_in', '0'), ('tshark_udp_priv_port_other_in', '0'), ('tshark_udp_nonpriv_port_5349_in', '0'), ('tshark_udp_nonpriv_port_5222_in', '0'), ('tshark_udp_nonpriv_port_2375_in', '0'), ('tshark_udp_nonpriv_port_2376_in', '0'), ('tshark_udp_nonpriv_port_5353_in', '0'), ('tshark_udp_nonpriv_port_5354_in', '0'), ('tshark_udp_nonpriv_port_1900_in', '0'), ('tshark_udp_nonpriv_port_5357_in', '0'), ('tshark_udp_nonpriv_port_6653_in', '0'), ('tshark_udp_nonpriv_port_other_in', '0'), ('tshark_ipv4', '1'), ('tshark_ipv6', '0'), ('tshark_ipx', '0'), ('tshark_nonip', '0'), ('tshark_both_private_ip', '1'), ('tshark_ipv4_multicast', '0'), ('tshark_wk_ip_protocol_tcp', '0'), ('tshark_wk_ip_protocol_udp', '1'), ('tshark_wk_ip_protocol_icmp', '0'), ('tshark_wk_ip_protocol_arp', '0'), ('tshark_wk_ip_protocol_icmpv6', '0'), ('tshark_wk_ip_protocol_gre', '0'), ('tshark_wk_ip_protocol_esp', '0'), ('tshark_wk_ip_protocol_ah', '0'), ('tshark_tagged_vlan', '0'), ('tshark_udp_priv_packet_ratio_io_port_161', '1.0'), ('tshark_udp_priv_packet_ratio_io_port_67', '0'), ('tshark_udp_priv_packet_ratio_io_port_68', '0'), ('tshark_udp_priv_packet_ratio_io_port_69', '0'), ('tshark_udp_priv_packet_ratio_io_port_631', '0'), ('tshark_udp_priv_packet_ratio_io_port_137', '0'), ('tshark_udp_priv_packet_ratio_io_port_138', '0'), ('tshark_udp_priv_packet_ratio_io_port_139', '0'), ('tshark_udp_priv_packet_ratio_io_port_110', '0'), ('tshark_udp_priv_packet_ratio_io_port_143', '0'), ('tshark_udp_priv_packet_ratio_io_port_80', '0'), ('tshark_udp_priv_packet_ratio_io_port_53', '0'), ('tshark_udp_priv_packet_ratio_io_port_22', '0'), ('tshark_udp_priv_packet_ratio_io_port_23', '0'), ('tshark_udp_priv_packet_ratio_io_port_88', '0'), ('tshark_udp_priv_packet_ratio_io_port_25', '0'), ('tshark_udp_priv_packet_ratio_io_port_443', '0'), ('tshark_udp_priv_packet_ratio_io_port_123', '0'), ('tshark_udp_priv_packet_ratio_io_port_other', '0'), ('tshark_udp_nonpriv_packet_ratio_io_port_5349', '0'), ('tshark_udp_nonpriv_packet_ratio_io_port_5222', '0'), ('tshark_udp_nonpriv_packet_ratio_io_port_2375', '0'), ('tshark_udp_nonpriv_packet_ratio_io_port_2376', '0'), ('tshark_udp_nonpriv_packet_ratio_io_port_5353', '0'), ('tshark_udp_nonpriv_packet_ratio_io_port_5354', '0'), ('tshark_udp_nonpriv_packet_ratio_io_port_1900', '0'), ('tshark_udp_nonpriv_packet_ratio_io_port_5357', '0'), ('tshark_udp_nonpriv_packet_ratio_io_port_6653', '0'), ('tshark_udp_nonpriv_packet_ratio_io_port_other', '1.0'), ('tshark_unique_srcips', '1'), ('tshark_unique_dstips', '1')])\n"
     ]
    }
   ],
   "source": [
    "# the output is a gzipped csv again, so let's quickly pop that open and see what we have\n",
    "# we're going to use DictReader from the CSV lib, so we'll get back a list of dictionaries, where the keys in the dicts are the fieldnames\n",
    "# each dictionary in the list is a record (packet)\n",
    "\n",
    "from networkml.featurizers.csv_to_features import CSVToFeatures\n",
    "instance = CSVToFeatures()\n",
    "rows = list(csv.DictReader(instance.get_reader('trace_ab12_2001-01-01_02_03-client-ip-1-2-3-4.features.csv.gz', True)))\n",
    "print(rows[0])"
   ]
  },
  {
   "cell_type": "markdown",
   "metadata": {},
   "source": [
    "### Writing New Featuzier Functions\n",
    "now that we can see how to turn PCAPs into CSVs and then use the featurizer to change the columns and make a new CSV\n",
    "let's now look at how to write new featurizer functions and use them here's an example of an already included class with functions."
   ]
  },
  {
   "cell_type": "code",
   "execution_count": 6,
   "metadata": {},
   "outputs": [
    {
     "name": "stdout",
     "output_type": "stream",
     "text": [
      "from networkml.featurizers.features import Features\n",
      "\n",
      "\n",
      "\n",
      "\n",
      "\n",
      "class Flow(Features):\n",
      "\n",
      "\n",
      "\n",
      "    def default_tcp_5tuple(self, rows):\n",
      "\n",
      "        fields = ['ip.src_host', 'ip.dst_host',\n",
      "\n",
      "                  'tcp.dstport', 'tcp.srcport', 'frame.protocols']\n",
      "\n",
      "        return self.get_columns(fields, rows)\n",
      "\n",
      "\n",
      "\n",
      "    def default_udp_5tuple(self, rows):\n",
      "\n",
      "        fields = ['ip.src_host', 'ip.dst_host',\n",
      "\n",
      "                  'udp.dstport', 'udp.srcport', 'frame.protocols']\n",
      "\n",
      "        return self.get_columns(fields, rows)\n",
      "\n"
     ]
    }
   ],
   "source": [
    "with open('../networkml/featurizers/funcs/flow.py', 'r') as f:\n",
    "    for line in f:\n",
    "        print(line)"
   ]
  },
  {
   "cell_type": "code",
   "execution_count": 7,
   "metadata": {},
   "outputs": [
    {
     "name": "stdout",
     "output_type": "stream",
     "text": [
      "OrderedDict([('dns.count.auth_rr', ''), ('tcp.segment_data', ''), ('tcp.ack', '1'), ('png.chunk.len', ''), ('tcp.analysis.rto', ''), ('frame.time_delta', '0.000000000'), ('http.set_cookie', ''), ('_ws.malformed.expert', ''), ('smb.file_attribute.not_content_indexed', ''), ('tcp.analysis.lost_segment', ''), ('tcp.options.eol', ''), ('ip.src', '192.168.3.131'), ('smb.signature', ''), ('dns.time', ''), ('tcp.flags.str', 'Â·Â·Â·Â·Â·Â·Â·APÂ·Â·Â·'), ('nbss.type', ''), ('smb.transaction.flags.owt', ''), ('browser.server_type.local', ''), ('browser.server_type.member', ''), ('smb.flags.oplock', ''), ('tcp.options.mss_val', ''), ('ssl.handshake.extensions_npn', ''), ('ssl.handshake.extensions_server_name', ''), ('smb.trans_name', ''), ('nbns.type', ''), ('dns.flags.authenticated', ''), ('png.chunk.type', ''), ('_ws.expert.group', '33554432'), ('smb.share.access.delete', ''), ('ip.dst_host', '72.14.213.138'), ('smb.nt.create_options.reserve_opfilter', ''), ('tcp.connection.rst', ''), ('image-jfif.sof.samples_per_line', ''), ('nbns.count.queries', ''), ('_ws.expert.message', 'GET /complete/search?client=chrome&hl=en-US&q=cr HTTP/1.1\\\\r\\\\n'), ('http.accept_language', 'en-US,en;q=0.8'), ('smb.flags2.ea', ''), ('ip.id', '0x000076e0'), ('_type', 'pcap_file'), ('tcp.analysis.ack_rtt', ''), ('bootp.flags.reserved', ''), ('snmp.request_id', ''), ('rss.channel.ttl', ''), ('image-jfif.sof.nf', ''), ('snmp.value.null', ''), ('smb.wct', ''), ('snmp.version', ''), ('tcp.flags.fin', '0'), ('snmp.data', ''), ('ssl.handshake.cipher_suites_length', ''), ('ssl.handshake.extensions_npn_str_len', ''), ('http.chat', ''), ('nbdgm.node_type', ''), ('smb.nt.create_options.sync_io_alert', ''), ('_score', ''), ('tcp.time_relative', '0.000000000'), ('udp.checksum', ''), ('tcp.ack.nonzero', ''), ('image-gif.local.color_map.present', ''), ('tcp.analysis.rto_frame', ''), ('smb.access.delete', ''), ('rss.channel.image.title', ''), ('_index', 'packets-2020-04-21'), ('tcp.options.mss', ''), ('http.request.uri', '/complete/search?client=chrome&hl=en-US&q=cr'), ('browser.period', ''), ('mailslot.name', ''), ('browser.server_type.browser.master', ''), ('smb.nt.create_options.no_ea_knowledge', ''), ('dns.flags.tentative', ''), ('nbdgm.src.port', ''), ('bootp.hops', ''), ('image-gif.local.color_bpp', ''), ('rtcp.mediassrc', ''), ('http.cookie_pair', 'NID=43=F_oSZWyo9Niadk17m65QtM9alBJQ4YL0B0yAP71ruNqa5sV4JORImsQovU1PW2PEII7a-5KUi4YCRMCeytuhiwkWgSlWtHEAj_nt_EF8y84MNmrtmRzK9Kth96N4-bPZ'), ('http.subdissector_failed', ''), ('smb.flags.response', ''), ('smb.access.generic_execute', ''), ('http.request.uri.query', 'client=chrome&hl=en-US&q=cr'), ('snmp.community', ''), ('http.chunk_size', ''), ('frame.time_relative', '0.000000000'), ('rss.channel.image.link', ''), ('http.response.line', ''), ('http.request', '1'), ('smb.response_to', ''), ('smb.access.read', ''), ('http.prev_response_in', ''), ('dns.flags.checkdisable', ''), ('rss.channel.image.url', ''), ('ssl.handshake', ''), ('image-gif.image.width', ''), ('smb.flags.receive_buffer', ''), ('udp.dstport', ''), ('mailslot.size', ''), ('tcp.options', ''), ('smb.last_write.time', ''), ('ip.dst', '72.14.213.138'), ('ip.flags.rb', '0'), ('ssl.handshake.extensions_status_request_responder_ids_len', ''), ('http.request.uri.path', '/complete/search'), ('smb.pid.high', ''), ('rtcp.padding', ''), ('tcp.reassembled.length', ''), ('rss.channel.item.description', ''), ('eth.dst_resolved', '00:1a:8c:15:f9:80'), ('icmp.seq_le', ''), ('icmp.ident', ''), ('tcp.len', '943'), ('image-jfif.sos.ns', ''), ('arp.opcode', ''), ('smb.flags2.long_names_used', ''), ('udp.stream', ''), ('rss.channel.item', ''), ('browser.server_type.novell', ''), ('tcp.analysis.bytes_in_flight', '943'), ('ip.frag_offset', '0'), ('tcp.options.sack', ''), ('browser.server_type.browser.potential', ''), ('http.cookie', 'PREF=ID=c2e350012258df1c:U=386a6ebef0db287c:FF=0:TM=1294164294:LM=1294164294:S=bcuwM6Vh5ecKxqmk; SID=DQAAAN4AAAB3Mw7hSAXm29svfZQxRhaEVL5x_7JEyWEywPtfIKmV2QMCZ61VfSvGxg-WCwS7OYnEonavdReiTgZ_3JalcPyInxYbHG668hbhfVRxCHWraC8lNhhhZvC45L32WDjkPRRy0qmoz_3SGzDDgumB2mgyjTHiqRdgEmopsEvouobSZDRxixXdANvTHyq85PmVnzKHK_-x7hVdYhu44J6P_oI4bZWnHA966Qna73q5YOPPevvZQVX8F71nVjDk4aJM5KhlAQwBDx5fzrV9Wk_R_Y-egz0sDL9oC3fBURGVwp4ywQ; HSID=AqgM3JlzrVA3Qkiyz; NID=43=F_oSZWyo9Niadk17m65QtM9alBJQ4YL0B0yAP71ruNqa5sV4JORImsQovU1PW2PEII7a-5KUi4YCRMCeytuhiwkWgSlWtHEAj_nt_EF8y84MNmrtmRzK9Kth96N4-bPZ'), ('tcp.stream', '0'), ('udp.length', ''), ('ssl.record.content_type', ''), ('dns.flags', ''), ('eth.addr', '40:61:86:9a:f1:f5'), ('image-gif.image.code_size', ''), ('smb.nt.create_options.sequential_only', ''), ('png.signature', ''), ('ssl.handshake.comp_methods_length', ''), ('browser.proto_major', ''), ('smb.nt.create_options.open_by_fileid', ''), ('icmp.seq', ''), ('smb.echo.count', ''), ('http.request.method', 'GET'), ('http.response_for.uri', ''), ('image-jfif.sof.v_i', ''), ('image-jfif.sos.ss', ''), ('image-jfif.entropy_coded_segment', ''), ('rtcp.pt', ''), ('bootp.ip.your', ''), ('ssl.handshake.version', ''), ('image-gif.global.color_map.present', ''), ('smb.flags', ''), ('arp.src.proto_ipv4', ''), ('dns.flags.conflict', ''), ('smb.access.delete_child', ''), ('smb.flags2.esn', ''), ('ssl.handshake.extension.len', ''), ('browser.server_type.browser.backup', ''), ('tcp.flags.reset', '0'), ('nat-pmp.external_port', ''), ('ip.proto', '6'), ('smb.uid', ''), ('tcp.analysis.acks_frame', ''), ('xml.unknown', ''), ('ip.dsfield.ecn', '0'), ('browser.server_type.wfw', ''), ('http.request.version', 'HTTP/1.1'), ('icmp.type', ''), ('nbss.flags.e', ''), ('tcp.option_kind', ''), ('tcp.connection.sack', ''), ('smb.file_attribute.normal', ''), ('smb.msc', ''), ('smb.nt.create_options.open_reparse_point', ''), ('nbdgm.src.ip', ''), ('tcp.flags.res', '0'), ('image-gif.data_block', ''), ('ssl.handshake.comp_method', ''), ('smb.share_access', ''), ('media.type', ''), ('smb.flags.caseless', ''), ('smb.flags2.string', ''), ('rss.channel.language', ''), ('browser.server_type.vms', ''), ('smb.access.read_ea', ''), ('http.chunk_boundary', ''), ('image-gif.local.color_map.ordered', ''), ('data-text-lines', ''), ('ip.ttl', '128'), ('smb.file_attribute.system', ''), ('smb.flags2', ''), ('nbns.flags.opcode', ''), ('smb.access.generic_all', ''), ('smb.error_class', ''), ('png.chunk.data', ''), ('ssl.handshake.extensions_length', ''), ('image-jfif.sof.h_i', ''), ('rss.channel.item.guid.ispermalink', ''), ('nbns.id', ''), ('smb.flags.canon', ''), ('smb.flags.lock', ''), ('nbns.flags.truncated', ''), ('browser.server_type.osf', ''), ('smb.nt.create_options.open_for_free_space_query', ''), ('browser.server_type.dfs', ''), ('nbss.length', ''), ('smb.file_attribute.temporary', ''), ('dns.resp.len', ''), ('dns.flags.recdesired', ''), ('xml.cdata', ''), ('eth.lg', '0'), ('arp.src.hw_mac', ''), ('smb.file_attribute.volume', ''), ('xml.xmlpi.xml', ''), ('png.ihdr.height', ''), ('http.content_length_header', ''), ('smb.file_attribute.encrypted', ''), ('ssl.handshake.extension.data', ''), ('smb.access.generic_write', ''), ('browser.command', ''), ('tcp.options.nop', ''), ('tcp.hdr_len', '20'), ('tcp.window_size_scalefactor', '-1'), ('nat-pmp.reserved', ''), ('smb.share.access.write', ''), ('smb.file_attribute', ''), ('icmp.unused', ''), ('smb.access.system_security', ''), ('bootp.type', ''), ('json.key', ''), ('smb.nt.create_options.non_directory', ''), ('_ws.malformed', ''), ('eth.src_resolved', '40:61:86:9a:f1:f5'), ('ssl.handshake.extensions_status_request_exts_len', ''), ('rss.channel.link', ''), ('smb.nt.create_options.directory', ''), ('ip.flags.mf', '0'), ('arp.dst.hw_mac', ''), ('smb.transaction.flags', ''), ('smb.security.flags.effective_only', ''), ('udp.srcport', ''), ('image-jfif.sof.tq_i', ''), ('nbns.class', ''), ('http.accept_encoding', 'gzip,deflate,sdch'), ('bootp.option.type', ''), ('png.phys.horiz', ''), ('nbdgm.flags', ''), ('ip.host', '72.14.213.138'), ('bootp.hw.type', ''), ('rtcp.psfb.fmt', ''), ('smb.mpc', ''), ('nat-pmp.opcode', ''), ('browser.proto_minor', ''), ('nbns.flags.broadcast', ''), ('smb.file_attribute.sparse', ''), ('tcp.seq', '1'), ('tcp.connection.fin', ''), ('dns.qry.name.len', ''), ('smb.nt.create_options.create_tree_connection', ''), ('smb.access.write_dac', ''), ('smb.impersonation.level', ''), ('smb.access.generic_read', ''), ('png.ihdr.width', ''), ('ssl.handshake.session_id_length', ''), ('rss.channel.item.category', ''), ('browser.server', ''), ('smb.file_attribute.compressed', ''), ('tcp.srcport', '57011'), ('image-jfif.sos.component_selector', ''), ('http.user_agent', 'Mozilla/5.0 (Windows; U; Windows NT 6.1; en-US) AppleWebKit/534.10 (KHTML, like Gecko) Chrome/8.0.552.237 Safari/534.10'), ('ip.version', '4'), ('png.chunk.flag.ancillary', ''), ('dns.count.answers', ''), ('more testing', ''), ('ip.hdr_len', '20'), ('icmp.resptime', ''), ('bootp.hw.addr_padding', ''), ('smb.create_options', ''), ('browser.server_type.workstation', ''), ('ssl.handshake.session_id', ''), ('smb.file_attribute.device', ''), ('tcp.flags.cwr', '0'), ('smb.access.maximum_allowed', ''), ('dns.cname', ''), ('ssl.record.version', ''), ('http.content_type', ''), ('dns.retransmit_request_in', ''), ('http.last_modified', ''), ('ip.flags.df', '1'), ('nbns.flags.response', ''), ('png.srgb.intent', ''), ('http.response.phrase', ''), ('image-jfif.sos.al', ''), ('frame.number', '1'), ('ssl.handshake.extensions_ec_point_format', ''), ('smb.nt.create_options.delete_on_close', ''), ('smb.flags2.compressed', ''), ('browser.server_type.w95', ''), ('smb.file_attribute.reparse', ''), ('snmp.name', ''), ('tcp.flags.ack', '1'), ('browser.sig', ''), ('smb.dc', ''), ('smb.file_name_len', ''), ('frame.time', 'Jan 26, 2011 07:52:22.484409000 NZDT'), ('smb.fid', ''), ('tcp.analysis.window_full', ''), ('smb.nt.create_options.random_access', ''), ('smb.tid', ''), ('tcp.analysis.retransmission', ''), ('smb.file_attribute.directory', ''), ('eth.type', '0x00000800'), ('image-jfif.sos.dc_entropy_selector', ''), ('png.chunk.flag.private', ''), ('tcp.option_len', ''), ('tcp.window_size', '16288'), ('tcp.options.wscale', ''), ('image-jfif.sof.precision', ''), ('smb.flags.notify', ''), ('browser.server_type.browser.domain_master', ''), ('eth.ig', '0'), ('http.content_length', ''), ('snmp.variable_bindings', ''), ('eth.addr_resolved', '40:61:86:9a:f1:f5'), ('smb.nt.create.ext', ''), ('nbdgm.type', ''), ('bootp.server', ''), ('smb.flags2.sec_sig', ''), ('smb.flags2.long_names_allowed', ''), ('image-jfif.sos.se', ''), ('rtcp.length', ''), ('ip.src_host', '192.168.3.131'), ('smb.rfid', ''), ('smb.flags2.dfs', ''), ('rss.channel.description', ''), ('smb.nt.create.oplock', ''), ('smb.nt.create_options.backup_intent', ''), ('http.host', 'clients1.google.ca'), ('tcp.options.sack_le', ''), ('http.response', ''), ('smb.timeout', ''), ('smb.create_flags', ''), ('snmp.error_status', ''), ('browser.server_type.apple', ''), ('tcp.analysis.duplicate_ack_frame', ''), ('smb.nt.create_options.complete_if_oplocked', ''), ('rss.channel.copyright', ''), ('dns.count.queries', ''), ('tcp.flags.syn', '0'), ('smb.cmd', ''), ('nbns.name', ''), ('tcp.connection.syn', ''), ('image-jfif.sof.lines', ''), ('eth.dst', '00:1a:8c:15:f9:80'), ('http.request_number', '1'), ('ssl.handshake.length', ''), ('browser.server_type.ntw', ''), ('ssl.app_data', ''), ('smb.access.read_control', ''), ('frame.len', '997'), ('xml.attribute', ''), ('bootp.secs', ''), ('snmp.value.octets', ''), ('image-gif.screen.height', ''), ('ssl.handshake.extensions_status_request_type', ''), ('eth.padding', ''), ('smb.flags2.nt_error', ''), ('browser.server_type.xenix', ''), ('smb.access.execute', ''), ('tcp.nxtseq', '944'), ('rss.channel.item.title', ''), ('icmp.checksum', ''), ('dns.response_to', ''), ('urlencoded-form.value', ''), ('smb.pid', ''), ('tcp.window_size_value', '16288'), ('rtcp.version', ''), ('tcp.flags', '0x00000018'), ('dns.id', ''), ('dns.qry.type', ''), ('http.server', ''), ('tcp.analysis.window_update', ''), ('tcp.reassembled.data', ''), ('http.cache_control', ''), ('smb.nt.create_options.open_no_recall', ''), ('http.location', ''), ('browser.server_type', ''), ('rss.channel.item.link', ''), ('smb.mid', ''), ('nbns.count.add_rr', ''), ('dns.resp.class', ''), ('I find the term packet sniffer dirty.', ''), ('nbns.flags', ''), ('bootp.ip.relay', ''), ('mailslot.class', ''), ('png.phys.unit', ''), ('smb.file', ''), ('ssl.handshake.ciphersuite', ''), ('udp.port', ''), ('smb.bcc', ''), ('bootp.option.padding', ''), ('tcp.flags.ns', '0'), ('smb.security.flags.context_tracking', ''), ('dns.ns', ''), ('http.time', ''), ('nbdgm.pkt_offset', ''), ('nat-pmp.version', ''), ('nbdgm.next', ''), ('smb.flags2.roe', ''), ('smb.time', ''), ('nat-pmp.internal_port', ''), ('frame.encap_type', '1'), ('smb.nt.create.batch_oplock', ''), ('tcp.flags.urg', '0'), ('nbdgm.first', ''), ('tcp.analysis.ack_lost_segment', ''), ('nbns.count.answers', ''), ('tcp.analysis.duplicate_ack_num', ''), ('png.chunk.flag.stc', ''), ('ip.dsfield', '0x00000000'), ('rss.channel.image', ''), ('smb.po', ''), ('snmp.error_index', ''), ('dns.flags.response', ''), ('image-gif.screen.width', ''), ('rss.channel.item.pubdate', ''), ('browser.comment', ''), ('smb.access.write_attributes', ''), ('tcp.options.sack.count', ''), ('image-gif.global.bpp', ''), ('dns.flags.rcode', ''), ('tcp.options.wscale.shift', ''), ('dns.flags.opcode', ''), ('dns.resp.ttl', ''), ('udp.checksum.status', ''), ('bootp.flags.bc', ''), ('smb.nt_status', ''), ('smb.echo.data', ''), ('browser.server_type.time', ''), ('bootp.flags', ''), ('bootp.hw.mac_addr', ''), ('smb.access.write', ''), ('tcp.options.wscale.multiplier', ''), ('tcp.checksum', '0x00005df8'), ('smb.transaction.flags.dtid', ''), ('ssl.handshake.cipherspec', ''), ('ssl.record.length', ''), ('frame.ignored', '0'), ('ssl.handshake.extensions_server_name_list_len', ''), ('rss.channel.lastbuilddate', ''), ('browser.update_count', ''), ('smb.access.write_ea', ''), ('smb.file_attribute.read_only', ''), ('dns.count.labels', ''), ('frame.time_epoch', '1295981542.484409000'), ('tcp.options.sack_re', ''), ('png.phys.vert', ''), ('smb.andxoffset', ''), ('frame.offset_shift', '0.000000000'), ('smb.data_offset', ''), ('bootp.ip.client', ''), ('smb.share.access.read', ''), ('nbns.flags.recdesired', ''), ('tcp.analysis.out_of_order', ''), ('icmp.checksum.status', ''), ('frame.protocols', 'eth:ethertype:ip:tcp:http'), ('image-jfif.sos.ah', ''), ('ssl.ignored_unknown_record', ''), ('browser.server_type.sql', ''), ('rss.version', ''), ('png.ihdr.bitdepth', ''), ('nbdgm.dgram_len', ''), ('icmp.code', ''), ('smb.sc', ''), ('image-gif.image_background_index', ''), ('tcp.urgent_pointer', '0'), ('ssl.handshake.extensions_supported_groups_length', ''), ('ssl', ''), ('ip.dsfield.dscp', '0'), ('png.ihdr.colour_type', ''), ('image-gif.global.color_bpp', ''), ('http.request.uri.query.parameter', 'q=cr'), ('ip.checksum.status', '2'), ('browser.server_type.domain_controller', ''), ('ssl.handshake.type', ''), ('ssl.handshake.random_bytes', ''), ('image-gif.image.left', ''), ('dns.qry.name', ''), ('png.ihdr.compression_method', ''), ('arp.proto.type', ''), ('nbdgm.dgram_id', ''), ('png.ihdr.interlace_method', ''), ('xml.xmlpi.xml.version', ''), ('arp.proto.size', ''), ('mailslot.priority', ''), ('smb.flags2.reparse_path', ''), ('smb.nt.create_options.no_compression', ''), ('image-gif.image.top', ''), ('dns.qry.class', ''), ('smb.create.disposition', ''), ('ip.ttl.too_small', ''), ('smb.tpc', ''), ('tcp.dstport', '80'), ('ssl.handshake.random', ''), ('ssl.handshake.extensions_server_name_type', ''), ('ssl.handshake.challenge_length', ''), ('smb.access.append', ''), ('smb.file_attribute.archive', ''), ('snmp.value.int', ''), ('browser.os_major', ''), ('tcp.payload', '47:45:54:20:2f:63:6f:6d:70:6c:65:74:65:2f:73:65:61:72:63:68:3f:63:6c:69:65:6e:74:3d:63:68:72:6f:6d:65:26:68:6c:3d:65:6e:2d:55:53:26:71:3d:63:72:20:48:54:54:50:2f:31:2e:31:0d:0a:48:6f:73:74:3a:20:63:6c:69:65:6e:74:73:31:2e:67:6f:6f:67:6c:65:2e:63:61:0d:0a:43:6f:6e:6e:65:63:74:69:6f:6e:3a:20:6b:65:65:70:2d:61:6c:69:76:65:0d:0a:55:73:65:72:2d:41:67:65:6e:74:3a:20:4d:6f:7a:69:6c:6c:61:2f:35:2e:30:20:28:57:69:6e:64:6f:77:73:3b:20:55:3b:20:57:69:6e:64:6f:77:73:20:4e:54:20:36:2e:31:3b:20:65:6e:2d:55:53:29:20:41:70:70:6c:65:57:65:62:4b:69:74:2f:35:33:34:2e:31:30:20:28:4b:48:54:4d:4c:2c:20:6c:69:6b:65:20:47:65:63:6b:6f:29:20:43:68:72:6f:6d:65:2f:38:2e:30:2e:35:35:32:2e:32:33:37:20:53:61:66:61:72:69:2f:35:33:34:2e:31:30:0d:0a:41:63:63:65:70:74:2d:45:6e:63:6f:64:69:6e:67:3a:20:67:7a:69:70:2c:64:65:66:6c:61:74:65:2c:73:64:63:68:0d:0a:41:63:63:65:70:74:2d:4c:61:6e:67:75:61:67:65:3a:20:65:6e:2d:55:53:2c:65:6e:3b:71:3d:30:2e:38:0d:0a:41:63:63:65:70:74:2d:43:68:61:72:73:65:74:3a:20:49:53:4f:2d:38:38:35:39:2d:31:2c:75:74:66:2d:38:3b:71:3d:30:2e:37:2c:2a:3b:71:3d:30:2e:33:0d:0a:43:6f:6f:6b:69:65:3a:20:50:52:45:46:3d:49:44:3d:63:32:65:33:35:30:30:31:32:32:35:38:64:66:31:63:3a:55:3d:33:38:36:61:36:65:62:65:66:30:64:62:32:38:37:63:3a:46:46:3d:30:3a:54:4d:3d:31:32:39:34:31:36:34:32:39:34:3a:4c:4d:3d:31:32:39:34:31:36:34:32:39:34:3a:53:3d:62:63:75:77:4d:36:56:68:35:65:63:4b:78:71:6d:6b:3b:20:53:49:44:3d:44:51:41:41:41:4e:34:41:41:41:42:33:4d:77:37:68:53:41:58:6d:32:39:73:76:66:5a:51:78:52:68:61:45:56:4c:35:78:5f:37:4a:45:79:57:45:79:77:50:74:66:49:4b:6d:56:32:51:4d:43:5a:36:31:56:66:53:76:47:78:67:2d:57:43:77:53:37:4f:59:6e:45:6f:6e:61:76:64:52:65:69:54:67:5a:5f:33:4a:61:6c:63:50:79:49:6e:78:59:62:48:47:36:36:38:68:62:68:66:56:52:78:43:48:57:72:61:43:38:6c:4e:68:68:68:5a:76:43:34:35:4c:33:32:57:44:6a:6b:50:52:52:79:30:71:6d:6f:7a:5f:33:53:47:7a:44:44:67:75:6d:42:32:6d:67:79:6a:54:48:69:71:52:64:67:45:6d:6f:70:73:45:76:6f:75:6f:62:53:5a:44:52:78:69:78:58:64:41:4e:76:54:48:79:71:38:35:50:6d:56:6e:7a:4b:48:4b:5f:2d:78:37:68:56:64:59:68:75:34:34:4a:36:50:5f:6f:49:34:62:5a:57:6e:48:41:39:36:36:51:6e:61:37:33:71:35:59:4f:50:50:65:76:76:5a:51:56:58:38:46:37:31:6e:56:6a:44:6b:34:61:4a:4d:35:4b:68:6c:41:51:77:42:44:78:35:66:7a:72:56:39:57:6b:5f:52:5f:59:2d:65:67:7a:30:73:44:4c:39:6f:43:33:66:42:55:52:47:56:77:70:34:79:77:51:3b:20:48:53:49:44:3d:41:71:67:4d:33:4a:6c:7a:72:56:41:33:51:6b:69:79:7a:3b:20:4e:49:44:3d:34:33:3d:46:5f:6f:53:5a:57:79:6f:39:4e:69:61:64:6b:31:37:6d:36:35:51:74:4d:39:61:6c:42:4a:51:34:59:4c:30:42:30:79:41:50:37:31:72:75:4e:71:61:35:73:56:34:4a:4f:52:49:6d:73:51:6f:76:55:31:50:57:32:50:45:49:49:37:61:2d:35:4b:55:69:34:59:43:52:4d:43:65:79:74:75:68:69:77:6b:57:67:53:6c:57:74:48:45:41:6a:5f:6e:74:5f:45:46:38:79:38:34:4d:4e:6d:72:74:6d:52:7a:4b:39:4b:74:68:39:36:4e:34:2d:62:50:5a:0d:0a:0d:0a'), ('rtcp.senderssrc', ''), ('smb.tdc', ''), ('tcp.time_delta', '0.000000000'), ('bootp.file', ''), ('image-gif.global.color_map', ''), ('smb.reserved', ''), ('image-jfif.sos.ac_entropy_selector', ''), ('arp.hw.type', ''), ('browser.server_type.domainenum', ''), ('bootp.cookie', ''), ('browser.os_minor', ''), ('smb.access.read_attributes', ''), ('frame.marked', '0'), ('smb.flags2.sec_sig_required', ''), ('ip.checksum', '0x00009e7c'), ('data.data', ''), ('dns.resp.name', ''), ('nbns.count.auth_rr', ''), ('browser.server_type.backup_controller', ''), ('bootp.id', ''), ('smb.nt.create.dir', ''), ('http.request.full_uri', 'http://clients1.google.ca/complete/search?client=chrome&hl=en-US&q=cr'), ('http.transfer_encoding', ''), ('smb.fid.closed_in', ''), ('dns.retransmission', ''), ('tcp.port', '80'), ('ssl.alert_message', ''), ('browser.server_type.print', ''), ('tcp.analysis.duplicate_ack', ''), ('dns.flags.z', ''), ('browser.server_type.server', ''), ('smb.nt.create_options.sync_io_nonalert', ''), ('ssl.handshake.cipher_spec_len', ''), ('xml.tag', ''), ('smb.mdc', ''), ('arp.dst.proto_ipv4', ''), ('smb.file_attribute.offline', ''), ('tcp.analysis.push_bytes_sent', '943'), ('udp.possible_traceroute', ''), ('nat-pmp.pml', ''), ('smb.access.synchronize', ''), ('ssl.handshake.extensions_supported_group', ''), ('rss.channel', ''), ('smb.fid.opened_in', ''), ('rss.channel.item.enclosure.length', ''), ('smb.nt.create_options.eight_dot_three_only', ''), ('json.value.number', ''), ('ip.flags', '0x00004000'), ('smb.error_code', ''), ('image-gif.global.color_map.ordered', ''), ('image-jfif.marker', ''), ('browser.server_type.nts', ''), ('http.response_number', ''), ('png.ihdr.filter_method', ''), ('http.request.line', 'Cookie: PREF=ID=c2e350012258df1c:U=386a6ebef0db287c:FF=0:TM=1294164294:LM=1294164294:S=bcuwM6Vh5ecKxqmk; SID=DQAAAN4AAAB3Mw7hSAXm29svfZQxRhaEVL5x_7JEyWEywPtfIKmV2QMCZ61VfSvGxg-WCwS7OYnEonavdReiTgZ_3JalcPyInxYbHG668hbhfVRxCHWraC8lNhhhZvC45L32WDjkPRRy0qmoz_3SGzDDgumB2mgyjTHiqRdgEmopsEvouobSZDRxixXdANvTHyq85PmVnzKHK_-x7hVdYhu44J6P_oI4bZWnHA966Qna73q5YOPPevvZQVX8F71nVjDk4aJM5KhlAQwBDx5fzrV9Wk_R_Y-egz0sDL9oC3fBURGVwp4ywQ; HSID=AqgM3JlzrVA3Qkiyz; NID=43=F_oSZWyo9Niadk17m65QtM9alBJQ4YL0B0yAP71ruNqa5sV4JORImsQovU1PW2PEII7a-5KUi4YCRMCeytuhiwkWgSlWtHEAj_nt_EF8y84MNmrtmRzK9Kth96N4-bPZ\\r\\n'), ('ssl.handshake.extensions_reneg_info_len', ''), ('bootp.hw.len', ''), ('dns.flags.authoritative', ''), ('http.file_data', ''), ('tcp.options.sack_perm', ''), ('rss.channel.item.enclosure', ''), ('frame.cap_len', '997'), ('browser.server_type.dialin', ''), ('dns.resp.type', ''), ('smb.alloc_size64', ''), ('smb.pc', ''), ('smb.access.write_owner', ''), ('smb.access_mask', ''), ('urlencoded-form.key', ''), ('http.date', ''), ('smb.nt.create_options.write_through', ''), ('image-jfif.length', ''), ('icmp.resp_to', ''), ('smb.security.flags', ''), ('http.response.code.desc', ''), ('browser.windows_version', ''), ('http.prev_request_in', ''), ('bootp.ip.server', ''), ('png.gama.gamma', ''), ('http.content_encoding', ''), ('http.request_in', ''), ('arp.hw.size', ''), ('nbss.flags', ''), ('http.response.code', ''), ('dns.a', ''), ('dns.retransmit_request', ''), ('image-gif.extension.label', ''), ('tcp.flags.ecn', '0'), ('rss.channel.item.guid', ''), ('smb.nt.create_options.intermediate_buffering', ''), ('ssl.handshake.extensions_server_name_len', ''), ('dns.count.add_rr', ''), ('image-jfif.sof.c_i', ''), ('smb.server_component', ''), ('ssl.handshake.extension.type', ''), ('bootp.dhcp', ''), ('ssl.handshake.extensions_ec_point_formats_length', ''), ('tcp.flags.push', '1'), ('smb.echo.seq_num', ''), ('data.len', ''), ('dns.flags.truncated', ''), ('eth.src', '40:61:86:9a:f1:f5'), ('http.response.version', ''), ('http.referer', ''), ('tcp.segment', ''), ('ssl.handshake.challenge', ''), ('tcp.segment.count', ''), ('smb.file_attribute.hidden', ''), ('image-gif.end', ''), ('ssl.handshake.random_time', ''), ('bootp.option.end', ''), ('ip.addr', '72.14.213.138'), ('image-gif.image.height', ''), ('image-gif.version', ''), ('http.connection', 'keep-alive'), ('tcp.analysis.initial_rtt', ''), ('mailslot.opcode', ''), ('xml.xmlpi.xml.encoding', ''), ('nbdgm.destination_name', ''), ('http.accept', ''), ('image-jfif.remain_seg_data', ''), ('png.chunk.crc', ''), ('dns.flags.recavail', ''), ('nbdgm.source_name', ''), ('ip.len', '983'), ('tcp.checksum.status', '2'), ('rss.channel.title', ''), ('_ws.expert.severity', '2097152'), ('frame.time_delta_displayed', '0.000000000'), ('rss.channel.item.enclosure.type', ''), ('rss.channel.item.enclosure.url', '')])\n"
     ]
    }
   ],
   "source": [
    "# So simply use an existing python file and class already in the `funcs` directory\n",
    "# or create a new one, and make sure the class subclasses `Features`\n",
    "# and the function signatures take in rows and return rows\n",
    "# the above example as a helper function `get_columns` that lets you provide a list of fields and the rows\n",
    "# and returns the rows with only those fields\n",
    "\n",
    "# You don't need to use the helper function, but the returns rows should be a list of dictionaries\n",
    "# just like the input of rows is (the same thing you get back from a CSV DictReader)\n",
    "\n",
    "# Here's a sample to test:\n",
    "from networkml.featurizers.csv_to_features import CSVToFeatures\n",
    "instance = CSVToFeatures()\n",
    "rows = list(csv.DictReader(instance.get_reader('trace_ab12_2001-01-01_02_03-client-ip-1-2-3-4.pcap.csv.gz', True)))\n",
    "print(rows[0])"
   ]
  },
  {
   "cell_type": "code",
   "execution_count": 8,
   "metadata": {},
   "outputs": [
    {
     "name": "stdout",
     "output_type": "stream",
     "text": [
      "{'eth.src': '40:61:86:9a:f1:f5', 'eth.dst': '00:1a:8c:15:f9:80'}\n"
     ]
    }
   ],
   "source": [
    "from networkml.featurizers.features import Features\n",
    "\n",
    "class Flow(Features):\n",
    "\n",
    "    def example_simple(self, rows):\n",
    "        fields = ['eth.src', 'eth.dst']\n",
    "        return self.get_columns(fields, rows)\n",
    "\n",
    "flow = Flow()\n",
    "new_rows = flow.example_simple(rows)\n",
    "print(new_rows[0])"
   ]
  },
  {
   "cell_type": "code",
   "execution_count": 9,
   "metadata": {},
   "outputs": [
    {
     "data": {
      "text/plain": [
       "odict_keys(['dns.count.auth_rr', 'tcp.segment_data', 'tcp.ack', 'png.chunk.len', 'tcp.analysis.rto', 'frame.time_delta', 'http.set_cookie', '_ws.malformed.expert', 'smb.file_attribute.not_content_indexed', 'tcp.analysis.lost_segment', 'tcp.options.eol', 'ip.src', 'smb.signature', 'dns.time', 'tcp.flags.str', 'nbss.type', 'smb.transaction.flags.owt', 'browser.server_type.local', 'browser.server_type.member', 'smb.flags.oplock', 'tcp.options.mss_val', 'ssl.handshake.extensions_npn', 'ssl.handshake.extensions_server_name', 'smb.trans_name', 'nbns.type', 'dns.flags.authenticated', 'png.chunk.type', '_ws.expert.group', 'smb.share.access.delete', 'ip.dst_host', 'smb.nt.create_options.reserve_opfilter', 'tcp.connection.rst', 'image-jfif.sof.samples_per_line', 'nbns.count.queries', '_ws.expert.message', 'http.accept_language', 'smb.flags2.ea', 'ip.id', '_type', 'tcp.analysis.ack_rtt', 'bootp.flags.reserved', 'snmp.request_id', 'rss.channel.ttl', 'image-jfif.sof.nf', 'snmp.value.null', 'smb.wct', 'snmp.version', 'tcp.flags.fin', 'snmp.data', 'ssl.handshake.cipher_suites_length', 'ssl.handshake.extensions_npn_str_len', 'http.chat', 'nbdgm.node_type', 'smb.nt.create_options.sync_io_alert', '_score', 'tcp.time_relative', 'udp.checksum', 'tcp.ack.nonzero', 'image-gif.local.color_map.present', 'tcp.analysis.rto_frame', 'smb.access.delete', 'rss.channel.image.title', '_index', 'tcp.options.mss', 'http.request.uri', 'browser.period', 'mailslot.name', 'browser.server_type.browser.master', 'smb.nt.create_options.no_ea_knowledge', 'dns.flags.tentative', 'nbdgm.src.port', 'bootp.hops', 'image-gif.local.color_bpp', 'rtcp.mediassrc', 'http.cookie_pair', 'http.subdissector_failed', 'smb.flags.response', 'smb.access.generic_execute', 'http.request.uri.query', 'snmp.community', 'http.chunk_size', 'frame.time_relative', 'rss.channel.image.link', 'http.response.line', 'http.request', 'smb.response_to', 'smb.access.read', 'http.prev_response_in', 'dns.flags.checkdisable', 'rss.channel.image.url', 'ssl.handshake', 'image-gif.image.width', 'smb.flags.receive_buffer', 'udp.dstport', 'mailslot.size', 'tcp.options', 'smb.last_write.time', 'ip.dst', 'ip.flags.rb', 'ssl.handshake.extensions_status_request_responder_ids_len', 'http.request.uri.path', 'smb.pid.high', 'rtcp.padding', 'tcp.reassembled.length', 'rss.channel.item.description', 'eth.dst_resolved', 'icmp.seq_le', 'icmp.ident', 'tcp.len', 'image-jfif.sos.ns', 'arp.opcode', 'smb.flags2.long_names_used', 'udp.stream', 'rss.channel.item', 'browser.server_type.novell', 'tcp.analysis.bytes_in_flight', 'ip.frag_offset', 'tcp.options.sack', 'browser.server_type.browser.potential', 'http.cookie', 'tcp.stream', 'udp.length', 'ssl.record.content_type', 'dns.flags', 'eth.addr', 'image-gif.image.code_size', 'smb.nt.create_options.sequential_only', 'png.signature', 'ssl.handshake.comp_methods_length', 'browser.proto_major', 'smb.nt.create_options.open_by_fileid', 'icmp.seq', 'smb.echo.count', 'http.request.method', 'http.response_for.uri', 'image-jfif.sof.v_i', 'image-jfif.sos.ss', 'image-jfif.entropy_coded_segment', 'rtcp.pt', 'bootp.ip.your', 'ssl.handshake.version', 'image-gif.global.color_map.present', 'smb.flags', 'arp.src.proto_ipv4', 'dns.flags.conflict', 'smb.access.delete_child', 'smb.flags2.esn', 'ssl.handshake.extension.len', 'browser.server_type.browser.backup', 'tcp.flags.reset', 'nat-pmp.external_port', 'ip.proto', 'smb.uid', 'tcp.analysis.acks_frame', 'xml.unknown', 'ip.dsfield.ecn', 'browser.server_type.wfw', 'http.request.version', 'icmp.type', 'nbss.flags.e', 'tcp.option_kind', 'tcp.connection.sack', 'smb.file_attribute.normal', 'smb.msc', 'smb.nt.create_options.open_reparse_point', 'nbdgm.src.ip', 'tcp.flags.res', 'image-gif.data_block', 'ssl.handshake.comp_method', 'smb.share_access', 'media.type', 'smb.flags.caseless', 'smb.flags2.string', 'rss.channel.language', 'browser.server_type.vms', 'smb.access.read_ea', 'http.chunk_boundary', 'image-gif.local.color_map.ordered', 'data-text-lines', 'ip.ttl', 'smb.file_attribute.system', 'smb.flags2', 'nbns.flags.opcode', 'smb.access.generic_all', 'smb.error_class', 'png.chunk.data', 'ssl.handshake.extensions_length', 'image-jfif.sof.h_i', 'rss.channel.item.guid.ispermalink', 'nbns.id', 'smb.flags.canon', 'smb.flags.lock', 'nbns.flags.truncated', 'browser.server_type.osf', 'smb.nt.create_options.open_for_free_space_query', 'browser.server_type.dfs', 'nbss.length', 'smb.file_attribute.temporary', 'dns.resp.len', 'dns.flags.recdesired', 'xml.cdata', 'eth.lg', 'arp.src.hw_mac', 'smb.file_attribute.volume', 'xml.xmlpi.xml', 'png.ihdr.height', 'http.content_length_header', 'smb.file_attribute.encrypted', 'ssl.handshake.extension.data', 'smb.access.generic_write', 'browser.command', 'tcp.options.nop', 'tcp.hdr_len', 'tcp.window_size_scalefactor', 'nat-pmp.reserved', 'smb.share.access.write', 'smb.file_attribute', 'icmp.unused', 'smb.access.system_security', 'bootp.type', 'json.key', 'smb.nt.create_options.non_directory', '_ws.malformed', 'eth.src_resolved', 'ssl.handshake.extensions_status_request_exts_len', 'rss.channel.link', 'smb.nt.create_options.directory', 'ip.flags.mf', 'arp.dst.hw_mac', 'smb.transaction.flags', 'smb.security.flags.effective_only', 'udp.srcport', 'image-jfif.sof.tq_i', 'nbns.class', 'http.accept_encoding', 'bootp.option.type', 'png.phys.horiz', 'nbdgm.flags', 'ip.host', 'bootp.hw.type', 'rtcp.psfb.fmt', 'smb.mpc', 'nat-pmp.opcode', 'browser.proto_minor', 'nbns.flags.broadcast', 'smb.file_attribute.sparse', 'tcp.seq', 'tcp.connection.fin', 'dns.qry.name.len', 'smb.nt.create_options.create_tree_connection', 'smb.access.write_dac', 'smb.impersonation.level', 'smb.access.generic_read', 'png.ihdr.width', 'ssl.handshake.session_id_length', 'rss.channel.item.category', 'browser.server', 'smb.file_attribute.compressed', 'tcp.srcport', 'image-jfif.sos.component_selector', 'http.user_agent', 'ip.version', 'png.chunk.flag.ancillary', 'dns.count.answers', 'more testing', 'ip.hdr_len', 'icmp.resptime', 'bootp.hw.addr_padding', 'smb.create_options', 'browser.server_type.workstation', 'ssl.handshake.session_id', 'smb.file_attribute.device', 'tcp.flags.cwr', 'smb.access.maximum_allowed', 'dns.cname', 'ssl.record.version', 'http.content_type', 'dns.retransmit_request_in', 'http.last_modified', 'ip.flags.df', 'nbns.flags.response', 'png.srgb.intent', 'http.response.phrase', 'image-jfif.sos.al', 'frame.number', 'ssl.handshake.extensions_ec_point_format', 'smb.nt.create_options.delete_on_close', 'smb.flags2.compressed', 'browser.server_type.w95', 'smb.file_attribute.reparse', 'snmp.name', 'tcp.flags.ack', 'browser.sig', 'smb.dc', 'smb.file_name_len', 'frame.time', 'smb.fid', 'tcp.analysis.window_full', 'smb.nt.create_options.random_access', 'smb.tid', 'tcp.analysis.retransmission', 'smb.file_attribute.directory', 'eth.type', 'image-jfif.sos.dc_entropy_selector', 'png.chunk.flag.private', 'tcp.option_len', 'tcp.window_size', 'tcp.options.wscale', 'image-jfif.sof.precision', 'smb.flags.notify', 'browser.server_type.browser.domain_master', 'eth.ig', 'http.content_length', 'snmp.variable_bindings', 'eth.addr_resolved', 'smb.nt.create.ext', 'nbdgm.type', 'bootp.server', 'smb.flags2.sec_sig', 'smb.flags2.long_names_allowed', 'image-jfif.sos.se', 'rtcp.length', 'ip.src_host', 'smb.rfid', 'smb.flags2.dfs', 'rss.channel.description', 'smb.nt.create.oplock', 'smb.nt.create_options.backup_intent', 'http.host', 'tcp.options.sack_le', 'http.response', 'smb.timeout', 'smb.create_flags', 'snmp.error_status', 'browser.server_type.apple', 'tcp.analysis.duplicate_ack_frame', 'smb.nt.create_options.complete_if_oplocked', 'rss.channel.copyright', 'dns.count.queries', 'tcp.flags.syn', 'smb.cmd', 'nbns.name', 'tcp.connection.syn', 'image-jfif.sof.lines', 'eth.dst', 'http.request_number', 'ssl.handshake.length', 'browser.server_type.ntw', 'ssl.app_data', 'smb.access.read_control', 'frame.len', 'xml.attribute', 'bootp.secs', 'snmp.value.octets', 'image-gif.screen.height', 'ssl.handshake.extensions_status_request_type', 'eth.padding', 'smb.flags2.nt_error', 'browser.server_type.xenix', 'smb.access.execute', 'tcp.nxtseq', 'rss.channel.item.title', 'icmp.checksum', 'dns.response_to', 'urlencoded-form.value', 'smb.pid', 'tcp.window_size_value', 'rtcp.version', 'tcp.flags', 'dns.id', 'dns.qry.type', 'http.server', 'tcp.analysis.window_update', 'tcp.reassembled.data', 'http.cache_control', 'smb.nt.create_options.open_no_recall', 'http.location', 'browser.server_type', 'rss.channel.item.link', 'smb.mid', 'nbns.count.add_rr', 'dns.resp.class', 'I find the term packet sniffer dirty.', 'nbns.flags', 'bootp.ip.relay', 'mailslot.class', 'png.phys.unit', 'smb.file', 'ssl.handshake.ciphersuite', 'udp.port', 'smb.bcc', 'bootp.option.padding', 'tcp.flags.ns', 'smb.security.flags.context_tracking', 'dns.ns', 'http.time', 'nbdgm.pkt_offset', 'nat-pmp.version', 'nbdgm.next', 'smb.flags2.roe', 'smb.time', 'nat-pmp.internal_port', 'frame.encap_type', 'smb.nt.create.batch_oplock', 'tcp.flags.urg', 'nbdgm.first', 'tcp.analysis.ack_lost_segment', 'nbns.count.answers', 'tcp.analysis.duplicate_ack_num', 'png.chunk.flag.stc', 'ip.dsfield', 'rss.channel.image', 'smb.po', 'snmp.error_index', 'dns.flags.response', 'image-gif.screen.width', 'rss.channel.item.pubdate', 'browser.comment', 'smb.access.write_attributes', 'tcp.options.sack.count', 'image-gif.global.bpp', 'dns.flags.rcode', 'tcp.options.wscale.shift', 'dns.flags.opcode', 'dns.resp.ttl', 'udp.checksum.status', 'bootp.flags.bc', 'smb.nt_status', 'smb.echo.data', 'browser.server_type.time', 'bootp.flags', 'bootp.hw.mac_addr', 'smb.access.write', 'tcp.options.wscale.multiplier', 'tcp.checksum', 'smb.transaction.flags.dtid', 'ssl.handshake.cipherspec', 'ssl.record.length', 'frame.ignored', 'ssl.handshake.extensions_server_name_list_len', 'rss.channel.lastbuilddate', 'browser.update_count', 'smb.access.write_ea', 'smb.file_attribute.read_only', 'dns.count.labels', 'frame.time_epoch', 'tcp.options.sack_re', 'png.phys.vert', 'smb.andxoffset', 'frame.offset_shift', 'smb.data_offset', 'bootp.ip.client', 'smb.share.access.read', 'nbns.flags.recdesired', 'tcp.analysis.out_of_order', 'icmp.checksum.status', 'frame.protocols', 'image-jfif.sos.ah', 'ssl.ignored_unknown_record', 'browser.server_type.sql', 'rss.version', 'png.ihdr.bitdepth', 'nbdgm.dgram_len', 'icmp.code', 'smb.sc', 'image-gif.image_background_index', 'tcp.urgent_pointer', 'ssl.handshake.extensions_supported_groups_length', 'ssl', 'ip.dsfield.dscp', 'png.ihdr.colour_type', 'image-gif.global.color_bpp', 'http.request.uri.query.parameter', 'ip.checksum.status', 'browser.server_type.domain_controller', 'ssl.handshake.type', 'ssl.handshake.random_bytes', 'image-gif.image.left', 'dns.qry.name', 'png.ihdr.compression_method', 'arp.proto.type', 'nbdgm.dgram_id', 'png.ihdr.interlace_method', 'xml.xmlpi.xml.version', 'arp.proto.size', 'mailslot.priority', 'smb.flags2.reparse_path', 'smb.nt.create_options.no_compression', 'image-gif.image.top', 'dns.qry.class', 'smb.create.disposition', 'ip.ttl.too_small', 'smb.tpc', 'tcp.dstport', 'ssl.handshake.random', 'ssl.handshake.extensions_server_name_type', 'ssl.handshake.challenge_length', 'smb.access.append', 'smb.file_attribute.archive', 'snmp.value.int', 'browser.os_major', 'tcp.payload', 'rtcp.senderssrc', 'smb.tdc', 'tcp.time_delta', 'bootp.file', 'image-gif.global.color_map', 'smb.reserved', 'image-jfif.sos.ac_entropy_selector', 'arp.hw.type', 'browser.server_type.domainenum', 'bootp.cookie', 'browser.os_minor', 'smb.access.read_attributes', 'frame.marked', 'smb.flags2.sec_sig_required', 'ip.checksum', 'data.data', 'dns.resp.name', 'nbns.count.auth_rr', 'browser.server_type.backup_controller', 'bootp.id', 'smb.nt.create.dir', 'http.request.full_uri', 'http.transfer_encoding', 'smb.fid.closed_in', 'dns.retransmission', 'tcp.port', 'ssl.alert_message', 'browser.server_type.print', 'tcp.analysis.duplicate_ack', 'dns.flags.z', 'browser.server_type.server', 'smb.nt.create_options.sync_io_nonalert', 'ssl.handshake.cipher_spec_len', 'xml.tag', 'smb.mdc', 'arp.dst.proto_ipv4', 'smb.file_attribute.offline', 'tcp.analysis.push_bytes_sent', 'udp.possible_traceroute', 'nat-pmp.pml', 'smb.access.synchronize', 'ssl.handshake.extensions_supported_group', 'rss.channel', 'smb.fid.opened_in', 'rss.channel.item.enclosure.length', 'smb.nt.create_options.eight_dot_three_only', 'json.value.number', 'ip.flags', 'smb.error_code', 'image-gif.global.color_map.ordered', 'image-jfif.marker', 'browser.server_type.nts', 'http.response_number', 'png.ihdr.filter_method', 'http.request.line', 'ssl.handshake.extensions_reneg_info_len', 'bootp.hw.len', 'dns.flags.authoritative', 'http.file_data', 'tcp.options.sack_perm', 'rss.channel.item.enclosure', 'frame.cap_len', 'browser.server_type.dialin', 'dns.resp.type', 'smb.alloc_size64', 'smb.pc', 'smb.access.write_owner', 'smb.access_mask', 'urlencoded-form.key', 'http.date', 'smb.nt.create_options.write_through', 'image-jfif.length', 'icmp.resp_to', 'smb.security.flags', 'http.response.code.desc', 'browser.windows_version', 'http.prev_request_in', 'bootp.ip.server', 'png.gama.gamma', 'http.content_encoding', 'http.request_in', 'arp.hw.size', 'nbss.flags', 'http.response.code', 'dns.a', 'dns.retransmit_request', 'image-gif.extension.label', 'tcp.flags.ecn', 'rss.channel.item.guid', 'smb.nt.create_options.intermediate_buffering', 'ssl.handshake.extensions_server_name_len', 'dns.count.add_rr', 'image-jfif.sof.c_i', 'smb.server_component', 'ssl.handshake.extension.type', 'bootp.dhcp', 'ssl.handshake.extensions_ec_point_formats_length', 'tcp.flags.push', 'smb.echo.seq_num', 'data.len', 'dns.flags.truncated', 'eth.src', 'http.response.version', 'http.referer', 'tcp.segment', 'ssl.handshake.challenge', 'tcp.segment.count', 'smb.file_attribute.hidden', 'image-gif.end', 'ssl.handshake.random_time', 'bootp.option.end', 'ip.addr', 'image-gif.image.height', 'image-gif.version', 'http.connection', 'tcp.analysis.initial_rtt', 'mailslot.opcode', 'xml.xmlpi.xml.encoding', 'nbdgm.destination_name', 'http.accept', 'image-jfif.remain_seg_data', 'png.chunk.crc', 'dns.flags.recavail', 'nbdgm.source_name', 'ip.len', 'tcp.checksum.status', 'rss.channel.title', '_ws.expert.severity', 'frame.time_delta_displayed', 'rss.channel.item.enclosure.type', 'rss.channel.item.enclosure.url'])"
      ]
     },
     "execution_count": 9,
     "metadata": {},
     "output_type": "execute_result"
    }
   ],
   "source": [
    "# great, but how did we know the fields?\n",
    "rows[0].keys()"
   ]
  },
  {
   "cell_type": "code",
   "execution_count": 10,
   "metadata": {},
   "outputs": [
    {
     "name": "stdout",
     "output_type": "stream",
     "text": [
      "Number of original records: 14261\n",
      "\n",
      "Fields/Values in first record (row): {'eth.src': '00:1a:8c:10:ad:30', 'eth.dst': '00:1e:68:51:4f:a9', 'Combined IPs': '95.160.236.51:172.16.255.1'}\n",
      "\n",
      "Number of records after deduplication: 432\n",
      "\n"
     ]
    }
   ],
   "source": [
    "# what if we want to create a new field/column or reduce the number of records/rows?\n",
    "from networkml.featurizers.features import Features\n",
    "\n",
    "class NewColumn(Features):\n",
    "\n",
    "    def example_modify(self, rows):\n",
    "        # reduce rows first as needed\n",
    "        fields = ['layers', 'eth.src', 'eth.dst', 'ip.src', 'ip.dst']\n",
    "        rows = self.get_columns(fields, rows)\n",
    "        \n",
    "        # create new columns using existing column info\n",
    "        last_layer = 'Last Layer'\n",
    "        combined_ips = 'Combined IPs'\n",
    "        # each row is a dict\n",
    "        for row in rows:\n",
    "            # not all rows are guaranteed to have 'layers'\n",
    "            if 'layers' in row:  \n",
    "                # get the last element in the stringified list and clean it up\n",
    "                row[last_layer] = row['layers'].split('<')[-1][:-2].split()[0]\n",
    "            \n",
    "            # not all rows are guaranteed to have 'ip.src' and ip.dst\n",
    "            if 'ip.src' in row and 'ip.dst' in row:\n",
    "                # combine two fields with a colon, making a new field\n",
    "                row[combined_ips] = row['ip.src']+':'+row['ip.dst']\n",
    "                # remove ip.src and ip.dst now that we have them\n",
    "                del row['ip.src']\n",
    "                del row['ip.dst']\n",
    "        \n",
    "        # remove duplicate rows\n",
    "        rows = [dict(t) for t in {tuple(d.items()) for d in rows}]\n",
    "        return rows\n",
    "\n",
    "print(f'Number of original records: {len(rows)}\\n')\n",
    "ncol = NewColumn()\n",
    "new_rows = ncol.example_modify(rows)\n",
    "print(f'Fields/Values in first record (row): {new_rows[0]}\\n')\n",
    "print(f'Number of records after deduplication: {len(new_rows)}\\n')"
   ]
  },
  {
   "cell_type": "code",
   "execution_count": null,
   "metadata": {},
   "outputs": [],
   "source": []
  }
 ],
 "metadata": {
  "kernelspec": {
   "display_name": "Python 3",
   "language": "python",
   "name": "python3"
  },
  "language_info": {
   "codemirror_mode": {
    "name": "ipython",
    "version": 3
   },
   "file_extension": ".py",
   "mimetype": "text/x-python",
   "name": "python",
   "nbconvert_exporter": "python",
   "pygments_lexer": "ipython3",
   "version": "3.6.9"
  }
 },
 "nbformat": 4,
 "nbformat_minor": 4
}
