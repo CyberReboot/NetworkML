{
 "cells": [
  {
   "cell_type": "markdown",
   "metadata": {},
   "source": [
    "## IMPORTANT!!\n",
    "\n",
    "### From the root NetworkML directory, make sure you first run:\n",
    "```\n",
    "pip3 install .\n",
    "pip3 install nest_asyncio\n",
    "```\n",
    "\n",
    "NOTE: nest_asyncio is a needed hack to run this in jupyterlab/notebook. Additionally, you will also need to download Wireshark/tshark in order to use this notebook and then ensure that tshark is in the file path."
   ]
  },
  {
   "cell_type": "code",
   "execution_count": 2,
   "metadata": {},
   "outputs": [],
   "source": [
    "# some initial setup\n",
    "import sys\n",
    "\n",
    "# let's set a path to a pcap (we'll use one included in the tests)\n",
    "path = '../tests/trace_ab12_2001-01-01_02_03-client-ip-1-2-3-4.pcap'\n",
    "\n",
    "# let's change the output so it's easy to find\n",
    "output = 'trace_ab12_2001-01-01_02_03-client-ip-1-2-3-4.pcap.csv.gz'\n",
    "\n",
    "# set arguments for arg parse\n",
    "sys.argv = ['pcap_to_csv.py', f'-o{output}', path]"
   ]
  },
  {
   "cell_type": "code",
   "execution_count": 3,
   "metadata": {},
   "outputs": [
    {
     "name": "stderr",
     "output_type": "stream",
     "text": [
      "INFO:networkml.parsers.pcap_to_csv:Including the following layers in CSV (if they exist): ['<IP Layer>', '<ETH Layer>', '<TCP Layer>', '<UDP Layer>', '<ICMP Layer>', '<ICMPv6 Layer>', '<DNS Layer>', '<DHCP Layer>', '<DHCPv6 Layer>', '<ARP Layer>', '<IP6 Layer>', '<TLS Layer>']\n",
      "WARNING:networkml.parsers.pcap_to_csv:Found the following other layers in trace_ab12_2001-01-01_02_03-client-ip-1-2-3-4.pcap that were not added to the CSV: {'<LLMNR Layer>', '<PNG Layer>', '<DATA Layer>', '<DATA-TEXT-LINES Layer>', '<DB-LSP-DISC Layer>', '<NBNS Layer>', '<SNMP Layer>', '<IMAGE-JFIF Layer>', '<_WS.MALFORMED Layer>', '<URLENCODED-FORM Layer>', '<SSDP Layer>', '<XML Layer>', '<RTCP Layer>', '<NAT-PMP Layer>', '<IMAGE-GIF Layer>', '<MEDIA Layer>', '<BROWSER Layer>', '<MSNMS Layer>', '<NBSS Layer>', '<SMB Layer>', '<MAILSLOT Layer>', '<HTTP Layer>', '<_WS.UNREASSEMBLED Layer>', '<NBDGM Layer>'}\n",
      "INFO:networkml.parsers.pcap_to_csv:GZipped CSV file(s) written out to: ['trace_ab12_2001-01-01_02_03-client-ip-1-2-3-4.pcap.csv.gz']\n"
     ]
    }
   ],
   "source": [
    "# hack for jupyterlab since pyshark tries to take the main run loop\n",
    "import nest_asyncio\n",
    "nest_asyncio.apply()\n",
    "\n",
    "# import the class for converting PCAPs to CSVs\n",
    "from networkml.parsers.pcap_to_csv import PCAPToCSV\n",
    "instance = PCAPToCSV()\n",
    "\n",
    "# this will parse the args we specified above in sys.argv and run using them\n",
    "instance.main()\n",
    "\n",
    "# the will take a minute or so to run"
   ]
  },
  {
   "cell_type": "code",
   "execution_count": 4,
   "metadata": {},
   "outputs": [
    {
     "name": "stdout",
     "output_type": "stream",
     "text": [
      "{'udp.time_delta': '', 'udp.dstport_raw': '', 'frame.protocols': 'eth:ethertype:ip:tcp:http', 'tls.handshake': '', 'dhcp.flags.bc': '', 'tcp.flags.res_raw': \"['0', 46, 1, 3584, 2]\", 'tcp.options.sack_perm_tree': '', 'tcp.options': '', 'udp.length': '', 'arp.dst.proto_ipv4_raw': '', 'ip.ttl_tree': '', 'arp.dst.proto_ipv4': '', 'tls.alert_message_raw': '', 'tcp.checksum': '0x00005df8', 'eth.addr.oui': '4219270', 'tcp.window_size_scalefactor': '-1', 'eth.padding_raw': '', 'tcp.options.mss': '', 'dhcp.hw.type': '', 'http.host': '', 'dhcp.secs': '', 'tcp.options.sack_tree': '', 'tcp.payload': '47:45:54:20:2f:63:6f:6d:70:6c:65:74:65:2f:73:65:61:72:63:68:3f:63:6c:69:65:6e:74:3d:63:68:72:6f:6d:65:26:68:6c:3d:65:6e:2d:55:53:26:71:3d:63:72:20:48:54:54:50:2f:31:2e:31:0d:0a:48:6f:73:74:3a:20:63:6c:69:65:6e:74:73:31:2e:67:6f:6f:67:6c:65:2e:63:61:0d:0a:43:6f:6e:6e:65:63:74:69:6f:6e:3a:20:6b:65:65:70:2d:61:6c:69:76:65:0d:0a:55:73:65:72:2d:41:67:65:6e:74:3a:20:4d:6f:7a:69:6c:6c:61:2f:35:2e:30:20:28:57:69:6e:64:6f:77:73:3b:20:55:3b:20:57:69:6e:64:6f:77:73:20:4e:54:20:36:2e:31:3b:20:65:6e:2d:55:53:29:20:41:70:70:6c:65:57:65:62:4b:69:74:2f:35:33:34:2e:31:30:20:28:4b:48:54:4d:4c:2c:20:6c:69:6b:65:20:47:65:63:6b:6f:29:20:43:68:72:6f:6d:65:2f:38:2e:30:2e:35:35:32:2e:32:33:37:20:53:61:66:61:72:69:2f:35:33:34:2e:31:30:0d:0a:41:63:63:65:70:74:2d:45:6e:63:6f:64:69:6e:67:3a:20:67:7a:69:70:2c:64:65:66:6c:61:74:65:2c:73:64:63:68:0d:0a:41:63:63:65:70:74:2d:4c:61:6e:67:75:61:67:65:3a:20:65:6e:2d:55:53:2c:65:6e:3b:71:3d:30:2e:38:0d:0a:41:63:63:65:70:74:2d:43:68:61:72:73:65:74:3a:20:49:53:4f:2d:38:38:35:39:2d:31:2c:75:74:66:2d:38:3b:71:3d:30:2e:37:2c:2a:3b:71:3d:30:2e:33:0d:0a:43:6f:6f:6b:69:65:3a:20:50:52:45:46:3d:49:44:3d:63:32:65:33:35:30:30:31:32:32:35:38:64:66:31:63:3a:55:3d:33:38:36:61:36:65:62:65:66:30:64:62:32:38:37:63:3a:46:46:3d:30:3a:54:4d:3d:31:32:39:34:31:36:34:32:39:34:3a:4c:4d:3d:31:32:39:34:31:36:34:32:39:34:3a:53:3d:62:63:75:77:4d:36:56:68:35:65:63:4b:78:71:6d:6b:3b:20:53:49:44:3d:44:51:41:41:41:4e:34:41:41:41:42:33:4d:77:37:68:53:41:58:6d:32:39:73:76:66:5a:51:78:52:68:61:45:56:4c:35:78:5f:37:4a:45:79:57:45:79:77:50:74:66:49:4b:6d:56:32:51:4d:43:5a:36:31:56:66:53:76:47:78:67:2d:57:43:77:53:37:4f:59:6e:45:6f:6e:61:76:64:52:65:69:54:67:5a:5f:33:4a:61:6c:63:50:79:49:6e:78:59:62:48:47:36:36:38:68:62:68:66:56:52:78:43:48:57:72:61:43:38:6c:4e:68:68:68:5a:76:43:34:35:4c:33:32:57:44:6a:6b:50:52:52:79:30:71:6d:6f:7a:5f:33:53:47:7a:44:44:67:75:6d:42:32:6d:67:79:6a:54:48:69:71:52:64:67:45:6d:6f:70:73:45:76:6f:75:6f:62:53:5a:44:52:78:69:78:58:64:41:4e:76:54:48:79:71:38:35:50:6d:56:6e:7a:4b:48:4b:5f:2d:78:37:68:56:64:59:68:75:34:34:4a:36:50:5f:6f:49:34:62:5a:57:6e:48:41:39:36:36:51:6e:61:37:33:71:35:59:4f:50:50:65:76:76:5a:51:56:58:38:46:37:31:6e:56:6a:44:6b:34:61:4a:4d:35:4b:68:6c:41:51:77:42:44:78:35:66:7a:72:56:39:57:6b:5f:52:5f:59:2d:65:67:7a:30:73:44:4c:39:6f:43:33:66:42:55:52:47:56:77:70:34:79:77:51:3b:20:48:53:49:44:3d:41:71:67:4d:33:4a:6c:7a:72:56:41:33:51:6b:69:79:7a:3b:20:4e:49:44:3d:34:33:3d:46:5f:6f:53:5a:57:79:6f:39:4e:69:61:64:6b:31:37:6d:36:35:51:74:4d:39:61:6c:42:4a:51:34:59:4c:30:42:30:79:41:50:37:31:72:75:4e:71:61:35:73:56:34:4a:4f:52:49:6d:73:51:6f:76:55:31:50:57:32:50:45:49:49:37:61:2d:35:4b:55:69:34:59:43:52:4d:43:65:79:74:75:68:69:77:6b:57:67:53:6c:57:74:48:45:41:6a:5f:6e:74:5f:45:46:38:79:38:34:4d:4e:6d:72:74:6d:52:7a:4b:39:4b:74:68:39:36:4e:34:2d:62:50:5a:0d:0a:0d:0a', 'eth.dst.oui_raw': \"['001a8c', 0, 3, 0, 6]\", 'ip.ttl_raw': \"['80', 22, 1, 0, 4]\", 'dns.time': '', 'eth.addr.oui_resolved_raw': \"['4061869af1f5', 6, 6, 0, 26]\", 'dns.count.add_rr_raw': '', 'frame.encap_type': '1', 'tls.handshake.ciphersuites': '', 'eth.src.oui_resolved_raw': \"['4061869af1f5', 6, 6, 0, 26]\", 'tls.record.version_raw': '', 'tcp.window_size_raw': \"['3fa0', 48, 2, 0, 7]\", 'tcp.hdr_len': '20', 'ip.dst': '72.14.213.138', 'tcp.urgent_pointer_raw': \"['0000', 52, 2, 0, 5]\", 'tcp.options.mss_tree': '', 'data_raw': '', 'frame.offset_shift': '0.000000000', 'tcp.dstport': '80', 'ip.flags.mf': '0', 'tcp.flags.urg_raw': \"['0', 47, 1, 32, 2]\", 'frame.marked': '0', 'dhcp.option.type_tree': '', 'eth.src_raw': \"['4061869af1f5', 6, 6, 0, 29]\", 'ip.src_host_raw': \"['c0a80383', 26, 4, 0, 26]\", 'tcp.stream': '0', 'tcp.time_delta': '0.000000000', 'dns.count.answers': '', 'ip.id': '0x000076e0', 'tcp.flags.push_raw': \"['1', 47, 1, 8, 2]\", 'icmp.code': '', 'tls.handshake.challenge_length': '', 'ip_raw': '', 'arp.opcode_raw': '', 'ip.dsfield_raw': \"['00', 15, 1, 0, 4]\", 'ip.addr_raw': \"[['c0a80383', 26, 4, 0, 32], ['480ed58a', 30, 4, 0, 32]]\", 'tls.handshake.session_id_length_raw': '', 'udp.srcport': '', 'tls.handshake.challenge_length_raw': '', 'ip.version': '4', 'data.data': '', 'icmp.type': '', 'ip.src_raw': \"['c0a80383', 26, 4, 0, 32]\", 'eth.dst.lg': '0', 'tcp.flags.ecn_raw': \"['0', 47, 1, 64, 2]\", 'ip.dst_raw': \"['480ed58a', 30, 4, 0, 32]\", 'eth.src.oui_raw': \"['406186', 6, 3, 0, 6]\", 'dhcp.hw.mac_addr': '', 'icmp.unused_raw': '', 'icmp.resp_to': '', 'tcp.flags.res': '0', 'eth.dst.ig_raw': \"['0', 0, 3, 65536, 2]\", 'dns.response_to': '', 'tcp.flags.push': '1', 'icmp.unused': '', 'ip.version_raw': \"['4', 14, 1, 240, 4]\", 'eth.addr.oui_resolved': \"Micro-Star Int'L Co.,Ltd\", 'eth.dst': '00:1a:8c:15:f9:80', 'eth.padding': '', 'eth.src': '40:61:86:9a:f1:f5', 'tcp.ack_raw': '2428019935', 'tcp.options.sack_perm': '', 'icmp.ident': '', 'http.request.full_uri': '', 'dhcp.hw.mac_addr_raw': '', 'dhcp.ip.relay': '', 'eth.dst.oui': '6796', 'udp.port_raw': '', 'arp.hw.type': '', 'dhcp.ip.relay_raw': '', 'ip.src_host': '192.168.3.131', 'tcp.flags.syn': '0', 'eth.ig': '0', 'tcp.analysis.flags': '', 'tls.handshake.cipher_spec_len_raw': '', 'frame.len': '997', 'tls.handshake_raw': '', 'tls.handshake.challenge_raw': '', 'tcp.analysis.ack_rtt': '', 'ip.flags.rb_raw': \"['0', 20, 2, 32768, 2]\", 'tls.handshake.version': '', 'http.prev_request_in': '', 'eth.type': '0x00000800', 'ip.flags_tree': '', 'tcp.options.nop_tree': '', 'eth.dst.ig': '0', 'eth.dst.oui_resolved_raw': \"['001a8c15f980', 0, 6, 0, 26]\", 'arp.proto.type_raw': '', 'tls.handshake.cipher_spec_len': '', 'eth.src.oui': '4219270', 'tcp.flags.ns': '0', 'Queries': '', 'ip.len_raw': \"['03d7', 16, 2, 0, 5]\", 'icmp.seq_le_raw': '', 'tcp.analysis.duplicate_ack_frame_tree': '', 'eth.lg': '0', 'arp.dst.hw_mac_raw': '', 'eth.dst_raw': \"['001a8c15f980', 0, 6, 0, 29]\", 'tcp.options.sack_perm_raw': '', 'ip.dsfield.dscp': '0', 'dhcp.type_raw': '', 'dhcp.option.type': '', 'dhcp.hw.addr_padding': '', 'ip.proto_raw': \"['06', 23, 1, 0, 4]\", 'tcp.flags_raw': \"['18', 46, 2, 4095, 5]\", 'tcp.options.mss_raw': '', 'http.request.line': '', 'tls.record.content_type': '', 'tcp.port': \"['57011', '80']\", 'ip.len': '983', 'tcp.ack_raw_raw': \"['90b8a4df', 42, 4, 0, 7]\", 'tcp.options.sack_raw': '', 'tcp.seq_raw_raw': \"['978a2298', 38, 4, 0, 7]\", 'dns.count.queries_raw': '', 'tcp.analysis.duplicate_ack_frame': '', 'udp_raw': '', 'udp.length_raw': '', 'ip.dsfield_tree': '', 'ip.flags_raw': \"['4000', 20, 2, 0, 5]\", 'ip.host_raw': \"[['c0a80383', 26, 4, 0, 26], ['480ed58a', 30, 4, 0, 26]]\", 'dhcp.option.padding': '', 'tls.handshake.challenge': '', 'dhcp.flags.reserved': '', 'tls.record_raw': '', 'dhcp.ip.your': '', 'udp.stream': '', 'http.host_raw': '', 'frame.number': '1', 'udp.port': '', 'frame.time_delta_displayed': '0.000000000', 'arp.opcode': '', 'tcp.seq': '1', 'tcp.analysis.initial_rtt': '', 'tls.handshake.type': '', 'icmp.resptime': '', 'ip.checksum.status': '2', 'tcp.flags.fin': '0', 'dhcp.server_raw': '', 'eth.addr_raw': \"['4061869af1f5', 6, 6, 0, 29]\", 'ip.flags.rb': '0', 'tcp.window_size_scalefactor_raw': \"['3fa0', 48, 2, 0, 15]\", 'tcp.analysis.duplicate_ack_num': '', 'tcp.payload_raw': \"['474554202f636f6d706c6574652f7365617263683f636c69656e743d6368726f6d6526686c3d656e2d555326713d637220485454502f312e310d0a486f73743a20636c69656e7473312e676f6f676c652e63610d0a436f6e6e656374696f6e3a206b6565702d616c6976650d0a557365722d4167656e743a204d6f7a696c6c612f352e30202857696e646f77733b20553b2057696e646f7773204e5420362e313b20656e2d555329204170706c655765624b69742f3533342e313020284b48544d4c2c206c696b65204765636b6f29204368726f6d652f382e302e3535322e323337205361666172692f3533342e31300d0a4163636570742d456e636f64696e673a20677a69702c6465666c6174652c736463680d0a4163636570742d4c616e67756167653a20656e2d55532c656e3b713d302e380d0a4163636570742d436861727365743a2049534f2d383835392d312c7574662d383b713d302e372c2a3b713d302e330d0a436f6f6b69653a20505245463d49443d633265333530303132323538646631633a553d333836613665626566306462323837633a46463d303a544d3d313239343136343239343a4c4d3d313239343136343239343a533d626375774d3656683565634b78716d6b3b205349443d44514141414e3441414142334d7737685341586d32397376665a517852686145564c35785f374a457957457977507466494b6d5632514d435a3631566653764778672d57437753374f596e456f6e61766452656954675a5f334a616c635079496e785962484736363868626866565278434857726143386c4e6868685a764334354c333257446a6b5052527930716d6f7a5f3353477a444467756d42326d67796a54486971526467456d6f707345766f756f62535a44527869785864414e76544879713835506d566e7a4b484b5f2d783768566459687534344a36505f6f4934625a576e4841393636516e6137337135594f50506576765a515658384637316e566a446b34614a4d354b686c41517742447835667a725639576b5f525f592d65677a3073444c396f43336642555247567770347977513b20485349443d4171674d334a6c7a72564133516b69797a3b204e49443d34333d465f6f535a57796f394e6961646b31376d363551744d39616c424a5134594c304230794150373172754e7161357356344a4f52496d73516f7655315057325045494937612d354b5569345943524d43657974756869776b5767536c57744845416a5f6e745f4546387938344d4e6d72746d527a4b394b746839364e342d62505a0d0a0d0a', 54, 943, 0, 30]\", 'tcp.srcport': '57011', 'tcp.options.eol_raw': '', 'layers': '[<ETH Layer>, <IP Layer>, <TCP Layer>, <HTTP Layer>, <FRAME_RAW Layer>, <ETH_RAW Layer>, <IP_RAW Layer>, <TCP_RAW Layer>, <HTTP_RAW Layer>]', 'tls.handshake.version_raw': '', 'tls.handshake.session_id_length': '', 'tcp.window_size_value_raw': \"['3fa0', 48, 2, 0, 5]\", 'ip.ttl': '128', 'tcp.flags.cwr_raw': \"['0', 47, 1, 128, 2]\", 'arp.hw.type_raw': '', 'ip.flags.mf_raw': \"['0', 20, 2, 8192, 2]\", 'frame.time_delta': '0.000000000', 'tls.app_data': '', 'icmp.seq': '', 'tcp.flags.syn_tree': '', 'tcp.flags.str': '·······AP···', 'Authoritative nameservers': '', 'tcp.options.wscale_raw': '', 'dhcp.hops': '', 'eth.dst_resolved': '00:1a:8c:15:f9:80', 'dhcp.id_raw': '', 'tcp.checksum_raw': \"['5df8', 50, 2, 0, 5]\", 'eth.addr_resolved': '40:61:86:9a:f1:f5', 'udp.checksum': '', 'tcp.flags.reset_tree': '', 'tcp.seq_raw': '2542412440', 'arp.src.hw_mac_raw': '', 'dhcp.file': '', 'dhcp.cookie': '', 'tls.record.length': '', 'frame.ignored': '0', 'dhcp.ip.client': '', 'tcp.flags.reset': '0', 'dns.count.answers_raw': '', 'ip.addr': \"['192.168.3.131', '72.14.213.138']\", 'dhcp.ip.server_raw': '', 'tls.handshake.type_raw': '', 'dns.id': '', 'udp.dstport': '', 'ip.dst_host': '72.14.213.138', 'tcp.options.nop': '', 'dns.flags_tree': '', 'ip.frag_offset_raw': \"['0', 20, 2, 8191, 5]\", 'dhcp.hw.type_raw': '', 'http.request_number': '', 'tcp.options_raw': '', 'dns.id_raw': '', 'eth.src.oui_resolved': \"Micro-Star Int'L Co.,Ltd\", 'eth.src_resolved_raw': \"['4061869af1f5', 6, 6, 0, 26]\", 'eth.lg_raw': \"['0', 6, 3, 131072, 2]\", 'tcp.dstport_raw': \"['0050', 36, 2, 0, 5]\", 'icmp.checksum.status': '', 'tcp.flags.ack': '1', 'dhcp.hw.addr_padding_raw': '', 'ip.proto': '6', 'dhcp.flags.reserved_raw': '', 'Answers': '', 'tls.record': '', 'tcp.urgent_pointer': '0', 'ip.host': \"['192.168.3.131', '72.14.213.138']\", 'tcp.options.wscale': '', 'tcp.len_raw': \"['50', 46, 1, 0, 7]\", 'tls.app_data_raw': '', 'tcp.nxtseq': '944', 'dhcp.file_raw': '', 'arp.dst.hw_mac': '', 'arp.src.proto_ipv4': '', 'tcp.options.eol': '', 'data.data_raw': '', 'tls.record.content_type_raw': '', 'raw_packet': 'b\\'\\\\x00\\\\x1a\\\\x8c\\\\x15\\\\xf9\\\\x80@a\\\\x86\\\\x9a\\\\xf1\\\\xf5\\\\x08\\\\x00E\\\\x00\\\\x03\\\\xd7v\\\\xe0@\\\\x00\\\\x80\\\\x06\\\\x9e|\\\\xc0\\\\xa8\\\\x03\\\\x83H\\\\x0e\\\\xd5\\\\x8a\\\\xde\\\\xb3\\\\x00P\\\\x97\\\\x8a\"\\\\x98\\\\x90\\\\xb8\\\\xa4\\\\xdfP\\\\x18?\\\\xa0]\\\\xf8\\\\x00\\\\x00GET /complete/search?client=chrome&hl=en-US&q=cr HTTP/1.1\\\\r\\\\nHost: clients1.google.ca\\\\r\\\\nConnection: keep-alive\\\\r\\\\nUser-Agent: Mozilla/5.0 (Windows; U; Windows NT 6.1; en-US) AppleWebKit/534.10 (KHTML, like Gecko) Chrome/8.0.552.237 Safari/534.10\\\\r\\\\nAccept-Encoding: gzip,deflate,sdch\\\\r\\\\nAccept-Language: en-US,en;q=0.8\\\\r\\\\nAccept-Charset: ISO-8859-1,utf-8;q=0.7,*;q=0.3\\\\r\\\\nCookie: PREF=ID=c2e350012258df1c:U=386a6ebef0db287c:FF=0:TM=1294164294:LM=1294164294:S=bcuwM6Vh5ecKxqmk; SID=DQAAAN4AAAB3Mw7hSAXm29svfZQxRhaEVL5x_7JEyWEywPtfIKmV2QMCZ61VfSvGxg-WCwS7OYnEonavdReiTgZ_3JalcPyInxYbHG668hbhfVRxCHWraC8lNhhhZvC45L32WDjkPRRy0qmoz_3SGzDDgumB2mgyjTHiqRdgEmopsEvouobSZDRxixXdANvTHyq85PmVnzKHK_-x7hVdYhu44J6P_oI4bZWnHA966Qna73q5YOPPevvZQVX8F71nVjDk4aJM5KhlAQwBDx5fzrV9Wk_R_Y-egz0sDL9oC3fBURGVwp4ywQ; HSID=AqgM3JlzrVA3Qkiyz; NID=43=F_oSZWyo9Niadk17m65QtM9alBJQ4YL0B0yAP71ruNqa5sV4JORImsQovU1PW2PEII7a-5KUi4YCRMCeytuhiwkWgSlWtHEAj_nt_EF8y84MNmrtmRzK9Kth96N4-bPZ\\\\r\\\\n\\\\r\\\\n\\'', 'icmp.ident_raw': '', 'dhcp.ip.client_raw': '', 'dhcp.server': '', 'dhcp.hw.len': '', 'ip.dsfield': '0x00000000', 'tcp.window_size': '16288', 'tcp.flags.fin_raw': \"['0', 47, 1, 1, 2]\", 'tcp.time_relative': '0.000000000', 'dns.count.add_rr': '', 'icmp.checksum': '', 'tcp.window_size_value': '16288', 'dns.flags': '', 'Additional records': '', 'tcp.options.nop_raw': '', 'ip.checksum_raw': \"['9e7c', 24, 2, 0, 5]\", 'ip.flags.df_raw': \"['1', 20, 2, 16384, 2]\", 'http.request': '', 'dhcp.type': '', 'eth.dst.lg_raw': \"['0', 0, 3, 131072, 2]\", 'tcp.flags.cwr': '0', 'tcp.flags.syn_raw': \"['0', 47, 1, 2, 2]\", 'tcp.flags.str_raw': \"['5018', 46, 2, 0, 26]\", 'tcp.ack': '1', 'eth.dst.oui_resolved': 'Sophos Ltd', 'tcp.checksum.status': '2', 'eth.src.lg_raw': \"['0', 6, 3, 131072, 2]\", 'udp.srcport_raw': '', 'eth.src.ig': '0', 'ssdp_raw': '', 'tcp.options.eol_tree': '', 'tcp.flags.reset_raw': \"['0', 47, 1, 4, 2]\", 'eth.dst_resolved_raw': \"['001a8c15f980', 0, 6, 0, 26]\", 'ip.hdr_len_raw': \"['45', 14, 1, 0, 4]\", 'dhcp.flags': '', 'tls.handshake.ciphersuites_raw': '', 'dhcp.secs_raw': '', 'ip.dsfield.ecn': '0', 'http.request.line_raw': '', 'dns.flags_raw': '', 'eth.addr': '40:61:86:9a:f1:f5', 'ip.id_raw': \"['76e0', 18, 2, 0, 5]\", 'frame.time_epoch': '1295981542.484409000', 'tcp.flags.ack_raw': \"['1', 47, 1, 16, 2]\", 'icmp.checksum_raw': '', 'icmp.seq_raw': '', 'tcp.hdr_len_raw': \"['50', 46, 1, 0, 4]\", 'ip.src': '192.168.3.131', 'dhcp.cookie_raw': '', 'tls.alert_message': '', 'filename': 'trace_ab12_2001-01-01_02_03-client-ip-1-2-3-4.pcap', 'arp.proto.size': '', 'udp.checksum.status': '', 'dhcp.ip.server': '', 'arp.hw.size_raw': '', 'tcp.flags.ecn': '0', 'tcp.flags.ns_raw': \"['0', 46, 1, 256, 2]\", 'eth.addr.oui_raw': \"['406186', 6, 3, 0, 6]\", 'dns.count.queries': '', 'tcp.options.wscale_tree': '', 'arp.proto.type': '', 'frame.cap_len': '997', 'arp.src.hw_mac': '', 'eth.type_raw': \"['0800', 12, 2, 0, 5]\", 'arp.hw.size': '', 'ip.dsfield.ecn_raw': \"['0', 15, 1, 3, 4]\", 'tcp.srcport_raw': \"['deb3', 34, 2, 0, 5]\", 'ip.frag_offset': '0', 'ip.dst_host_raw': \"['480ed58a', 30, 4, 0, 26]\", 'ip.checksum': '0x00009e7c', 'udp.checksum_raw': '', 'tcp.analysis.push_bytes_sent': '943', 'dhcp.option.padding_raw': '', 'dhcp.hw.len_raw': '', 'dhcp.flags.bc_raw': '', 'dhcp.hops_raw': '', 'eth.ig_raw': \"['0', 6, 3, 65536, 2]\", 'tcp.len': '943', 'tcp.analysis.bytes_in_flight': '943', 'tls.record.version': '', 'udp.time_relative': '', 'dns.count.auth_rr': '', 'tcp.analysis.acks_frame': '', 'frame.time_relative': '0.000000000', 'dhcp.option.type_raw': '', 'tcp.options.sack': '', 'eth.src.ig_raw': \"['0', 6, 3, 65536, 2]\", 'arp.proto.size_raw': '', 'icmp.code_raw': '', 'ip.flags': '0x00004000', 'dns.count.auth_rr_raw': '', 'tcp.flags.fin_tree': '', 'ip.dsfield.dscp_raw': \"['0', 15, 1, 252, 4]\", 'tcp.flags': '0x00000018', 'dhcp.flags_raw': '', 'eth.addr_resolved_raw': \"['4061869af1f5', 6, 6, 0, 26]\", 'icmp.type_raw': '', 'icmp.seq_le': '', 'M-SEARCH * HTTP/1.1\\\\r\\\\n': '', 'eth.src_resolved': '40:61:86:9a:f1:f5', 'eth.src.lg': '0', 'tcp.flags.urg': '0', 'frame.time': 'Jan 25, 2011 10:52:22.484409000 PST', 'ip.hdr_len': '20', 'tls.record.length_raw': '', 'ip.flags.df': '1', 'dhcp.id': '', 'tcp.port_raw': \"[['deb3', 34, 2, 0, 5], ['0050', 36, 2, 0, 5]]\", 'data.len': '', 'dhcp.ip.your_raw': '', 'arp.src.proto_ipv4_raw': ''}\n"
     ]
    }
   ],
   "source": [
    "# the output is a gzipped csv, so let's quickly pop that open and see what we have\n",
    "# we're going to use DictReader from the CSV lib, so we'll get back a list of dictionaries, where the keys in the dicts are the fieldnames\n",
    "# each dictionary in the list is a record (packet)\n",
    "\n",
    "from networkml.featurizers.csv_to_features import CSVToFeatures\n",
    "instance = CSVToFeatures()\n",
    "rows = instance.get_rows('trace_ab12_2001-01-01_02_03-client-ip-1-2-3-4.pcap.csv.gz', 'both')\n",
    "print(rows[0])\n",
    "\n"
   ]
  },
  {
   "cell_type": "code",
   "execution_count": 5,
   "metadata": {},
   "outputs": [
    {
     "name": "stdout",
     "output_type": "stream",
     "text": [
      "Importing class: Host\n",
      "Importing class: Generic\n",
      "Importing class: Flow\n",
      "Importing class: Packet\n",
      "Running method: Flow/default_tcp_5tuple\n",
      "Running method: Flow/default_udp_5tuple\n"
     ]
    },
    {
     "name": "stderr",
     "output_type": "stream",
     "text": [
      "INFO:networkml.featurizers.csv_to_features:GZipped CSV file(s) written out to: ['trace_ab12_2001-01-01_02_03-client-ip-1-2-3-4.features.csv.gz']\n"
     ]
    }
   ],
   "source": [
    "# we have a gzipped csv with all of the fields we could extract at the 'packet' level\n",
    "# (we could have supplied an arg above to do a different level, like 'flow')\n",
    "# we can now take that file and reduce or change or add which fields should be included using the featurizer\n",
    "\n",
    "# let's set a path to a gzipped csv (we'll use one we just made)\n",
    "path = 'trace_ab12_2001-01-01_02_03-client-ip-1-2-3-4.pcap.csv.gz'\n",
    "\n",
    "# let's change the output so it's easy to find\n",
    "output = 'trace_ab12_2001-01-01_02_03-client-ip-1-2-3-4.features.csv.gz'\n",
    "\n",
    "# we need to specify where the featurizer functions are\n",
    "features_path = '../networkml/featurizers/funcs'\n",
    "\n",
    "# set arguments for arg parse\n",
    "sys.argv = ['csv_to_features.py', f'-o{output}', f'-p{features_path}', path]\n",
    "\n",
    "from networkml.featurizers.csv_to_features import CSVToFeatures\n",
    "instance = CSVToFeatures()\n",
    "instance.main()\n"
   ]
  },
  {
   "cell_type": "code",
   "execution_count": 6,
   "metadata": {},
   "outputs": [
    {
     "name": "stdout",
     "output_type": "stream",
     "text": [
      "{'tcp.srcport': '57011', 'tcp.dstport': '80', 'ip.src_host': '192.168.3.131', 'frame.protocols': 'eth:ethertype:ip:tcp:http', 'udp.srcport': '', 'udp.dstport': '', 'ip.dst_host': '72.14.213.138'}\n"
     ]
    }
   ],
   "source": [
    "# the output is a gzipped csv again, so let's quickly pop that open and see what we have\n",
    "# we're going to use DictReader from the CSV lib, so we'll get back a list of dictionaries, where the keys in the dicts are the fieldnames\n",
    "# each dictionary in the list is a record (packet)\n",
    "\n",
    "from networkml.featurizers.csv_to_features import CSVToFeatures\n",
    "instance = CSVToFeatures()\n",
    "rows = instance.get_rows('trace_ab12_2001-01-01_02_03-client-ip-1-2-3-4.features.csv.gz', 'both')\n",
    "print(rows[0])"
   ]
  },
  {
   "cell_type": "markdown",
   "metadata": {},
   "source": [
    "### Writing New Featuzier Functions\n",
    "now that we can see how to turn PCAPs into CSVs and then use the featurizer to change the columns and make a new CSVlet's now look at how to write new featurizer functions and use them here's an example of an already included class with functions."
   ]
  },
  {
   "cell_type": "code",
   "execution_count": 7,
   "metadata": {},
   "outputs": [
    {
     "name": "stdout",
     "output_type": "stream",
     "text": [
      "from networkml.featurizers.features import Features\n",
      "\n",
      "\n",
      "\n",
      "class Flow(Features):\n",
      "\n",
      "\n",
      "\n",
      "    def default_tcp_5tuple(self, rows):\n",
      "\n",
      "        fields = ['ip.src_host', 'ip.dst_host', 'tcp.dstport', 'tcp.srcport', 'frame.protocols']\n",
      "\n",
      "        return self.get_columns(fields, rows)\n",
      "\n",
      "\n",
      "\n",
      "    def default_udp_5tuple(self, rows):\n",
      "\n",
      "        fields = ['ip.src_host', 'ip.dst_host', 'udp.dstport', 'udp.srcport', 'frame.protocols']\n",
      "\n",
      "        return self.get_columns(fields, rows)\n",
      "\n"
     ]
    }
   ],
   "source": [
    "with open('../networkml/featurizers/funcs/flow.py', 'r') as f:\n",
    "    for line in f:\n",
    "        print(line)"
   ]
  },
  {
   "cell_type": "code",
   "execution_count": 8,
   "metadata": {},
   "outputs": [
    {
     "name": "stdout",
     "output_type": "stream",
     "text": [
      "{'udp.time_delta': '', 'udp.dstport_raw': '', 'frame.protocols': 'eth:ethertype:ip:tcp:http', 'tls.handshake': '', 'dhcp.flags.bc': '', 'tcp.flags.res_raw': \"['0', 46, 1, 3584, 2]\", 'tcp.options.sack_perm_tree': '', 'tcp.options': '', 'udp.length': '', 'arp.dst.proto_ipv4_raw': '', 'ip.ttl_tree': '', 'arp.dst.proto_ipv4': '', 'tls.alert_message_raw': '', 'tcp.checksum': '0x00005df8', 'eth.addr.oui': '4219270', 'tcp.window_size_scalefactor': '-1', 'eth.padding_raw': '', 'tcp.options.mss': '', 'dhcp.hw.type': '', 'http.host': '', 'dhcp.secs': '', 'tcp.options.sack_tree': '', 'tcp.payload': '47:45:54:20:2f:63:6f:6d:70:6c:65:74:65:2f:73:65:61:72:63:68:3f:63:6c:69:65:6e:74:3d:63:68:72:6f:6d:65:26:68:6c:3d:65:6e:2d:55:53:26:71:3d:63:72:20:48:54:54:50:2f:31:2e:31:0d:0a:48:6f:73:74:3a:20:63:6c:69:65:6e:74:73:31:2e:67:6f:6f:67:6c:65:2e:63:61:0d:0a:43:6f:6e:6e:65:63:74:69:6f:6e:3a:20:6b:65:65:70:2d:61:6c:69:76:65:0d:0a:55:73:65:72:2d:41:67:65:6e:74:3a:20:4d:6f:7a:69:6c:6c:61:2f:35:2e:30:20:28:57:69:6e:64:6f:77:73:3b:20:55:3b:20:57:69:6e:64:6f:77:73:20:4e:54:20:36:2e:31:3b:20:65:6e:2d:55:53:29:20:41:70:70:6c:65:57:65:62:4b:69:74:2f:35:33:34:2e:31:30:20:28:4b:48:54:4d:4c:2c:20:6c:69:6b:65:20:47:65:63:6b:6f:29:20:43:68:72:6f:6d:65:2f:38:2e:30:2e:35:35:32:2e:32:33:37:20:53:61:66:61:72:69:2f:35:33:34:2e:31:30:0d:0a:41:63:63:65:70:74:2d:45:6e:63:6f:64:69:6e:67:3a:20:67:7a:69:70:2c:64:65:66:6c:61:74:65:2c:73:64:63:68:0d:0a:41:63:63:65:70:74:2d:4c:61:6e:67:75:61:67:65:3a:20:65:6e:2d:55:53:2c:65:6e:3b:71:3d:30:2e:38:0d:0a:41:63:63:65:70:74:2d:43:68:61:72:73:65:74:3a:20:49:53:4f:2d:38:38:35:39:2d:31:2c:75:74:66:2d:38:3b:71:3d:30:2e:37:2c:2a:3b:71:3d:30:2e:33:0d:0a:43:6f:6f:6b:69:65:3a:20:50:52:45:46:3d:49:44:3d:63:32:65:33:35:30:30:31:32:32:35:38:64:66:31:63:3a:55:3d:33:38:36:61:36:65:62:65:66:30:64:62:32:38:37:63:3a:46:46:3d:30:3a:54:4d:3d:31:32:39:34:31:36:34:32:39:34:3a:4c:4d:3d:31:32:39:34:31:36:34:32:39:34:3a:53:3d:62:63:75:77:4d:36:56:68:35:65:63:4b:78:71:6d:6b:3b:20:53:49:44:3d:44:51:41:41:41:4e:34:41:41:41:42:33:4d:77:37:68:53:41:58:6d:32:39:73:76:66:5a:51:78:52:68:61:45:56:4c:35:78:5f:37:4a:45:79:57:45:79:77:50:74:66:49:4b:6d:56:32:51:4d:43:5a:36:31:56:66:53:76:47:78:67:2d:57:43:77:53:37:4f:59:6e:45:6f:6e:61:76:64:52:65:69:54:67:5a:5f:33:4a:61:6c:63:50:79:49:6e:78:59:62:48:47:36:36:38:68:62:68:66:56:52:78:43:48:57:72:61:43:38:6c:4e:68:68:68:5a:76:43:34:35:4c:33:32:57:44:6a:6b:50:52:52:79:30:71:6d:6f:7a:5f:33:53:47:7a:44:44:67:75:6d:42:32:6d:67:79:6a:54:48:69:71:52:64:67:45:6d:6f:70:73:45:76:6f:75:6f:62:53:5a:44:52:78:69:78:58:64:41:4e:76:54:48:79:71:38:35:50:6d:56:6e:7a:4b:48:4b:5f:2d:78:37:68:56:64:59:68:75:34:34:4a:36:50:5f:6f:49:34:62:5a:57:6e:48:41:39:36:36:51:6e:61:37:33:71:35:59:4f:50:50:65:76:76:5a:51:56:58:38:46:37:31:6e:56:6a:44:6b:34:61:4a:4d:35:4b:68:6c:41:51:77:42:44:78:35:66:7a:72:56:39:57:6b:5f:52:5f:59:2d:65:67:7a:30:73:44:4c:39:6f:43:33:66:42:55:52:47:56:77:70:34:79:77:51:3b:20:48:53:49:44:3d:41:71:67:4d:33:4a:6c:7a:72:56:41:33:51:6b:69:79:7a:3b:20:4e:49:44:3d:34:33:3d:46:5f:6f:53:5a:57:79:6f:39:4e:69:61:64:6b:31:37:6d:36:35:51:74:4d:39:61:6c:42:4a:51:34:59:4c:30:42:30:79:41:50:37:31:72:75:4e:71:61:35:73:56:34:4a:4f:52:49:6d:73:51:6f:76:55:31:50:57:32:50:45:49:49:37:61:2d:35:4b:55:69:34:59:43:52:4d:43:65:79:74:75:68:69:77:6b:57:67:53:6c:57:74:48:45:41:6a:5f:6e:74:5f:45:46:38:79:38:34:4d:4e:6d:72:74:6d:52:7a:4b:39:4b:74:68:39:36:4e:34:2d:62:50:5a:0d:0a:0d:0a', 'eth.dst.oui_raw': \"['001a8c', 0, 3, 0, 6]\", 'ip.ttl_raw': \"['80', 22, 1, 0, 4]\", 'dns.time': '', 'eth.addr.oui_resolved_raw': \"['4061869af1f5', 6, 6, 0, 26]\", 'dns.count.add_rr_raw': '', 'frame.encap_type': '1', 'tls.handshake.ciphersuites': '', 'eth.src.oui_resolved_raw': \"['4061869af1f5', 6, 6, 0, 26]\", 'tls.record.version_raw': '', 'tcp.window_size_raw': \"['3fa0', 48, 2, 0, 7]\", 'tcp.hdr_len': '20', 'ip.dst': '72.14.213.138', 'tcp.urgent_pointer_raw': \"['0000', 52, 2, 0, 5]\", 'tcp.options.mss_tree': '', 'data_raw': '', 'frame.offset_shift': '0.000000000', 'tcp.dstport': '80', 'ip.flags.mf': '0', 'tcp.flags.urg_raw': \"['0', 47, 1, 32, 2]\", 'frame.marked': '0', 'dhcp.option.type_tree': '', 'eth.src_raw': \"['4061869af1f5', 6, 6, 0, 29]\", 'ip.src_host_raw': \"['c0a80383', 26, 4, 0, 26]\", 'tcp.stream': '0', 'tcp.time_delta': '0.000000000', 'dns.count.answers': '', 'ip.id': '0x000076e0', 'tcp.flags.push_raw': \"['1', 47, 1, 8, 2]\", 'icmp.code': '', 'tls.handshake.challenge_length': '', 'ip_raw': '', 'arp.opcode_raw': '', 'ip.dsfield_raw': \"['00', 15, 1, 0, 4]\", 'ip.addr_raw': \"[['c0a80383', 26, 4, 0, 32], ['480ed58a', 30, 4, 0, 32]]\", 'tls.handshake.session_id_length_raw': '', 'udp.srcport': '', 'tls.handshake.challenge_length_raw': '', 'ip.version': '4', 'data.data': '', 'icmp.type': '', 'ip.src_raw': \"['c0a80383', 26, 4, 0, 32]\", 'eth.dst.lg': '0', 'tcp.flags.ecn_raw': \"['0', 47, 1, 64, 2]\", 'ip.dst_raw': \"['480ed58a', 30, 4, 0, 32]\", 'eth.src.oui_raw': \"['406186', 6, 3, 0, 6]\", 'dhcp.hw.mac_addr': '', 'icmp.unused_raw': '', 'icmp.resp_to': '', 'tcp.flags.res': '0', 'eth.dst.ig_raw': \"['0', 0, 3, 65536, 2]\", 'dns.response_to': '', 'tcp.flags.push': '1', 'icmp.unused': '', 'ip.version_raw': \"['4', 14, 1, 240, 4]\", 'eth.addr.oui_resolved': \"Micro-Star Int'L Co.,Ltd\", 'eth.dst': '00:1a:8c:15:f9:80', 'eth.padding': '', 'eth.src': '40:61:86:9a:f1:f5', 'tcp.ack_raw': '2428019935', 'tcp.options.sack_perm': '', 'icmp.ident': '', 'http.request.full_uri': '', 'dhcp.hw.mac_addr_raw': '', 'dhcp.ip.relay': '', 'eth.dst.oui': '6796', 'udp.port_raw': '', 'arp.hw.type': '', 'dhcp.ip.relay_raw': '', 'ip.src_host': '192.168.3.131', 'tcp.flags.syn': '0', 'eth.ig': '0', 'tcp.analysis.flags': '', 'tls.handshake.cipher_spec_len_raw': '', 'frame.len': '997', 'tls.handshake_raw': '', 'tls.handshake.challenge_raw': '', 'tcp.analysis.ack_rtt': '', 'ip.flags.rb_raw': \"['0', 20, 2, 32768, 2]\", 'tls.handshake.version': '', 'http.prev_request_in': '', 'eth.type': '0x00000800', 'ip.flags_tree': '', 'tcp.options.nop_tree': '', 'eth.dst.ig': '0', 'eth.dst.oui_resolved_raw': \"['001a8c15f980', 0, 6, 0, 26]\", 'arp.proto.type_raw': '', 'tls.handshake.cipher_spec_len': '', 'eth.src.oui': '4219270', 'tcp.flags.ns': '0', 'Queries': '', 'ip.len_raw': \"['03d7', 16, 2, 0, 5]\", 'icmp.seq_le_raw': '', 'tcp.analysis.duplicate_ack_frame_tree': '', 'eth.lg': '0', 'arp.dst.hw_mac_raw': '', 'eth.dst_raw': \"['001a8c15f980', 0, 6, 0, 29]\", 'tcp.options.sack_perm_raw': '', 'ip.dsfield.dscp': '0', 'dhcp.type_raw': '', 'dhcp.option.type': '', 'dhcp.hw.addr_padding': '', 'ip.proto_raw': \"['06', 23, 1, 0, 4]\", 'tcp.flags_raw': \"['18', 46, 2, 4095, 5]\", 'tcp.options.mss_raw': '', 'http.request.line': '', 'tls.record.content_type': '', 'tcp.port': \"['57011', '80']\", 'ip.len': '983', 'tcp.ack_raw_raw': \"['90b8a4df', 42, 4, 0, 7]\", 'tcp.options.sack_raw': '', 'tcp.seq_raw_raw': \"['978a2298', 38, 4, 0, 7]\", 'dns.count.queries_raw': '', 'tcp.analysis.duplicate_ack_frame': '', 'udp_raw': '', 'udp.length_raw': '', 'ip.dsfield_tree': '', 'ip.flags_raw': \"['4000', 20, 2, 0, 5]\", 'ip.host_raw': \"[['c0a80383', 26, 4, 0, 26], ['480ed58a', 30, 4, 0, 26]]\", 'dhcp.option.padding': '', 'tls.handshake.challenge': '', 'dhcp.flags.reserved': '', 'tls.record_raw': '', 'dhcp.ip.your': '', 'udp.stream': '', 'http.host_raw': '', 'frame.number': '1', 'udp.port': '', 'frame.time_delta_displayed': '0.000000000', 'arp.opcode': '', 'tcp.seq': '1', 'tcp.analysis.initial_rtt': '', 'tls.handshake.type': '', 'icmp.resptime': '', 'ip.checksum.status': '2', 'tcp.flags.fin': '0', 'dhcp.server_raw': '', 'eth.addr_raw': \"['4061869af1f5', 6, 6, 0, 29]\", 'ip.flags.rb': '0', 'tcp.window_size_scalefactor_raw': \"['3fa0', 48, 2, 0, 15]\", 'tcp.analysis.duplicate_ack_num': '', 'tcp.payload_raw': \"['474554202f636f6d706c6574652f7365617263683f636c69656e743d6368726f6d6526686c3d656e2d555326713d637220485454502f312e310d0a486f73743a20636c69656e7473312e676f6f676c652e63610d0a436f6e6e656374696f6e3a206b6565702d616c6976650d0a557365722d4167656e743a204d6f7a696c6c612f352e30202857696e646f77733b20553b2057696e646f7773204e5420362e313b20656e2d555329204170706c655765624b69742f3533342e313020284b48544d4c2c206c696b65204765636b6f29204368726f6d652f382e302e3535322e323337205361666172692f3533342e31300d0a4163636570742d456e636f64696e673a20677a69702c6465666c6174652c736463680d0a4163636570742d4c616e67756167653a20656e2d55532c656e3b713d302e380d0a4163636570742d436861727365743a2049534f2d383835392d312c7574662d383b713d302e372c2a3b713d302e330d0a436f6f6b69653a20505245463d49443d633265333530303132323538646631633a553d333836613665626566306462323837633a46463d303a544d3d313239343136343239343a4c4d3d313239343136343239343a533d626375774d3656683565634b78716d6b3b205349443d44514141414e3441414142334d7737685341586d32397376665a517852686145564c35785f374a457957457977507466494b6d5632514d435a3631566653764778672d57437753374f596e456f6e61766452656954675a5f334a616c635079496e785962484736363868626866565278434857726143386c4e6868685a764334354c333257446a6b5052527930716d6f7a5f3353477a444467756d42326d67796a54486971526467456d6f707345766f756f62535a44527869785864414e76544879713835506d566e7a4b484b5f2d783768566459687534344a36505f6f4934625a576e4841393636516e6137337135594f50506576765a515658384637316e566a446b34614a4d354b686c41517742447835667a725639576b5f525f592d65677a3073444c396f43336642555247567770347977513b20485349443d4171674d334a6c7a72564133516b69797a3b204e49443d34333d465f6f535a57796f394e6961646b31376d363551744d39616c424a5134594c304230794150373172754e7161357356344a4f52496d73516f7655315057325045494937612d354b5569345943524d43657974756869776b5767536c57744845416a5f6e745f4546387938344d4e6d72746d527a4b394b746839364e342d62505a0d0a0d0a', 54, 943, 0, 30]\", 'tcp.srcport': '57011', 'tcp.options.eol_raw': '', 'layers': '[<ETH Layer>, <IP Layer>, <TCP Layer>, <HTTP Layer>, <FRAME_RAW Layer>, <ETH_RAW Layer>, <IP_RAW Layer>, <TCP_RAW Layer>, <HTTP_RAW Layer>]', 'tls.handshake.version_raw': '', 'tls.handshake.session_id_length': '', 'tcp.window_size_value_raw': \"['3fa0', 48, 2, 0, 5]\", 'ip.ttl': '128', 'tcp.flags.cwr_raw': \"['0', 47, 1, 128, 2]\", 'arp.hw.type_raw': '', 'ip.flags.mf_raw': \"['0', 20, 2, 8192, 2]\", 'frame.time_delta': '0.000000000', 'tls.app_data': '', 'icmp.seq': '', 'tcp.flags.syn_tree': '', 'tcp.flags.str': '·······AP···', 'Authoritative nameservers': '', 'tcp.options.wscale_raw': '', 'dhcp.hops': '', 'eth.dst_resolved': '00:1a:8c:15:f9:80', 'dhcp.id_raw': '', 'tcp.checksum_raw': \"['5df8', 50, 2, 0, 5]\", 'eth.addr_resolved': '40:61:86:9a:f1:f5', 'udp.checksum': '', 'tcp.flags.reset_tree': '', 'tcp.seq_raw': '2542412440', 'arp.src.hw_mac_raw': '', 'dhcp.file': '', 'dhcp.cookie': '', 'tls.record.length': '', 'frame.ignored': '0', 'dhcp.ip.client': '', 'tcp.flags.reset': '0', 'dns.count.answers_raw': '', 'ip.addr': \"['192.168.3.131', '72.14.213.138']\", 'dhcp.ip.server_raw': '', 'tls.handshake.type_raw': '', 'dns.id': '', 'udp.dstport': '', 'ip.dst_host': '72.14.213.138', 'tcp.options.nop': '', 'dns.flags_tree': '', 'ip.frag_offset_raw': \"['0', 20, 2, 8191, 5]\", 'dhcp.hw.type_raw': '', 'http.request_number': '', 'tcp.options_raw': '', 'dns.id_raw': '', 'eth.src.oui_resolved': \"Micro-Star Int'L Co.,Ltd\", 'eth.src_resolved_raw': \"['4061869af1f5', 6, 6, 0, 26]\", 'eth.lg_raw': \"['0', 6, 3, 131072, 2]\", 'tcp.dstport_raw': \"['0050', 36, 2, 0, 5]\", 'icmp.checksum.status': '', 'tcp.flags.ack': '1', 'dhcp.hw.addr_padding_raw': '', 'ip.proto': '6', 'dhcp.flags.reserved_raw': '', 'Answers': '', 'tls.record': '', 'tcp.urgent_pointer': '0', 'ip.host': \"['192.168.3.131', '72.14.213.138']\", 'tcp.options.wscale': '', 'tcp.len_raw': \"['50', 46, 1, 0, 7]\", 'tls.app_data_raw': '', 'tcp.nxtseq': '944', 'dhcp.file_raw': '', 'arp.dst.hw_mac': '', 'arp.src.proto_ipv4': '', 'tcp.options.eol': '', 'data.data_raw': '', 'tls.record.content_type_raw': '', 'raw_packet': 'b\\'\\\\x00\\\\x1a\\\\x8c\\\\x15\\\\xf9\\\\x80@a\\\\x86\\\\x9a\\\\xf1\\\\xf5\\\\x08\\\\x00E\\\\x00\\\\x03\\\\xd7v\\\\xe0@\\\\x00\\\\x80\\\\x06\\\\x9e|\\\\xc0\\\\xa8\\\\x03\\\\x83H\\\\x0e\\\\xd5\\\\x8a\\\\xde\\\\xb3\\\\x00P\\\\x97\\\\x8a\"\\\\x98\\\\x90\\\\xb8\\\\xa4\\\\xdfP\\\\x18?\\\\xa0]\\\\xf8\\\\x00\\\\x00GET /complete/search?client=chrome&hl=en-US&q=cr HTTP/1.1\\\\r\\\\nHost: clients1.google.ca\\\\r\\\\nConnection: keep-alive\\\\r\\\\nUser-Agent: Mozilla/5.0 (Windows; U; Windows NT 6.1; en-US) AppleWebKit/534.10 (KHTML, like Gecko) Chrome/8.0.552.237 Safari/534.10\\\\r\\\\nAccept-Encoding: gzip,deflate,sdch\\\\r\\\\nAccept-Language: en-US,en;q=0.8\\\\r\\\\nAccept-Charset: ISO-8859-1,utf-8;q=0.7,*;q=0.3\\\\r\\\\nCookie: PREF=ID=c2e350012258df1c:U=386a6ebef0db287c:FF=0:TM=1294164294:LM=1294164294:S=bcuwM6Vh5ecKxqmk; SID=DQAAAN4AAAB3Mw7hSAXm29svfZQxRhaEVL5x_7JEyWEywPtfIKmV2QMCZ61VfSvGxg-WCwS7OYnEonavdReiTgZ_3JalcPyInxYbHG668hbhfVRxCHWraC8lNhhhZvC45L32WDjkPRRy0qmoz_3SGzDDgumB2mgyjTHiqRdgEmopsEvouobSZDRxixXdANvTHyq85PmVnzKHK_-x7hVdYhu44J6P_oI4bZWnHA966Qna73q5YOPPevvZQVX8F71nVjDk4aJM5KhlAQwBDx5fzrV9Wk_R_Y-egz0sDL9oC3fBURGVwp4ywQ; HSID=AqgM3JlzrVA3Qkiyz; NID=43=F_oSZWyo9Niadk17m65QtM9alBJQ4YL0B0yAP71ruNqa5sV4JORImsQovU1PW2PEII7a-5KUi4YCRMCeytuhiwkWgSlWtHEAj_nt_EF8y84MNmrtmRzK9Kth96N4-bPZ\\\\r\\\\n\\\\r\\\\n\\'', 'icmp.ident_raw': '', 'dhcp.ip.client_raw': '', 'dhcp.server': '', 'dhcp.hw.len': '', 'ip.dsfield': '0x00000000', 'tcp.window_size': '16288', 'tcp.flags.fin_raw': \"['0', 47, 1, 1, 2]\", 'tcp.time_relative': '0.000000000', 'dns.count.add_rr': '', 'icmp.checksum': '', 'tcp.window_size_value': '16288', 'dns.flags': '', 'Additional records': '', 'tcp.options.nop_raw': '', 'ip.checksum_raw': \"['9e7c', 24, 2, 0, 5]\", 'ip.flags.df_raw': \"['1', 20, 2, 16384, 2]\", 'http.request': '', 'dhcp.type': '', 'eth.dst.lg_raw': \"['0', 0, 3, 131072, 2]\", 'tcp.flags.cwr': '0', 'tcp.flags.syn_raw': \"['0', 47, 1, 2, 2]\", 'tcp.flags.str_raw': \"['5018', 46, 2, 0, 26]\", 'tcp.ack': '1', 'eth.dst.oui_resolved': 'Sophos Ltd', 'tcp.checksum.status': '2', 'eth.src.lg_raw': \"['0', 6, 3, 131072, 2]\", 'udp.srcport_raw': '', 'eth.src.ig': '0', 'ssdp_raw': '', 'tcp.options.eol_tree': '', 'tcp.flags.reset_raw': \"['0', 47, 1, 4, 2]\", 'eth.dst_resolved_raw': \"['001a8c15f980', 0, 6, 0, 26]\", 'ip.hdr_len_raw': \"['45', 14, 1, 0, 4]\", 'dhcp.flags': '', 'tls.handshake.ciphersuites_raw': '', 'dhcp.secs_raw': '', 'ip.dsfield.ecn': '0', 'http.request.line_raw': '', 'dns.flags_raw': '', 'eth.addr': '40:61:86:9a:f1:f5', 'ip.id_raw': \"['76e0', 18, 2, 0, 5]\", 'frame.time_epoch': '1295981542.484409000', 'tcp.flags.ack_raw': \"['1', 47, 1, 16, 2]\", 'icmp.checksum_raw': '', 'icmp.seq_raw': '', 'tcp.hdr_len_raw': \"['50', 46, 1, 0, 4]\", 'ip.src': '192.168.3.131', 'dhcp.cookie_raw': '', 'tls.alert_message': '', 'filename': 'trace_ab12_2001-01-01_02_03-client-ip-1-2-3-4.pcap', 'arp.proto.size': '', 'udp.checksum.status': '', 'dhcp.ip.server': '', 'arp.hw.size_raw': '', 'tcp.flags.ecn': '0', 'tcp.flags.ns_raw': \"['0', 46, 1, 256, 2]\", 'eth.addr.oui_raw': \"['406186', 6, 3, 0, 6]\", 'dns.count.queries': '', 'tcp.options.wscale_tree': '', 'arp.proto.type': '', 'frame.cap_len': '997', 'arp.src.hw_mac': '', 'eth.type_raw': \"['0800', 12, 2, 0, 5]\", 'arp.hw.size': '', 'ip.dsfield.ecn_raw': \"['0', 15, 1, 3, 4]\", 'tcp.srcport_raw': \"['deb3', 34, 2, 0, 5]\", 'ip.frag_offset': '0', 'ip.dst_host_raw': \"['480ed58a', 30, 4, 0, 26]\", 'ip.checksum': '0x00009e7c', 'udp.checksum_raw': '', 'tcp.analysis.push_bytes_sent': '943', 'dhcp.option.padding_raw': '', 'dhcp.hw.len_raw': '', 'dhcp.flags.bc_raw': '', 'dhcp.hops_raw': '', 'eth.ig_raw': \"['0', 6, 3, 65536, 2]\", 'tcp.len': '943', 'tcp.analysis.bytes_in_flight': '943', 'tls.record.version': '', 'udp.time_relative': '', 'dns.count.auth_rr': '', 'tcp.analysis.acks_frame': '', 'frame.time_relative': '0.000000000', 'dhcp.option.type_raw': '', 'tcp.options.sack': '', 'eth.src.ig_raw': \"['0', 6, 3, 65536, 2]\", 'arp.proto.size_raw': '', 'icmp.code_raw': '', 'ip.flags': '0x00004000', 'dns.count.auth_rr_raw': '', 'tcp.flags.fin_tree': '', 'ip.dsfield.dscp_raw': \"['0', 15, 1, 252, 4]\", 'tcp.flags': '0x00000018', 'dhcp.flags_raw': '', 'eth.addr_resolved_raw': \"['4061869af1f5', 6, 6, 0, 26]\", 'icmp.type_raw': '', 'icmp.seq_le': '', 'M-SEARCH * HTTP/1.1\\\\r\\\\n': '', 'eth.src_resolved': '40:61:86:9a:f1:f5', 'eth.src.lg': '0', 'tcp.flags.urg': '0', 'frame.time': 'Jan 25, 2011 10:52:22.484409000 PST', 'ip.hdr_len': '20', 'tls.record.length_raw': '', 'ip.flags.df': '1', 'dhcp.id': '', 'tcp.port_raw': \"[['deb3', 34, 2, 0, 5], ['0050', 36, 2, 0, 5]]\", 'data.len': '', 'dhcp.ip.your_raw': '', 'arp.src.proto_ipv4_raw': ''}\n"
     ]
    }
   ],
   "source": [
    "# So simply use an existing python file and class already in the `funcs` directory\n",
    "# or create a new one, and make sure the class subclasses `Features`\n",
    "# and the function signatures take in rows and return rows\n",
    "# the above example as a helper function `get_columns` that lets you provide a list of fields and the rows\n",
    "# and returns the rows with only those fields\n",
    "\n",
    "# You don't need to use the helper function, but the returns rows should be a list of dictionaries\n",
    "# just like the input of rows is (the same thing you get back from a CSV DictReader)\n",
    "\n",
    "# Here's a sample to test:\n",
    "from networkml.featurizers.csv_to_features import CSVToFeatures\n",
    "instance = CSVToFeatures()\n",
    "rows = instance.get_rows('trace_ab12_2001-01-01_02_03-client-ip-1-2-3-4.pcap.csv.gz', 'both')\n",
    "print(rows[0])"
   ]
  },
  {
   "cell_type": "code",
   "execution_count": 9,
   "metadata": {},
   "outputs": [
    {
     "name": "stdout",
     "output_type": "stream",
     "text": [
      "{'layers': '[<ETH Layer>, <IP Layer>, <TCP Layer>, <HTTP Layer>, <FRAME_RAW Layer>, <ETH_RAW Layer>, <IP_RAW Layer>, <TCP_RAW Layer>, <HTTP_RAW Layer>]', 'eth.src.oui_resolved': \"Micro-Star Int'L Co.,Ltd\", 'eth.dst.oui_resolved': 'Sophos Ltd'}\n"
     ]
    }
   ],
   "source": [
    "from networkml.featurizers.features import Features\n",
    "\n",
    "class Flow(Features):\n",
    "\n",
    "    def example_simple(self, rows):\n",
    "        fields = ['layers', 'eth.src.oui_resolved', 'eth.dst.oui_resolved']\n",
    "        return self.get_columns(fields, rows)\n",
    "\n",
    "flow = Flow()\n",
    "new_rows = flow.example_simple(rows)\n",
    "print(new_rows[0])"
   ]
  },
  {
   "cell_type": "code",
   "execution_count": 10,
   "metadata": {},
   "outputs": [
    {
     "data": {
      "text/plain": [
       "dict_keys(['udp.time_delta', 'udp.dstport_raw', 'frame.protocols', 'tls.handshake', 'dhcp.flags.bc', 'tcp.flags.res_raw', 'tcp.options.sack_perm_tree', 'tcp.options', 'udp.length', 'arp.dst.proto_ipv4_raw', 'ip.ttl_tree', 'arp.dst.proto_ipv4', 'tls.alert_message_raw', 'tcp.checksum', 'eth.addr.oui', 'tcp.window_size_scalefactor', 'eth.padding_raw', 'tcp.options.mss', 'dhcp.hw.type', 'http.host', 'dhcp.secs', 'tcp.options.sack_tree', 'tcp.payload', 'eth.dst.oui_raw', 'ip.ttl_raw', 'dns.time', 'eth.addr.oui_resolved_raw', 'dns.count.add_rr_raw', 'frame.encap_type', 'tls.handshake.ciphersuites', 'eth.src.oui_resolved_raw', 'tls.record.version_raw', 'tcp.window_size_raw', 'tcp.hdr_len', 'ip.dst', 'tcp.urgent_pointer_raw', 'tcp.options.mss_tree', 'data_raw', 'frame.offset_shift', 'tcp.dstport', 'ip.flags.mf', 'tcp.flags.urg_raw', 'frame.marked', 'dhcp.option.type_tree', 'eth.src_raw', 'ip.src_host_raw', 'tcp.stream', 'tcp.time_delta', 'dns.count.answers', 'ip.id', 'tcp.flags.push_raw', 'icmp.code', 'tls.handshake.challenge_length', 'ip_raw', 'arp.opcode_raw', 'ip.dsfield_raw', 'ip.addr_raw', 'tls.handshake.session_id_length_raw', 'udp.srcport', 'tls.handshake.challenge_length_raw', 'ip.version', 'data.data', 'icmp.type', 'ip.src_raw', 'eth.dst.lg', 'tcp.flags.ecn_raw', 'ip.dst_raw', 'eth.src.oui_raw', 'dhcp.hw.mac_addr', 'icmp.unused_raw', 'icmp.resp_to', 'tcp.flags.res', 'eth.dst.ig_raw', 'dns.response_to', 'tcp.flags.push', 'icmp.unused', 'ip.version_raw', 'eth.addr.oui_resolved', 'eth.dst', 'eth.padding', 'eth.src', 'tcp.ack_raw', 'tcp.options.sack_perm', 'icmp.ident', 'http.request.full_uri', 'dhcp.hw.mac_addr_raw', 'dhcp.ip.relay', 'eth.dst.oui', 'udp.port_raw', 'arp.hw.type', 'dhcp.ip.relay_raw', 'ip.src_host', 'tcp.flags.syn', 'eth.ig', 'tcp.analysis.flags', 'tls.handshake.cipher_spec_len_raw', 'frame.len', 'tls.handshake_raw', 'tls.handshake.challenge_raw', 'tcp.analysis.ack_rtt', 'ip.flags.rb_raw', 'tls.handshake.version', 'http.prev_request_in', 'eth.type', 'ip.flags_tree', 'tcp.options.nop_tree', 'eth.dst.ig', 'eth.dst.oui_resolved_raw', 'arp.proto.type_raw', 'tls.handshake.cipher_spec_len', 'eth.src.oui', 'tcp.flags.ns', 'Queries', 'ip.len_raw', 'icmp.seq_le_raw', 'tcp.analysis.duplicate_ack_frame_tree', 'eth.lg', 'arp.dst.hw_mac_raw', 'eth.dst_raw', 'tcp.options.sack_perm_raw', 'ip.dsfield.dscp', 'dhcp.type_raw', 'dhcp.option.type', 'dhcp.hw.addr_padding', 'ip.proto_raw', 'tcp.flags_raw', 'tcp.options.mss_raw', 'http.request.line', 'tls.record.content_type', 'tcp.port', 'ip.len', 'tcp.ack_raw_raw', 'tcp.options.sack_raw', 'tcp.seq_raw_raw', 'dns.count.queries_raw', 'tcp.analysis.duplicate_ack_frame', 'udp_raw', 'udp.length_raw', 'ip.dsfield_tree', 'ip.flags_raw', 'ip.host_raw', 'dhcp.option.padding', 'tls.handshake.challenge', 'dhcp.flags.reserved', 'tls.record_raw', 'dhcp.ip.your', 'udp.stream', 'http.host_raw', 'frame.number', 'udp.port', 'frame.time_delta_displayed', 'arp.opcode', 'tcp.seq', 'tcp.analysis.initial_rtt', 'tls.handshake.type', 'icmp.resptime', 'ip.checksum.status', 'tcp.flags.fin', 'dhcp.server_raw', 'eth.addr_raw', 'ip.flags.rb', 'tcp.window_size_scalefactor_raw', 'tcp.analysis.duplicate_ack_num', 'tcp.payload_raw', 'tcp.srcport', 'tcp.options.eol_raw', 'layers', 'tls.handshake.version_raw', 'tls.handshake.session_id_length', 'tcp.window_size_value_raw', 'ip.ttl', 'tcp.flags.cwr_raw', 'arp.hw.type_raw', 'ip.flags.mf_raw', 'frame.time_delta', 'tls.app_data', 'icmp.seq', 'tcp.flags.syn_tree', 'tcp.flags.str', 'Authoritative nameservers', 'tcp.options.wscale_raw', 'dhcp.hops', 'eth.dst_resolved', 'dhcp.id_raw', 'tcp.checksum_raw', 'eth.addr_resolved', 'udp.checksum', 'tcp.flags.reset_tree', 'tcp.seq_raw', 'arp.src.hw_mac_raw', 'dhcp.file', 'dhcp.cookie', 'tls.record.length', 'frame.ignored', 'dhcp.ip.client', 'tcp.flags.reset', 'dns.count.answers_raw', 'ip.addr', 'dhcp.ip.server_raw', 'tls.handshake.type_raw', 'dns.id', 'udp.dstport', 'ip.dst_host', 'tcp.options.nop', 'dns.flags_tree', 'ip.frag_offset_raw', 'dhcp.hw.type_raw', 'http.request_number', 'tcp.options_raw', 'dns.id_raw', 'eth.src.oui_resolved', 'eth.src_resolved_raw', 'eth.lg_raw', 'tcp.dstport_raw', 'icmp.checksum.status', 'tcp.flags.ack', 'dhcp.hw.addr_padding_raw', 'ip.proto', 'dhcp.flags.reserved_raw', 'Answers', 'tls.record', 'tcp.urgent_pointer', 'ip.host', 'tcp.options.wscale', 'tcp.len_raw', 'tls.app_data_raw', 'tcp.nxtseq', 'dhcp.file_raw', 'arp.dst.hw_mac', 'arp.src.proto_ipv4', 'tcp.options.eol', 'data.data_raw', 'tls.record.content_type_raw', 'raw_packet', 'icmp.ident_raw', 'dhcp.ip.client_raw', 'dhcp.server', 'dhcp.hw.len', 'ip.dsfield', 'tcp.window_size', 'tcp.flags.fin_raw', 'tcp.time_relative', 'dns.count.add_rr', 'icmp.checksum', 'tcp.window_size_value', 'dns.flags', 'Additional records', 'tcp.options.nop_raw', 'ip.checksum_raw', 'ip.flags.df_raw', 'http.request', 'dhcp.type', 'eth.dst.lg_raw', 'tcp.flags.cwr', 'tcp.flags.syn_raw', 'tcp.flags.str_raw', 'tcp.ack', 'eth.dst.oui_resolved', 'tcp.checksum.status', 'eth.src.lg_raw', 'udp.srcport_raw', 'eth.src.ig', 'ssdp_raw', 'tcp.options.eol_tree', 'tcp.flags.reset_raw', 'eth.dst_resolved_raw', 'ip.hdr_len_raw', 'dhcp.flags', 'tls.handshake.ciphersuites_raw', 'dhcp.secs_raw', 'ip.dsfield.ecn', 'http.request.line_raw', 'dns.flags_raw', 'eth.addr', 'ip.id_raw', 'frame.time_epoch', 'tcp.flags.ack_raw', 'icmp.checksum_raw', 'icmp.seq_raw', 'tcp.hdr_len_raw', 'ip.src', 'dhcp.cookie_raw', 'tls.alert_message', 'filename', 'arp.proto.size', 'udp.checksum.status', 'dhcp.ip.server', 'arp.hw.size_raw', 'tcp.flags.ecn', 'tcp.flags.ns_raw', 'eth.addr.oui_raw', 'dns.count.queries', 'tcp.options.wscale_tree', 'arp.proto.type', 'frame.cap_len', 'arp.src.hw_mac', 'eth.type_raw', 'arp.hw.size', 'ip.dsfield.ecn_raw', 'tcp.srcport_raw', 'ip.frag_offset', 'ip.dst_host_raw', 'ip.checksum', 'udp.checksum_raw', 'tcp.analysis.push_bytes_sent', 'dhcp.option.padding_raw', 'dhcp.hw.len_raw', 'dhcp.flags.bc_raw', 'dhcp.hops_raw', 'eth.ig_raw', 'tcp.len', 'tcp.analysis.bytes_in_flight', 'tls.record.version', 'udp.time_relative', 'dns.count.auth_rr', 'tcp.analysis.acks_frame', 'frame.time_relative', 'dhcp.option.type_raw', 'tcp.options.sack', 'eth.src.ig_raw', 'arp.proto.size_raw', 'icmp.code_raw', 'ip.flags', 'dns.count.auth_rr_raw', 'tcp.flags.fin_tree', 'ip.dsfield.dscp_raw', 'tcp.flags', 'dhcp.flags_raw', 'eth.addr_resolved_raw', 'icmp.type_raw', 'icmp.seq_le', 'M-SEARCH * HTTP/1.1\\\\r\\\\n', 'eth.src_resolved', 'eth.src.lg', 'tcp.flags.urg', 'frame.time', 'ip.hdr_len', 'tls.record.length_raw', 'ip.flags.df', 'dhcp.id', 'tcp.port_raw', 'data.len', 'dhcp.ip.your_raw', 'arp.src.proto_ipv4_raw'])"
      ]
     },
     "execution_count": 10,
     "metadata": {},
     "output_type": "execute_result"
    }
   ],
   "source": [
    "# great, but how did we know the fields?\n",
    "rows[0].keys()"
   ]
  },
  {
   "cell_type": "code",
   "execution_count": 11,
   "metadata": {},
   "outputs": [
    {
     "name": "stdout",
     "output_type": "stream",
     "text": [
      "Number of original records: 14261\n",
      "\n",
      "Fields/Values in first record (row): {'layers': '[<ETH Layer>, <IP Layer>, <TCP Layer>, <MSNMS Layer>, <FRAME_RAW Layer>, <ETH_RAW Layer>, <IP_RAW Layer>, <TCP_RAW Layer>, <MSNMS_RAW Layer>]', 'eth.src.oui_resolved': 'PCS Computer Systems GmbH', 'eth.dst.oui_resolved': 'Realtek (UpTech? also reported)', 'Last Layer': 'MSNMS_RAW', 'Combined IPs': '10.0.2.15:64.4.9.254'}\n",
      "\n",
      "Number of records after deduplication: 708\n",
      "\n"
     ]
    }
   ],
   "source": [
    "# what if we want to create a new field/column or reduce the number of records/rows?\n",
    "from networkml.featurizers.features import Features\n",
    "\n",
    "class NewColumn(Features):\n",
    "\n",
    "    def example_modify(self, rows):\n",
    "        # reduce rows first as needed\n",
    "        fields = ['layers', 'eth.src.oui_resolved', 'eth.dst.oui_resolved', 'ip.src', 'ip.dst']\n",
    "        rows = self.get_columns(fields, rows)\n",
    "        \n",
    "        # create new columns using existing column info\n",
    "        last_layer = 'Last Layer'\n",
    "        combined_ips = 'Combined IPs'\n",
    "        # each row is a dict\n",
    "        for row in rows:\n",
    "            # not all rows are guaranteed to have 'layers'\n",
    "            if 'layers' in row:  \n",
    "                # get the last element in the stringified list and clean it up\n",
    "                row[last_layer] = row['layers'].split('<')[-1][:-2].split()[0]\n",
    "            \n",
    "            # not all rows are guaranteed to have 'ip.src' and ip.dst\n",
    "            if 'ip.src' in row and 'ip.dst' in row:\n",
    "                # combine two fields with a colon, making a new field\n",
    "                row[combined_ips] = row['ip.src']+':'+row['ip.dst']\n",
    "                # remove ip.src and ip.dst now that we have them\n",
    "                del row['ip.src']\n",
    "                del row['ip.dst']\n",
    "        \n",
    "        # remove duplicate rows\n",
    "        rows = [dict(t) for t in {tuple(d.items()) for d in rows}]\n",
    "        return rows\n",
    "\n",
    "print(f'Number of original records: {len(rows)}\\n')\n",
    "ncol = NewColumn()\n",
    "new_rows = ncol.example_modify(rows)\n",
    "print(f'Fields/Values in first record (row): {new_rows[0]}\\n')\n",
    "print(f'Number of records after deduplication: {len(new_rows)}\\n')"
   ]
  },
  {
   "cell_type": "code",
   "execution_count": null,
   "metadata": {},
   "outputs": [],
   "source": []
  }
 ],
 "metadata": {
  "kernelspec": {
   "display_name": "Python 3",
   "language": "python",
   "name": "python3"
  },
  "language_info": {
   "codemirror_mode": {
    "name": "ipython",
    "version": 3
   },
   "file_extension": ".py",
   "mimetype": "text/x-python",
   "name": "python",
   "nbconvert_exporter": "python",
   "pygments_lexer": "ipython3",
   "version": "3.7.6"
  }
 },
 "nbformat": 4,
 "nbformat_minor": 4
}
