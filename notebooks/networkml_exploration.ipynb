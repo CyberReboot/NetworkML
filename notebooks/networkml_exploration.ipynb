{
 "cells": [
  {
   "cell_type": "markdown",
   "metadata": {},
   "source": [
    "## IMPORTANT!!\n",
    "\n",
    "### From the root NetworkML directory, make sure you first run:\n",
    "```\n",
    "pip3 install .\n",
    "pip3 install nest_asyncio\n",
    "```\n",
    "\n",
    "NOTE: nest_asyncio is a needed hack to run this in jupyterlab/notebook. Additionally, you will also need to download Wireshark/tshark in order to use this notebook and then ensure that tshark is in the file path."
   ]
  },
  {
   "cell_type": "code",
   "execution_count": 1,
   "metadata": {},
   "outputs": [],
   "source": [
    "# some initial setup\n",
    "import sys\n",
    "\n",
    "# let's set a path to a pcap (we'll use one included in the tests)\n",
    "path = '../tests/test_data/trace_ab12_2001-01-01_02_03-client-ip-1-2-3-4.pcap'\n",
    "\n",
    "# let's change the output so it's easy to find\n",
    "output = 'trace_ab12_2001-01-01_02_03-client-ip-1-2-3-4.pcap.csv.gz'\n",
    "\n",
    "# set arguments for arg parse\n",
    "sys.argv = ['pcap_to_csv.py', f'-o{output}', path]"
   ]
  },
  {
   "cell_type": "code",
   "execution_count": 2,
   "metadata": {},
   "outputs": [
    {
     "name": "stderr",
     "output_type": "stream",
     "text": [
      "INFO:networkml.parsers.pcap_to_csv:Processing ../tests/test_data/trace_ab12_2001-01-01_02_03-client-ip-1-2-3-4.pcap\n",
      "INFO:networkml.parsers.pcap_to_csv:Finished ../tests/test_data/trace_ab12_2001-01-01_02_03-client-ip-1-2-3-4.pcap. 1/1 PCAPs done.\n",
      "INFO:networkml.parsers.pcap_to_csv:GZipped CSV file(s) written out to: ['trace_ab12_2001-01-01_02_03-client-ip-1-2-3-4.pcap.csv.gz']\n"
     ]
    },
    {
     "data": {
      "text/plain": [
       "''"
      ]
     },
     "execution_count": 2,
     "metadata": {},
     "output_type": "execute_result"
    }
   ],
   "source": [
    "# hack for jupyterlab since pyshark tries to take the main run loop\n",
    "import nest_asyncio\n",
    "nest_asyncio.apply()\n",
    "\n",
    "# import the class for converting PCAPs to CSVs\n",
    "from networkml.parsers.pcap_to_csv import PCAPToCSV\n",
    "instance = PCAPToCSV()\n",
    "\n",
    "# this will parse the args we specified above in sys.argv and run using them\n",
    "instance.main()\n",
    "\n",
    "# the will take a minute or so to run"
   ]
  },
  {
   "cell_type": "code",
   "execution_count": 3,
   "metadata": {},
   "outputs": [
    {
     "ename": "AttributeError",
     "evalue": "'CSVToFeatures' object has no attribute 'get_rows'",
     "output_type": "error",
     "traceback": [
      "\u001b[0;31m---------------------------------------------------------------------------\u001b[0m",
      "\u001b[0;31mAttributeError\u001b[0m                            Traceback (most recent call last)",
      "\u001b[0;32m<ipython-input-3-323777afe832>\u001b[0m in \u001b[0;36m<module>\u001b[0;34m\u001b[0m\n\u001b[1;32m      5\u001b[0m \u001b[0;32mfrom\u001b[0m \u001b[0mnetworkml\u001b[0m\u001b[0;34m.\u001b[0m\u001b[0mfeaturizers\u001b[0m\u001b[0;34m.\u001b[0m\u001b[0mcsv_to_features\u001b[0m \u001b[0;32mimport\u001b[0m \u001b[0mCSVToFeatures\u001b[0m\u001b[0;34m\u001b[0m\u001b[0;34m\u001b[0m\u001b[0m\n\u001b[1;32m      6\u001b[0m \u001b[0minstance\u001b[0m \u001b[0;34m=\u001b[0m \u001b[0mCSVToFeatures\u001b[0m\u001b[0;34m(\u001b[0m\u001b[0;34m)\u001b[0m\u001b[0;34m\u001b[0m\u001b[0;34m\u001b[0m\u001b[0m\n\u001b[0;32m----> 7\u001b[0;31m \u001b[0mrows\u001b[0m \u001b[0;34m=\u001b[0m \u001b[0minstance\u001b[0m\u001b[0;34m.\u001b[0m\u001b[0mget_rows\u001b[0m\u001b[0;34m(\u001b[0m\u001b[0;34m'trace_ab12_2001-01-01_02_03-client-ip-1-2-3-4.pcap.csv.gz'\u001b[0m\u001b[0;34m,\u001b[0m \u001b[0;34m'both'\u001b[0m\u001b[0;34m)\u001b[0m\u001b[0;34m\u001b[0m\u001b[0;34m\u001b[0m\u001b[0m\n\u001b[0m\u001b[1;32m      8\u001b[0m \u001b[0mprint\u001b[0m\u001b[0;34m(\u001b[0m\u001b[0mrows\u001b[0m\u001b[0;34m[\u001b[0m\u001b[0;36m0\u001b[0m\u001b[0;34m]\u001b[0m\u001b[0;34m)\u001b[0m\u001b[0;34m\u001b[0m\u001b[0;34m\u001b[0m\u001b[0m\n\u001b[1;32m      9\u001b[0m \u001b[0;34m\u001b[0m\u001b[0m\n",
      "\u001b[0;31mAttributeError\u001b[0m: 'CSVToFeatures' object has no attribute 'get_rows'"
     ]
    }
   ],
   "source": [
    "# the output is a gzipped csv, so let's quickly pop that open and see what we have\n",
    "# we're going to use DictReader from the CSV lib, so we'll get back a list of dictionaries, where the keys in the dicts are the fieldnames\n",
    "# each dictionary in the list is a record (packet)\n",
    "\n",
    "from networkml.featurizers.csv_to_features import CSVToFeatures\n",
    "instance = CSVToFeatures()\n",
    "rows = instance.get_rows('trace_ab12_2001-01-01_02_03-client-ip-1-2-3-4.pcap.csv.gz', 'both')\n",
    "print(rows[0])\n",
    "\n"
   ]
  },
  {
   "cell_type": "code",
   "execution_count": 4,
   "metadata": {},
   "outputs": [
    {
     "name": "stderr",
     "output_type": "stream",
     "text": [
      "INFO:networkml.featurizers.csv_to_features:Importing trace_ab12_2001-01-01_02_03-client-ip-1-2-3-4.pcap.csv.gz size 15717973\n",
      "INFO:networkml.featurizers.csv_to_features:Featurizing trace_ab12_2001-01-01_02_03-client-ip-1-2-3-4.pcap.csv.gz\n"
     ]
    },
    {
     "name": "stdout",
     "output_type": "stream",
     "text": [
      "Importing class: Host\n",
      "Importing class: SessionHost\n",
      "Importing class: Generic\n",
      "Importing class: Flow\n",
      "Importing class: Packet\n",
      "running Host/host_tshark_all...calculating intermediates.9 MACs, 1 sessions.MAC 00:04:00:81:81:d0 has minimum number of source IPs, selected as canonical source.MAC 1/1 100%."
     ]
    },
    {
     "name": "stderr",
     "output_type": "stream",
     "text": [
      "INFO:networkml.featurizers.csv_to_features:Finished trace_ab12_2001-01-01_02_03-client-ip-1-2-3-4.pcap.csv.gz. 1/1 CSVs done.\n",
      "INFO:networkml.featurizers.csv_to_features:GZipped CSV file(s) written out to: ['trace_ab12_2001-01-01_02_03-client-ip-1-2-3-4.features.csv.gz']\n"
     ]
    },
    {
     "name": "stdout",
     "output_type": "stream",
     "text": [
      "1s\n"
     ]
    },
    {
     "data": {
      "text/plain": [
       "''"
      ]
     },
     "execution_count": 4,
     "metadata": {},
     "output_type": "execute_result"
    }
   ],
   "source": [
    "# we have a gzipped csv with all of the fields we could extract at the 'packet' level\n",
    "# (we could have supplied an arg above to do a different level, like 'flow')\n",
    "# we can now take that file and reduce or change or add which fields should be included using the featurizer\n",
    "\n",
    "# let's set a path to a gzipped csv (we'll use one we just made)\n",
    "path = 'trace_ab12_2001-01-01_02_03-client-ip-1-2-3-4.pcap.csv.gz'\n",
    "\n",
    "# let's change the output so it's easy to find\n",
    "output = 'trace_ab12_2001-01-01_02_03-client-ip-1-2-3-4.features.csv.gz'\n",
    "\n",
    "# we need to specify where the featurizer functions are\n",
    "features_path = '../networkml/featurizers/funcs'\n",
    "\n",
    "# set arguments for arg parse\n",
    "sys.argv = ['csv_to_features.py', f'-o{output}', f'-p{features_path}', path]\n",
    "\n",
    "from networkml.featurizers.csv_to_features import CSVToFeatures\n",
    "instance = CSVToFeatures()\n",
    "instance.main()\n"
   ]
  },
  {
   "cell_type": "code",
   "execution_count": 5,
   "metadata": {},
   "outputs": [
    {
     "ename": "AttributeError",
     "evalue": "'CSVToFeatures' object has no attribute 'get_rows'",
     "output_type": "error",
     "traceback": [
      "\u001b[0;31m---------------------------------------------------------------------------\u001b[0m",
      "\u001b[0;31mAttributeError\u001b[0m                            Traceback (most recent call last)",
      "\u001b[0;32m<ipython-input-5-68965c047932>\u001b[0m in \u001b[0;36m<module>\u001b[0;34m\u001b[0m\n\u001b[1;32m      5\u001b[0m \u001b[0;32mfrom\u001b[0m \u001b[0mnetworkml\u001b[0m\u001b[0;34m.\u001b[0m\u001b[0mfeaturizers\u001b[0m\u001b[0;34m.\u001b[0m\u001b[0mcsv_to_features\u001b[0m \u001b[0;32mimport\u001b[0m \u001b[0mCSVToFeatures\u001b[0m\u001b[0;34m\u001b[0m\u001b[0;34m\u001b[0m\u001b[0m\n\u001b[1;32m      6\u001b[0m \u001b[0minstance\u001b[0m \u001b[0;34m=\u001b[0m \u001b[0mCSVToFeatures\u001b[0m\u001b[0;34m(\u001b[0m\u001b[0;34m)\u001b[0m\u001b[0;34m\u001b[0m\u001b[0;34m\u001b[0m\u001b[0m\n\u001b[0;32m----> 7\u001b[0;31m \u001b[0mrows\u001b[0m \u001b[0;34m=\u001b[0m \u001b[0minstance\u001b[0m\u001b[0;34m.\u001b[0m\u001b[0mget_rows\u001b[0m\u001b[0;34m(\u001b[0m\u001b[0;34m'trace_ab12_2001-01-01_02_03-client-ip-1-2-3-4.features.csv.gz'\u001b[0m\u001b[0;34m,\u001b[0m \u001b[0;34m'both'\u001b[0m\u001b[0;34m)\u001b[0m\u001b[0;34m\u001b[0m\u001b[0;34m\u001b[0m\u001b[0m\n\u001b[0m\u001b[1;32m      8\u001b[0m \u001b[0mprint\u001b[0m\u001b[0;34m(\u001b[0m\u001b[0mrows\u001b[0m\u001b[0;34m[\u001b[0m\u001b[0;36m0\u001b[0m\u001b[0;34m]\u001b[0m\u001b[0;34m)\u001b[0m\u001b[0;34m\u001b[0m\u001b[0;34m\u001b[0m\u001b[0m\n",
      "\u001b[0;31mAttributeError\u001b[0m: 'CSVToFeatures' object has no attribute 'get_rows'"
     ]
    }
   ],
   "source": [
    "# the output is a gzipped csv again, so let's quickly pop that open and see what we have\n",
    "# we're going to use DictReader from the CSV lib, so we'll get back a list of dictionaries, where the keys in the dicts are the fieldnames\n",
    "# each dictionary in the list is a record (packet)\n",
    "\n",
    "from networkml.featurizers.csv_to_features import CSVToFeatures\n",
    "instance = CSVToFeatures()\n",
    "rows = instance.get_rows('trace_ab12_2001-01-01_02_03-client-ip-1-2-3-4.features.csv.gz', 'both')\n",
    "print(rows[0])"
   ]
  },
  {
   "cell_type": "markdown",
   "metadata": {},
   "source": [
    "### Writing New Featuzier Functions\n",
    "now that we can see how to turn PCAPs into CSVs and then use the featurizer to change the columns and make a new CSV\n",
    "let's now look at how to write new featurizer functions and use them here's an example of an already included class with functions."
   ]
  },
  {
   "cell_type": "code",
   "execution_count": 7,
   "metadata": {},
   "outputs": [
    {
     "name": "stdout",
     "output_type": "stream",
     "text": [
      "from networkml.featurizers.features import Features\n",
      "\n",
      "\n",
      "\n",
      "class Flow(Features):\n",
      "\n",
      "\n",
      "\n",
      "    def default_tcp_5tuple(self, rows):\n",
      "\n",
      "        fields = ['ip.src_host', 'ip.dst_host', 'tcp.dstport', 'tcp.srcport', 'frame.protocols']\n",
      "\n",
      "        return self.get_columns(fields, rows)\n",
      "\n",
      "\n",
      "\n",
      "    def default_udp_5tuple(self, rows):\n",
      "\n",
      "        fields = ['ip.src_host', 'ip.dst_host', 'udp.dstport', 'udp.srcport', 'frame.protocols']\n",
      "\n",
      "        return self.get_columns(fields, rows)\n",
      "\n"
     ]
    }
   ],
   "source": [
    "with open('../networkml/featurizers/funcs/flow.py', 'r') as f:\n",
    "    for line in f:\n",
    "        print(line)"
   ]
  },
  {
   "cell_type": "code",
   "execution_count": 8,
   "metadata": {},
   "outputs": [
    {
     "ename": "AttributeError",
     "evalue": "'CSVToFeatures' object has no attribute 'get_rows'",
     "output_type": "error",
     "traceback": [
      "\u001b[0;31m---------------------------------------------------------------------------\u001b[0m",
      "\u001b[0;31mAttributeError\u001b[0m                            Traceback (most recent call last)",
      "\u001b[0;32m<ipython-input-8-b63f60819f25>\u001b[0m in \u001b[0;36m<module>\u001b[0;34m\u001b[0m\n\u001b[1;32m     11\u001b[0m \u001b[0;32mfrom\u001b[0m \u001b[0mnetworkml\u001b[0m\u001b[0;34m.\u001b[0m\u001b[0mfeaturizers\u001b[0m\u001b[0;34m.\u001b[0m\u001b[0mcsv_to_features\u001b[0m \u001b[0;32mimport\u001b[0m \u001b[0mCSVToFeatures\u001b[0m\u001b[0;34m\u001b[0m\u001b[0;34m\u001b[0m\u001b[0m\n\u001b[1;32m     12\u001b[0m \u001b[0minstance\u001b[0m \u001b[0;34m=\u001b[0m \u001b[0mCSVToFeatures\u001b[0m\u001b[0;34m(\u001b[0m\u001b[0;34m)\u001b[0m\u001b[0;34m\u001b[0m\u001b[0;34m\u001b[0m\u001b[0m\n\u001b[0;32m---> 13\u001b[0;31m \u001b[0mrows\u001b[0m \u001b[0;34m=\u001b[0m \u001b[0minstance\u001b[0m\u001b[0;34m.\u001b[0m\u001b[0mget_rows\u001b[0m\u001b[0;34m(\u001b[0m\u001b[0;34m'trace_ab12_2001-01-01_02_03-client-ip-1-2-3-4.pcap.csv.gz'\u001b[0m\u001b[0;34m,\u001b[0m \u001b[0;34m'both'\u001b[0m\u001b[0;34m)\u001b[0m\u001b[0;34m\u001b[0m\u001b[0;34m\u001b[0m\u001b[0m\n\u001b[0m\u001b[1;32m     14\u001b[0m \u001b[0mprint\u001b[0m\u001b[0;34m(\u001b[0m\u001b[0mrows\u001b[0m\u001b[0;34m[\u001b[0m\u001b[0;36m0\u001b[0m\u001b[0;34m]\u001b[0m\u001b[0;34m)\u001b[0m\u001b[0;34m\u001b[0m\u001b[0;34m\u001b[0m\u001b[0m\n",
      "\u001b[0;31mAttributeError\u001b[0m: 'CSVToFeatures' object has no attribute 'get_rows'"
     ]
    }
   ],
   "source": [
    "# So simply use an existing python file and class already in the `funcs` directory\n",
    "# or create a new one, and make sure the class subclasses `Features`\n",
    "# and the function signatures take in rows and return rows\n",
    "# the above example as a helper function `get_columns` that lets you provide a list of fields and the rows\n",
    "# and returns the rows with only those fields\n",
    "\n",
    "# You don't need to use the helper function, but the returns rows should be a list of dictionaries\n",
    "# just like the input of rows is (the same thing you get back from a CSV DictReader)\n",
    "\n",
    "# Here's a sample to test:\n",
    "from networkml.featurizers.csv_to_features import CSVToFeatures\n",
    "instance = CSVToFeatures()\n",
    "rows = instance.get_rows('trace_ab12_2001-01-01_02_03-client-ip-1-2-3-4.pcap.csv.gz', 'both')\n",
    "print(rows[0])"
   ]
  },
  {
   "cell_type": "code",
   "execution_count": 9,
   "metadata": {},
   "outputs": [
    {
     "ename": "NameError",
     "evalue": "name 'rows' is not defined",
     "output_type": "error",
     "traceback": [
      "\u001b[0;31m---------------------------------------------------------------------------\u001b[0m",
      "\u001b[0;31mNameError\u001b[0m                                 Traceback (most recent call last)",
      "\u001b[0;32m<ipython-input-9-ca6242c3c728>\u001b[0m in \u001b[0;36m<module>\u001b[0;34m\u001b[0m\n\u001b[1;32m      8\u001b[0m \u001b[0;34m\u001b[0m\u001b[0m\n\u001b[1;32m      9\u001b[0m \u001b[0mflow\u001b[0m \u001b[0;34m=\u001b[0m \u001b[0mFlow\u001b[0m\u001b[0;34m(\u001b[0m\u001b[0;34m)\u001b[0m\u001b[0;34m\u001b[0m\u001b[0;34m\u001b[0m\u001b[0m\n\u001b[0;32m---> 10\u001b[0;31m \u001b[0mnew_rows\u001b[0m \u001b[0;34m=\u001b[0m \u001b[0mflow\u001b[0m\u001b[0;34m.\u001b[0m\u001b[0mexample_simple\u001b[0m\u001b[0;34m(\u001b[0m\u001b[0mrows\u001b[0m\u001b[0;34m)\u001b[0m\u001b[0;34m\u001b[0m\u001b[0;34m\u001b[0m\u001b[0m\n\u001b[0m\u001b[1;32m     11\u001b[0m \u001b[0mprint\u001b[0m\u001b[0;34m(\u001b[0m\u001b[0mnew_rows\u001b[0m\u001b[0;34m[\u001b[0m\u001b[0;36m0\u001b[0m\u001b[0;34m]\u001b[0m\u001b[0;34m)\u001b[0m\u001b[0;34m\u001b[0m\u001b[0;34m\u001b[0m\u001b[0m\n",
      "\u001b[0;31mNameError\u001b[0m: name 'rows' is not defined"
     ]
    }
   ],
   "source": [
    "from networkml.featurizers.features import Features\n",
    "\n",
    "class Flow(Features):\n",
    "\n",
    "    def example_simple(self, rows):\n",
    "        fields = ['layers', 'eth.src.oui_resolved', 'eth.dst.oui_resolved']\n",
    "        return self.get_columns(fields, rows)\n",
    "\n",
    "flow = Flow()\n",
    "new_rows = flow.example_simple(rows)\n",
    "print(new_rows[0])"
   ]
  },
  {
   "cell_type": "code",
   "execution_count": 10,
   "metadata": {},
   "outputs": [
    {
     "ename": "NameError",
     "evalue": "name 'rows' is not defined",
     "output_type": "error",
     "traceback": [
      "\u001b[0;31m---------------------------------------------------------------------------\u001b[0m",
      "\u001b[0;31mNameError\u001b[0m                                 Traceback (most recent call last)",
      "\u001b[0;32m<ipython-input-10-aa833e78fb9e>\u001b[0m in \u001b[0;36m<module>\u001b[0;34m\u001b[0m\n\u001b[1;32m      1\u001b[0m \u001b[0;31m# great, but how did we know the fields?\u001b[0m\u001b[0;34m\u001b[0m\u001b[0;34m\u001b[0m\u001b[0;34m\u001b[0m\u001b[0m\n\u001b[0;32m----> 2\u001b[0;31m \u001b[0mrows\u001b[0m\u001b[0;34m[\u001b[0m\u001b[0;36m0\u001b[0m\u001b[0;34m]\u001b[0m\u001b[0;34m.\u001b[0m\u001b[0mkeys\u001b[0m\u001b[0;34m(\u001b[0m\u001b[0;34m)\u001b[0m\u001b[0;34m\u001b[0m\u001b[0;34m\u001b[0m\u001b[0m\n\u001b[0m",
      "\u001b[0;31mNameError\u001b[0m: name 'rows' is not defined"
     ]
    }
   ],
   "source": [
    "# great, but how did we know the fields?\n",
    "rows[0].keys()"
   ]
  },
  {
   "cell_type": "code",
   "execution_count": 11,
   "metadata": {},
   "outputs": [
    {
     "ename": "NameError",
     "evalue": "name 'rows' is not defined",
     "output_type": "error",
     "traceback": [
      "\u001b[0;31m---------------------------------------------------------------------------\u001b[0m",
      "\u001b[0;31mNameError\u001b[0m                                 Traceback (most recent call last)",
      "\u001b[0;32m<ipython-input-11-4ece65df51cf>\u001b[0m in \u001b[0;36m<module>\u001b[0;34m\u001b[0m\n\u001b[1;32m     31\u001b[0m         \u001b[0;32mreturn\u001b[0m \u001b[0mrows\u001b[0m\u001b[0;34m\u001b[0m\u001b[0;34m\u001b[0m\u001b[0m\n\u001b[1;32m     32\u001b[0m \u001b[0;34m\u001b[0m\u001b[0m\n\u001b[0;32m---> 33\u001b[0;31m \u001b[0mprint\u001b[0m\u001b[0;34m(\u001b[0m\u001b[0;34mf'Number of original records: {len(rows)}\\n'\u001b[0m\u001b[0;34m)\u001b[0m\u001b[0;34m\u001b[0m\u001b[0;34m\u001b[0m\u001b[0m\n\u001b[0m\u001b[1;32m     34\u001b[0m \u001b[0mncol\u001b[0m \u001b[0;34m=\u001b[0m \u001b[0mNewColumn\u001b[0m\u001b[0;34m(\u001b[0m\u001b[0;34m)\u001b[0m\u001b[0;34m\u001b[0m\u001b[0;34m\u001b[0m\u001b[0m\n\u001b[1;32m     35\u001b[0m \u001b[0mnew_rows\u001b[0m \u001b[0;34m=\u001b[0m \u001b[0mncol\u001b[0m\u001b[0;34m.\u001b[0m\u001b[0mexample_modify\u001b[0m\u001b[0;34m(\u001b[0m\u001b[0mrows\u001b[0m\u001b[0;34m)\u001b[0m\u001b[0;34m\u001b[0m\u001b[0;34m\u001b[0m\u001b[0m\n",
      "\u001b[0;31mNameError\u001b[0m: name 'rows' is not defined"
     ]
    }
   ],
   "source": [
    "# what if we want to create a new field/column or reduce the number of records/rows?\n",
    "from networkml.featurizers.features import Features\n",
    "\n",
    "class NewColumn(Features):\n",
    "\n",
    "    def example_modify(self, rows):\n",
    "        # reduce rows first as needed\n",
    "        fields = ['layers', 'eth.src.oui_resolved', 'eth.dst.oui_resolved', 'ip.src', 'ip.dst']\n",
    "        rows = self.get_columns(fields, rows)\n",
    "        \n",
    "        # create new columns using existing column info\n",
    "        last_layer = 'Last Layer'\n",
    "        combined_ips = 'Combined IPs'\n",
    "        # each row is a dict\n",
    "        for row in rows:\n",
    "            # not all rows are guaranteed to have 'layers'\n",
    "            if 'layers' in row:  \n",
    "                # get the last element in the stringified list and clean it up\n",
    "                row[last_layer] = row['layers'].split('<')[-1][:-2].split()[0]\n",
    "            \n",
    "            # not all rows are guaranteed to have 'ip.src' and ip.dst\n",
    "            if 'ip.src' in row and 'ip.dst' in row:\n",
    "                # combine two fields with a colon, making a new field\n",
    "                row[combined_ips] = row['ip.src']+':'+row['ip.dst']\n",
    "                # remove ip.src and ip.dst now that we have them\n",
    "                del row['ip.src']\n",
    "                del row['ip.dst']\n",
    "        \n",
    "        # remove duplicate rows\n",
    "        rows = [dict(t) for t in {tuple(d.items()) for d in rows}]\n",
    "        return rows\n",
    "\n",
    "print(f'Number of original records: {len(rows)}\\n')\n",
    "ncol = NewColumn()\n",
    "new_rows = ncol.example_modify(rows)\n",
    "print(f'Fields/Values in first record (row): {new_rows[0]}\\n')\n",
    "print(f'Number of records after deduplication: {len(new_rows)}\\n')"
   ]
  }
 ],
 "metadata": {
  "kernelspec": {
   "display_name": "Python 3",
   "language": "python",
   "name": "python3"
  },
  "language_info": {
   "codemirror_mode": {
    "name": "ipython",
    "version": 3
   },
   "file_extension": ".py",
   "mimetype": "text/x-python",
   "name": "python",
   "nbconvert_exporter": "python",
   "pygments_lexer": "ipython3",
   "version": "3.7.6"
  }
 },
 "nbformat": 4,
 "nbformat_minor": 4
}
